{
 "cells": [
  {
   "cell_type": "code",
   "execution_count": 88,
   "id": "39484717-540e-48c1-8b54-60ffaf3bb002",
   "metadata": {},
   "outputs": [
    {
     "data": {
      "text/plain": [
       "device(type='cpu')"
      ]
     },
     "execution_count": 88,
     "metadata": {},
     "output_type": "execute_result"
    }
   ],
   "source": [
    "# Imports and Initial Setup\n",
    "import os, copy, torch, itertools\n",
    "from transformers import BertTokenizer, BertForSequenceClassification, AdamW\n",
    "from torch.utils.data import DataLoader\n",
    "from sklearn.model_selection import train_test_split\n",
    "from sklearn.metrics import precision_recall_fscore_support, accuracy_score\n",
    "import pandas as pd\n",
    "import numpy as np\n",
    "from torch.nn import CrossEntropyLoss\n",
    "from tqdm import tqdm\n",
    "\n",
    "# Name to use for saving the model\n",
    "model_path = 'BERT Sentiment Model'\n",
    "\n",
    "# Dataset (CSV) Column Names\n",
    "sentence_column_name = \"Sentences\"\n",
    "sentiment_column_name = \"Final_Sent\"\n",
    "dataset_split_folder_name = \"Annotated Dataset Split\"\n",
    "\n",
    "# To Use GPU if available\n",
    "device = torch.device('cuda' if torch.cuda.is_available() else 'cpu')\n",
    "\n",
    "device"
   ]
  },
  {
   "cell_type": "code",
   "execution_count": 89,
   "id": "754d0227-4c7d-4b02-bf92-0ca020f88aa7",
   "metadata": {},
   "outputs": [
    {
     "data": {
      "text/plain": [
       "(                                              Sentences  \\\n",
       " 0     Nate Silver's Bolton has Kamala Harris leading...   \n",
       " 1     This razor-thin margin demonstrates that Penns...   \n",
       " 2                               Trump leads by just 1%.   \n",
       " 3     How critical is winning the state of Michigan ...   \n",
       " 4     Am I saying Trump's going to win it by 21 poin...   \n",
       " ...                                                 ...   \n",
       " 4016       Kamala Harris, I believe, fits all of those.   \n",
       " 4017  This idea that she's going to magically do bet...   \n",
       " 4018  It holds 15 electoral votes and it is very muc...   \n",
       " 4019  Harris holds narrow leads in four critical bat...   \n",
       " 4020  And so, I refuse a meeting with Donald Trump o...   \n",
       " \n",
       "      Presidential_Candidate         State  Vote_1  Vote_2  Final_Sent  \n",
       " 0             Kamala Harris      Michigan       1       0           1  \n",
       " 1              Donald Trump  Pennsylvania       1       1           1  \n",
       " 2              Donald Trump      Michigan       1       0           1  \n",
       " 3             Kamala Harris      Michigan       0      -1           0  \n",
       " 4              Donald Trump  Pennsylvania       0       1           0  \n",
       " ...                     ...           ...     ...     ...         ...  \n",
       " 4016          Kamala Harris       Arizona       1       0           1  \n",
       " 4017          Kamala Harris  Pennsylvania      -1       0           0  \n",
       " 4018          Kamala Harris      Michigan       0       0           0  \n",
       " 4019          Kamala Harris      Michigan       1       1           1  \n",
       " 4020           Donald Trump      Michigan      -1      -1          -1  \n",
       " \n",
       " [4021 rows x 6 columns],\n",
       "                                              Sentences Presidential_Candidate  \\\n",
       " 0    And if Trump is really winning Pennsylvania, d...           Donald Trump   \n",
       " 1    Republican voters are increasingly expressing ...           Donald Trump   \n",
       " 2                          They know what he has done.           Donald Trump   \n",
       " 3           You do have Trump sitting plus point five.           Donald Trump   \n",
       " 4    And she is actually changing her mind on a lot...          Kamala Harris   \n",
       " ..                                                 ...                    ...   \n",
       " 570  So I see a lot of signs that polling is not pi...          Kamala Harris   \n",
       " 571                    Right now, Trump might get 50%.           Donald Trump   \n",
       " 572  So you think Trump probably does have an advan...           Donald Trump   \n",
       " 573  Trump has a lot of issues that I wouldn't pref...           Donald Trump   \n",
       " 574  Trump, a master of using personal narratives t...           Donald Trump   \n",
       " \n",
       "             State  Vote_1  Vote_2  Final_Sent  \n",
       " 0    Pennsylvania      -1      -1          -1  \n",
       " 1        Michigan      -1       0          -1  \n",
       " 2        Michigan       1       0           1  \n",
       " 3        Michigan       1       0           1  \n",
       " 4    Pennsylvania       0      -1           0  \n",
       " ..            ...     ...     ...         ...  \n",
       " 570      Michigan      -1       0          -1  \n",
       " 571      Michigan       1       0           0  \n",
       " 572       Arizona       1       1           1  \n",
       " 573       Arizona       0       0           0  \n",
       " 574  Pennsylvania      -1       0          -1  \n",
       " \n",
       " [575 rows x 6 columns],\n",
       "                                               Sentences  \\\n",
       " 0     And the campaign has had a robust public relat...   \n",
       " 1                 Concrete plans, that's who Kamala is.   \n",
       " 2     What Kamala and her radical left cronies have ...   \n",
       " 3     Also, essentially, they see Kamala Harris as s...   \n",
       " 4                     She's she's behind by two points.   \n",
       " ...                                                 ...   \n",
       " 1144  So and also I do think Harris has some room to...   \n",
       " 1145  She's probably done because that's supposed to...   \n",
       " 1146  Does the Harris walls ticket benefit from that...   \n",
       " 1147  I will never be a Republican, but if I were he...   \n",
       " 1148  So I think people are waking up more so than w...   \n",
       " \n",
       "      Presidential_Candidate         State  Vote_1  Vote_2  Final_Sent  \n",
       " 0             Kamala Harris  Pennsylvania       0       1           0  \n",
       " 1             Kamala Harris       Arizona       1       0           1  \n",
       " 2             Kamala Harris       Arizona       1      -1          -1  \n",
       " 3             Kamala Harris      Michigan      -1       0          -1  \n",
       " 4             Kamala Harris       Arizona       1      -1          -1  \n",
       " ...                     ...           ...     ...     ...         ...  \n",
       " 1144          Kamala Harris       Arizona       1       0           1  \n",
       " 1145          Kamala Harris  Pennsylvania       0       1           0  \n",
       " 1146          Kamala Harris       Arizona       1       1           1  \n",
       " 1147           Donald Trump       Arizona      -1       0          -1  \n",
       " 1148          Kamala Harris       Arizona       1       0           0  \n",
       " \n",
       " [1149 rows x 6 columns])"
      ]
     },
     "execution_count": 89,
     "metadata": {},
     "output_type": "execute_result"
    }
   ],
   "source": [
    "# Data Splitting\n",
    "def split_data():\n",
    "    # Create output directory if it doesn't exist\n",
    "    os.makedirs(dataset_split_folder_name, exist_ok=True)\n",
    "    \n",
    "    # Define file paths\n",
    "    train_path = os.path.join(dataset_split_folder_name, 'train.csv')\n",
    "    val_path = os.path.join(dataset_split_folder_name, 'validation.csv')\n",
    "    test_path = os.path.join(dataset_split_folder_name, 'test.csv')\n",
    "    \n",
    "    # Check if split files already exist\n",
    "    if all(os.path.exists(f) for f in [train_path, val_path, test_path]):\n",
    "        train = pd.read_csv(train_path)\n",
    "        val = pd.read_csv(val_path)\n",
    "        test = pd.read_csv(test_path)\n",
    "        \n",
    "        return train, val, test\n",
    "    else:\n",
    "        # Load the dataset\n",
    "        df = pd.read_csv('annotated_dataset.csv')\n",
    "        \n",
    "        # Split data into 80% training+validation and 20% test\n",
    "        remaining, test = train_test_split(df, test_size=0.2, random_state=42)\n",
    "        # Split the remaining 80% into 70% training and 10% validation (0.125 of 80% = 10% overall)\n",
    "        train, val = train_test_split(remaining, test_size=0.125, random_state=42)\n",
    "        \n",
    "        # Save splits\n",
    "        train.to_csv(train_path, index=False)\n",
    "        val.to_csv(val_path, index=False)\n",
    "        test.to_csv(test_path, index=False)\n",
    "    \n",
    "        return train, val, test\n",
    "\n",
    "train, val, test = split_data()\n",
    "\n",
    "train, val, test"
   ]
  },
  {
   "cell_type": "code",
   "execution_count": 90,
   "id": "e93974fb-7a73-40ce-86f1-ec6a718ef6aa",
   "metadata": {},
   "outputs": [
    {
     "data": {
      "text/plain": [
       "tensor([0.9941, 1.1636, 0.8422])"
      ]
     },
     "execution_count": 90,
     "metadata": {},
     "output_type": "execute_result"
    }
   ],
   "source": [
    "# Set up the model and compute class weights\n",
    "def compute_class_weights(labels):\n",
    "    \"\"\"\n",
    "    Calculate weights for each class to handle imbalanced data\n",
    "    For example, if we have 100 positive but only 10 negative samples,\n",
    "    negative samples will get higher weight to balance their importance\n",
    "    \"\"\"\n",
    "    # Shift labels for model [-1, 0, 1] to [0, 1, 2]\n",
    "    mapped_labels = labels + 1\n",
    "    # Count how many samples we have of each class\n",
    "    class_counts = np.bincount(mapped_labels)\n",
    "    # Give higher weights to classes with fewer samples\n",
    "    weights = 1. / class_counts\n",
    "    # Normalize weights to sum to number of classes\n",
    "    weights = weights * len(class_counts) / weights.sum()\n",
    "    return torch.FloatTensor(weights)\n",
    "\n",
    "# Calculate weights for each class from training data\n",
    "class_weights = compute_class_weights(train[sentiment_column_name].values)\n",
    "class_weights = class_weights.to(device)  # Move weights to GPU if available\n",
    "\n",
    "class_weights"
   ]
  },
  {
   "cell_type": "code",
   "execution_count": 91,
   "id": "3fe13256-c790-4a57-834e-a8585c1a2d1c",
   "metadata": {},
   "outputs": [
    {
     "data": {
      "text/plain": [
       "BertTokenizer(name_or_path='bert-base-uncased', vocab_size=30522, model_max_length=512, is_fast=False, padding_side='right', truncation_side='right', special_tokens={'unk_token': '[UNK]', 'sep_token': '[SEP]', 'pad_token': '[PAD]', 'cls_token': '[CLS]', 'mask_token': '[MASK]'}, clean_up_tokenization_spaces=True, added_tokens_decoder={\n",
       "\t0: AddedToken(\"[PAD]\", rstrip=False, lstrip=False, single_word=False, normalized=False, special=True),\n",
       "\t100: AddedToken(\"[UNK]\", rstrip=False, lstrip=False, single_word=False, normalized=False, special=True),\n",
       "\t101: AddedToken(\"[CLS]\", rstrip=False, lstrip=False, single_word=False, normalized=False, special=True),\n",
       "\t102: AddedToken(\"[SEP]\", rstrip=False, lstrip=False, single_word=False, normalized=False, special=True),\n",
       "\t103: AddedToken(\"[MASK]\", rstrip=False, lstrip=False, single_word=False, normalized=False, special=True),\n",
       "}\n",
       ")"
      ]
     },
     "execution_count": 91,
     "metadata": {},
     "output_type": "execute_result"
    }
   ],
   "source": [
    "# Base BERT model to use\n",
    "model_name = 'bert-base-uncased'\n",
    "\n",
    "# Create a custom BERT model that can handle weighted loss\n",
    "class BertWithWeightedLoss(BertForSequenceClassification):\n",
    "    \"\"\"\n",
    "    Custom BERT model that applies different weights to each class\n",
    "    This helps handle imbalanced datasets better\n",
    "    \"\"\"\n",
    "    def __init__(self, config, class_weights):\n",
    "        super().__init__(config)\n",
    "        self.class_weights = class_weights # Store class weights for loss calculation\n",
    "    \n",
    "    def forward(self, input_ids, attention_mask=None, labels=None):\n",
    "        # Get model outputs without computing loss\n",
    "        outputs = super().forward(\n",
    "            input_ids=input_ids,\n",
    "            attention_mask=attention_mask,\n",
    "            labels=None # Set to None to prevent automatic loss calculation\n",
    "        )\n",
    "        \n",
    "        # Calculate weighted loss if labels are provided (training phase)\n",
    "        if labels is not None:\n",
    "            # Create loss function with class weights\n",
    "            loss_fct = CrossEntropyLoss(weight=self.class_weights)\n",
    "            # Calculate loss using model predictions and true labels\n",
    "            loss = loss_fct(\n",
    "                outputs.logits.view(-1, self.num_labels),  # Reshape predictions\n",
    "                labels.view(-1)                            # Reshape labels\n",
    "            )\n",
    "            outputs.loss = loss  # Add loss to outputs\n",
    "        \n",
    "        return outputs\n",
    "\n",
    "# Initialize the tokenizer that will convert text to numbers\n",
    "tokenizer = BertTokenizer.from_pretrained(model_name)\n",
    "\n",
    "tokenizer"
   ]
  },
  {
   "cell_type": "code",
   "execution_count": 92,
   "id": "af4a89e5-97b1-4659-ba1f-bcf5d1d28cae",
   "metadata": {},
   "outputs": [],
   "source": [
    "# Data Preparation Functions\n",
    "def create_data_loader(data, tokenizer, batch_size):\n",
    "    \"\"\"\n",
    "    Convert text data into a format BERT can understand and create batches\n",
    "    \n",
    "    Args:\n",
    "        data: DataFrame containing text and labels\n",
    "        tokenizer: BERT tokenizer to convert text to numbers\n",
    "        batch_size: How many samples to process at once\n",
    "    \n",
    "    Returns:\n",
    "        DataLoader that yields batches of processed data\n",
    "    \"\"\"\n",
    "    # Convert text to BERT input format with progress bar\n",
    "    encodings = tokenizer(\n",
    "        data[sentence_column_name].tolist(), # Convert sentences to list\n",
    "        truncation=True, # Cut texts longer than max_length\n",
    "        padding=True, # Pad texts shorter than max_length\n",
    "        max_length=128, # Maximum sequence length\n",
    "        return_tensors='pt', # Return PyTorch tensors\n",
    "        verbose=True # Show progress\n",
    "    )\n",
    "\n",
    "    # Create dataset by combining inputs and labels\n",
    "    dataset = torch.utils.data.TensorDataset(\n",
    "        encodings['input_ids'], # Tokenized text\n",
    "        encodings['attention_mask'], # Attention mask for padding\n",
    "        torch.tensor(data[sentiment_column_name].tolist()) # Labels\n",
    "    )\n",
    "    \n",
    "    return DataLoader(dataset, batch_size=batch_size, shuffle=True)\n"
   ]
  },
  {
   "cell_type": "code",
   "execution_count": 93,
   "id": "9ac60c60-8317-4241-9c80-745a5d9ef956",
   "metadata": {},
   "outputs": [],
   "source": [
    "# Evaluation Function\n",
    "def evaluate_model(model, data_loader, device):\n",
    "    \"\"\"\n",
    "    Evaluate model performance using various metrics\n",
    "    \n",
    "    Args:\n",
    "        model: The BERT model to evaluate\n",
    "        data_loader: DataLoader containing validation or test data\n",
    "        device: CPU or GPU\n",
    "    \n",
    "    Returns:\n",
    "        Dictionary containing various performance metrics\n",
    "    \"\"\"\n",
    "    model.eval() # Set model to evaluation mode\n",
    "    val_loss = 0\n",
    "    all_preds = []\n",
    "    all_labels = []\n",
    "    \n",
    "    with torch.no_grad(): # Don't compute gradients during evaluation\n",
    "        for batch in tqdm(data_loader, desc=\"Evaluation\"):\n",
    "            # Move batch to GPU if available\n",
    "            input_ids, attention_mask, labels = [b.to(device) for b in batch]\n",
    "            adjusted_labels = labels + 1 # Shift labels for model\n",
    "\n",
    "            # Get model predictions\n",
    "            outputs = model(input_ids, attention_mask, labels=adjusted_labels)\n",
    "            val_loss += outputs.loss.item()\n",
    "\n",
    "            # Store predictions and true labels\n",
    "            _, predicted = torch.max(outputs.logits, 1)\n",
    "            all_preds.extend((predicted - 1).cpu().numpy())\n",
    "            all_labels.extend((adjusted_labels - 1).cpu().numpy())\n",
    "\n",
    "    # Calculate various performance metrics\n",
    "    accuracy = accuracy_score(all_labels, all_preds)\n",
    "    precision, recall, f1, _ = precision_recall_fscore_support(all_labels, all_preds, average='weighted')\n",
    "    \n",
    "    return {\n",
    "        'loss': val_loss / len(data_loader),\n",
    "        'accuracy': accuracy,\n",
    "        'precision': precision,\n",
    "        'recall': recall,\n",
    "        'f1': f1\n",
    "    }"
   ]
  },
  {
   "cell_type": "code",
   "execution_count": 94,
   "id": "a16dc4b9-41cd-4383-b480-d9d5cb303c25",
   "metadata": {
    "jupyter": {
     "source_hidden": true
    }
   },
   "outputs": [],
   "source": [
    "# Training Function\n",
    "def train_model(model, train_loader, val_loader, device, epochs, learning_rate):\n",
    "    # Initialize optimizer\n",
    "    optimizer = AdamW(model.parameters(), lr=learning_rate)\n",
    "    val_metrics = None\n",
    "    train_loss = []\n",
    "    val_loss = []\n",
    "    val_accuracy = []\n",
    "    \n",
    "    # Training loop\n",
    "    for epoch in range(epochs):\n",
    "        model.train() # Set model to training mode\n",
    "        total_loss = 0\n",
    "        \n",
    "        # Process each batch\n",
    "        pbar = tqdm(train_loader, desc=f\"Epoch {epoch + 1}/{epochs} Training\")\n",
    "        for batch in pbar:\n",
    "            # Move batch to GPU if available\n",
    "            input_ids, attention_mask, labels = [b.to(device) for b in batch]\n",
    "            adjusted_labels = labels + 1 # Shift labels for model [-1, 0, 1] to [0, 1, 2]\n",
    "\n",
    "            # Training step\n",
    "            optimizer.zero_grad() # Clear previous gradients\n",
    "            outputs = model(input_ids, attention_mask, labels=adjusted_labels) # Forward pass\n",
    "            \n",
    "            loss = outputs.loss\n",
    "            total_loss += loss.item() # Accumulate loss\n",
    "\n",
    "            # Update model weights\n",
    "            loss.backward() # Backward pass\n",
    "            optimizer.step() # Update weights\n",
    "\n",
    "            # Update progress bar with current loss\n",
    "            pbar.set_postfix(loss=loss.item())\n",
    "\n",
    "        # Calculate average loss for this epoch\n",
    "        avg_train_loss = total_loss / len(train_loader)\n",
    "        print(f'Epoch {epoch + 1}/{epochs}, Average training loss: {avg_train_loss:.4f}')\n",
    "        train_loss.append(avg_train_loss)\n",
    "        \n",
    "        val_metrics = evaluate_model(model, val_loader, device)\n",
    "        print(f'Validation metrics: {val_metrics}')\n",
    "        val_loss.append(val_metrics['loss'])\n",
    "        val_accuracy.append(val_metrics['accuracy'])\n",
    "    \n",
    "    return model, val_metrics, {'train_loss': train_loss, 'val_loss': val_loss, 'val_accuracy': val_accuracy}"
   ]
  },
  {
   "cell_type": "code",
   "execution_count": 95,
   "id": "9f662c91-5ce7-4d94-aa27-c4f1c9e60e1c",
   "metadata": {},
   "outputs": [],
   "source": [
    "# Define different values to try for each parameter\n",
    "params = {\n",
    "    'learning_rate': 2e-5,\n",
    "    'batch_size': 16,\n",
    "    'epochs': 2\n",
    "}\n",
    "\n",
    "# Hyperparameter Tuning Function\n",
    "def hyperparameter_tuning(train_data, val_data, device, class_weights):\n",
    "    print(f\"\\nTrying parameters: {params}\")\n",
    "\n",
    "    # Create data loaders with current batch size\n",
    "    train_loader = create_data_loader(train_data, tokenizer, params['batch_size'])\n",
    "    val_loader = create_data_loader(val_data, tokenizer, params['batch_size'])\n",
    "\n",
    "    # Initialize the custom BERT model\n",
    "    model = BertWithWeightedLoss.from_pretrained(\n",
    "        model_name,\n",
    "        # Configure BERT for binary classification\n",
    "        config=BertForSequenceClassification.from_pretrained(\n",
    "            model_name,\n",
    "            num_labels=3,\n",
    "            output_attentions=False, # Don't output attention weights\n",
    "            output_hidden_states=False, # Don't output hidden states\n",
    "        ).config,\n",
    "        class_weights=class_weights\n",
    "    )\n",
    "    # Move model to GPU if available\n",
    "    model.to(device)\n",
    "\n",
    "    # Train model with current parameters\n",
    "    model, val_metrics, metric_seq = train_model(\n",
    "        model, \n",
    "        train_loader, \n",
    "        val_loader,\n",
    "        device,\n",
    "        params['epochs'],\n",
    "        params['learning_rate']\n",
    "    )\n",
    "    \n",
    "    return model, val_metrics, metric_seq"
   ]
  },
  {
   "cell_type": "code",
   "execution_count": 96,
   "id": "fb3baed1-07a5-4a81-8871-d29773eb2429",
   "metadata": {},
   "outputs": [
    {
     "name": "stdout",
     "output_type": "stream",
     "text": [
      "\n",
      "Trying parameters: {'learning_rate': 2e-05, 'batch_size': 16, 'epochs': 2}\n"
     ]
    },
    {
     "name": "stderr",
     "output_type": "stream",
     "text": [
      "Some weights of BertForSequenceClassification were not initialized from the model checkpoint at bert-base-uncased and are newly initialized: ['classifier.bias', 'classifier.weight']\n",
      "You should probably TRAIN this model on a down-stream task to be able to use it for predictions and inference.\n",
      "Some weights of BertWithWeightedLoss were not initialized from the model checkpoint at bert-base-uncased and are newly initialized: ['classifier.bias', 'classifier.weight']\n",
      "You should probably TRAIN this model on a down-stream task to be able to use it for predictions and inference.\n",
      "C:\\Users\\MSI Laptop\\AppData\\Local\\Programs\\Python\\Python311\\Lib\\site-packages\\transformers\\optimization.py:591: FutureWarning: This implementation of AdamW is deprecated and will be removed in a future version. Use the PyTorch implementation torch.optim.AdamW instead, or set `no_deprecation_warning=True` to disable this warning\n",
      "  warnings.warn(\n",
      "Epoch 1/2 Training: 100%|█████████████████████████████████████████████████| 252/252 [20:10<00:00,  4.80s/it, loss=1.28]\n"
     ]
    },
    {
     "name": "stdout",
     "output_type": "stream",
     "text": [
      "Epoch 1/2, Average training loss: 0.8701\n"
     ]
    },
    {
     "name": "stderr",
     "output_type": "stream",
     "text": [
      "Evaluation: 100%|██████████████████████████████████████████████████████████████████████| 36/36 [00:33<00:00,  1.08it/s]\n"
     ]
    },
    {
     "name": "stdout",
     "output_type": "stream",
     "text": [
      "Validation metrics: {'loss': 0.8081719676653544, 'accuracy': 0.6782608695652174, 'precision': 0.6765260142166186, 'recall': 0.6782608695652174, 'f1': 0.664291585168667}\n"
     ]
    },
    {
     "name": "stderr",
     "output_type": "stream",
     "text": [
      "Epoch 2/2 Training: 100%|█████████████████████████████████████████████████| 252/252 [19:43<00:00,  4.70s/it, loss=1.31]\n"
     ]
    },
    {
     "name": "stdout",
     "output_type": "stream",
     "text": [
      "Epoch 2/2, Average training loss: 0.5569\n"
     ]
    },
    {
     "name": "stderr",
     "output_type": "stream",
     "text": [
      "Evaluation: 100%|██████████████████████████████████████████████████████████████████████| 36/36 [00:34<00:00,  1.05it/s]\n"
     ]
    },
    {
     "name": "stdout",
     "output_type": "stream",
     "text": [
      "Validation metrics: {'loss': 0.9169390483034981, 'accuracy': 0.6765217391304348, 'precision': 0.6737938064074251, 'recall': 0.6765217391304348, 'f1': 0.6628327616223143}\n",
      "\n",
      "Parameters: {'learning_rate': 2e-05, 'batch_size': 16, 'epochs': 2}\n",
      "Validation metrics: {'loss': 0.9169390483034981, 'accuracy': 0.6765217391304348, 'precision': 0.6737938064074251, 'recall': 0.6765217391304348, 'f1': 0.6628327616223143}\n"
     ]
    },
    {
     "data": {
      "text/plain": [
       "(BertWithWeightedLoss(\n",
       "   (bert): BertModel(\n",
       "     (embeddings): BertEmbeddings(\n",
       "       (word_embeddings): Embedding(30522, 768, padding_idx=0)\n",
       "       (position_embeddings): Embedding(512, 768)\n",
       "       (token_type_embeddings): Embedding(2, 768)\n",
       "       (LayerNorm): LayerNorm((768,), eps=1e-12, elementwise_affine=True)\n",
       "       (dropout): Dropout(p=0.1, inplace=False)\n",
       "     )\n",
       "     (encoder): BertEncoder(\n",
       "       (layer): ModuleList(\n",
       "         (0-11): 12 x BertLayer(\n",
       "           (attention): BertAttention(\n",
       "             (self): BertSdpaSelfAttention(\n",
       "               (query): Linear(in_features=768, out_features=768, bias=True)\n",
       "               (key): Linear(in_features=768, out_features=768, bias=True)\n",
       "               (value): Linear(in_features=768, out_features=768, bias=True)\n",
       "               (dropout): Dropout(p=0.1, inplace=False)\n",
       "             )\n",
       "             (output): BertSelfOutput(\n",
       "               (dense): Linear(in_features=768, out_features=768, bias=True)\n",
       "               (LayerNorm): LayerNorm((768,), eps=1e-12, elementwise_affine=True)\n",
       "               (dropout): Dropout(p=0.1, inplace=False)\n",
       "             )\n",
       "           )\n",
       "           (intermediate): BertIntermediate(\n",
       "             (dense): Linear(in_features=768, out_features=3072, bias=True)\n",
       "             (intermediate_act_fn): GELUActivation()\n",
       "           )\n",
       "           (output): BertOutput(\n",
       "             (dense): Linear(in_features=3072, out_features=768, bias=True)\n",
       "             (LayerNorm): LayerNorm((768,), eps=1e-12, elementwise_affine=True)\n",
       "             (dropout): Dropout(p=0.1, inplace=False)\n",
       "           )\n",
       "         )\n",
       "       )\n",
       "     )\n",
       "     (pooler): BertPooler(\n",
       "       (dense): Linear(in_features=768, out_features=768, bias=True)\n",
       "       (activation): Tanh()\n",
       "     )\n",
       "   )\n",
       "   (dropout): Dropout(p=0.1, inplace=False)\n",
       "   (classifier): Linear(in_features=768, out_features=3, bias=True)\n",
       " ),\n",
       " {'train_loss': 0.7135020889755752,\n",
       "  'val_loss': 0.8625555079844263,\n",
       "  'val_accuracy': 0.6773913043478261})"
      ]
     },
     "execution_count": 96,
     "metadata": {},
     "output_type": "execute_result"
    }
   ],
   "source": [
    "# Run Hyperparameter Tuning\n",
    "model, metrics, metric_seq = hyperparameter_tuning(train, val, device, class_weights)\n",
    "print(f\"\\nParameters: {params}\")\n",
    "print(f\"Validation metrics: {metrics}\")\n",
    "\n",
    "# Save the best model\n",
    "model.save_pretrained(model_path)\n",
    "tokenizer.save_pretrained(model_path)\n",
    "\n",
    "model, {key: sum(val) / len(val) for key, val in metric_seq.items()}"
   ]
  },
  {
   "cell_type": "code",
   "execution_count": 97,
   "id": "3a213a98-c7de-483f-98b9-4d122345a271",
   "metadata": {},
   "outputs": [
    {
     "data": {
      "image/png": "[encoded data removed]",
      "text/plain": [
       "<Figure size 1000x600 with 1 Axes>"
      ]
     },
     "metadata": {},
     "output_type": "display_data"
    },
    {
     "data": {
      "text/plain": [
       "{'train_loss': [0.8701208408862825, 0.5568833370648679],\n",
       " 'val_loss': [0.8081719676653544, 0.9169390483034981],\n",
       " 'val_accuracy': [0.6782608695652174, 0.6765217391304348]}"
      ]
     },
     "execution_count": 97,
     "metadata": {},
     "output_type": "execute_result"
    }
   ],
   "source": [
    "# Training Time\n",
    "# 14:32 00:22\n",
    "# 14:56 00:24\n",
    "# 15:48 00:23\n",
    "# 14:42 00:26\n",
    "# 33:41 00:58\n",
    "\n",
    "# 30:34 00:24\n",
    "# 15:26 00:24\n",
    "# 15:53 00:25\n",
    "# 15:32 00:24\n",
    "# 16:57 00:24\n",
    "import matplotlib.pyplot as plt\n",
    "\n",
    "# Plot all metrics in the same graph\n",
    "plt.figure(figsize=(10, 6))\n",
    "for key, val in metric_seq.items():\n",
    "    plt.plot(range(1, len(val) + 1), val, label=key.replace('_', ' ').title())\n",
    "\n",
    "plt.title('Training Metrics Over Epochs')\n",
    "plt.xlabel('Epoch')\n",
    "plt.ylabel('Value')\n",
    "plt.legend()\n",
    "plt.grid(True)\n",
    "plt.show()\n",
    "\n",
    "metric_seq"
   ]
  },
  {
   "cell_type": "code",
   "execution_count": 98,
   "id": "00df7a16-c782-4f75-842e-0e1ba82cdc6f",
   "metadata": {},
   "outputs": [
    {
     "name": "stdout",
     "output_type": "stream",
     "text": [
      "\n",
      "Evaluating final model on test set...\n"
     ]
    },
    {
     "name": "stderr",
     "output_type": "stream",
     "text": [
      "Evaluation: 100%|██████████████████████████████████████████████████████████████████████| 72/72 [01:34<00:00,  1.31s/it]"
     ]
    },
    {
     "name": "stdout",
     "output_type": "stream",
     "text": [
      "Test set metrics: {'loss': 0.8523312873310513, 'accuracy': 0.6936466492602262, 'precision': 0.6841100526599287, 'recall': 0.6936466492602262, 'f1': 0.6845256492108802}\n"
     ]
    },
    {
     "name": "stderr",
     "output_type": "stream",
     "text": [
      "\n"
     ]
    }
   ],
   "source": [
    "# Final Evaluation on Test Set\n",
    "test_loader = create_data_loader(test, tokenizer, params['batch_size'])\n",
    "print(\"\\nEvaluating final model on test set...\")\n",
    "test_metrics = evaluate_model(model, test_loader, device)\n",
    "print(f\"Test set metrics: {test_metrics}\")"
   ]
  },
  {
   "cell_type": "code",
   "execution_count": 24,
   "id": "405c5b46-59a1-4689-a24f-eeb867d07bdb",
   "metadata": {},
   "outputs": [
    {
     "name": "stdout",
     "output_type": "stream",
     "text": [
      "Predicted class (-1, 0, 1): 1\n"
     ]
    }
   ],
   "source": [
    "# Set the model to evaluation mode\n",
    "model.eval()\n",
    "\n",
    "# Example text for prediction\n",
    "example_text = \"harris leads by 1%\"\n",
    "\n",
    "# Tokenize the input text\n",
    "encoded_input = tokenizer(\n",
    "    example_text,\n",
    "    return_tensors=\"pt\", # Return PyTorch tensors\n",
    "    truncation=True,\n",
    "    padding=True\n",
    ")\n",
    "# Remove token_type_ids if not used\n",
    "encoded_input.pop(\"token_type_ids\", None)\n",
    "\n",
    "# Perform prediction without gradient computation\n",
    "with torch.no_grad():\n",
    "    outputs = model(**encoded_input)\n",
    "\n",
    "# Get the logits from the model's output\n",
    "logits = outputs.logits\n",
    "\n",
    "# Get the predicted class (0, 1, or 2)\n",
    "predicted_class = torch.argmax(logits, dim=1).item() - 1\n",
    "print(\"Predicted class (-1, 0, 1):\", predicted_class)"
   ]
  },
  {
   "cell_type": "code",
   "execution_count": null,
   "id": "139abbee-c804-46c0-9868-66940a2217d2",
   "metadata": {},
   "outputs": [],
   "source": []
  }
 ],
 "metadata": {
  "kernelspec": {
   "display_name": "Python 3 (ipykernel)",
   "language": "python",
   "name": "python3"
  },
  "language_info": {
   "codemirror_mode": {
    "name": "ipython",
    "version": 3
   },
   "file_extension": ".py",
   "mimetype": "text/x-python",
   "name": "python",
   "nbconvert_exporter": "python",
   "pygments_lexer": "ipython3",
   "version": "3.11.0"
  }
 },
 "nbformat": 4,
 "nbformat_minor": 5
}
