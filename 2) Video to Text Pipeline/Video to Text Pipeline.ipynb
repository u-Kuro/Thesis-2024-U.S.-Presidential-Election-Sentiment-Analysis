{
 "cells": [
  {
   "cell_type": "markdown",
   "metadata": {},
   "source": [
    "# Import Dependencies"
   ]
  },
  {
   "cell_type": "code",
   "execution_count": 1,
   "metadata": {
    "ExecuteTime": {
     "end_time": "2024-11-13T09:48:27.307069Z",
     "start_time": "2024-11-13T09:48:11.610903Z"
    },
    "tags": []
   },
   "outputs": [],
   "source": [
    "# Import Dependencies\n",
    "import os, re, time, torch, ffmpeg, whisper\n",
    "import pandas as pd\n",
    "from pytubefix import YouTube, Stream\n",
    "from pytubefix.cli import on_progress\n",
    "from pytubefix.innertube import _default_clients\n",
    "from tqdm.auto import tqdm\n",
    "from IPython.display import clear_output"
   ]
  },
  {
   "cell_type": "markdown",
   "metadata": {},
   "source": [
    "# Define Utilities"
   ]
  },
  {
   "cell_type": "code",
   "execution_count": 8,
   "metadata": {
    "ExecuteTime": {
     "end_time": "2024-11-12T21:27:26.328131Z",
     "start_time": "2024-11-12T21:27:26.312261Z"
    },
    "tags": []
   },
   "outputs": [],
   "source": [
    "def sanitize_filename(filename: str) -> str:\n",
    "    # Escape Double Quotes\n",
    "    filename = filename.replace('\"', '\\\\\"')\n",
    "\n",
    "    # Replace Invalid Characters with \"_\"\n",
    "    invalid_chars = re.compile(r'[<>:\"/\\\\|?*]')\n",
    "    sanitized_filename = invalid_chars.sub(\"_\", filename)\n",
    "\n",
    "    return sanitized_filename\n",
    "\n",
    "def read_unique_items_from_csv(file: str, column: str = \"URL\") -> list:\n",
    "    if os.path.exists(file):\n",
    "        with open(file, \"r\", errors=\"ignore\") as file:\n",
    "            return pd.read_csv(file)[column].tolist()\n",
    "    return []\n",
    "\n",
    "def get_yt_id(url: str):\n",
    "    # Find the part after the \"?\" (query parameters)\n",
    "    if \"?\" in url: query_string = url.split(\"?\")[-1]\n",
    "    else: return None\n",
    "    # Split the query parameters by \"&\"\n",
    "    params = query_string.split(\"&\")\n",
    "    # Find the parameter by name\n",
    "    for param in params:\n",
    "        key, value = param.split(\"=\")\n",
    "        if key == \"v\": return value\n",
    "    return None"
   ]
  },
  {
   "cell_type": "markdown",
   "metadata": {},
   "source": [
    "# Set Configurations"
   ]
  },
  {
   "cell_type": "code",
   "execution_count": null,
   "metadata": {
    "ExecuteTime": {
     "end_time": "2024-11-12T21:27:26.372633Z",
     "start_time": "2024-11-12T21:27:26.356982Z"
    },
    "tags": []
   },
   "outputs": [],
   "source": [
    "# File Names\n",
    "yt_video_links_filename = os.path.join(\"..\", \"1) Collecting Video URLs (YouTube)\", \"YouTube URL Collection\", \"Used URLs.csv\")\n",
    "\n",
    "# Folder Names\n",
    "video_output_path = \"Video\"\n",
    "audio_output_path = \"Audio\"\n",
    "transcription_output_path = \"Transcription\"\n",
    "\n",
    "# Boolean Flags\n",
    "run_continuously = True\n",
    "remove_video = True\n",
    "remove_audio = True\n",
    "authorize_yt = False # Change to true for auth if YouTube Detects you as a BOT\n",
    "\n",
    "# Additional Dependency Configurations\n",
    "_default_clients[\"ANDROID_MUSIC\"] = _default_clients[\"ANDROID_CREATOR\"]\n",
    "\n",
    "# Print Colors\n",
    "class pcolors:\n",
    "    ENDC = \"\\033[0m\"\n",
    "    BRIGHTCYAN = \"\\033[38;2;67;227;235m\"\n",
    "    BRIGHTRED = \"\\033[38;2;232;0;0m\""
   ]
  },
  {
   "cell_type": "markdown",
   "metadata": {},
   "source": [
    "# Collect Data (YouTube Videos)"
   ]
  },
  {
   "cell_type": "code",
   "execution_count": 10,
   "metadata": {
    "ExecuteTime": {
     "end_time": "2024-11-12T21:27:26.408084Z",
     "start_time": "2024-11-12T21:27:26.392266Z"
    },
    "tags": []
   },
   "outputs": [],
   "source": [
    "def download_youtube_video(video_filename: str, stream: Stream) -> tuple:\n",
    "    # Create Video Directory\n",
    "    os.makedirs(video_output_path, exist_ok=True)\n",
    "    \n",
    "    # Set Path for Video File\n",
    "    video_file = os.path.join(video_output_path, video_filename)\n",
    "    \n",
    "    # Delete Old Existing Video File (note: to clean any corrupted file)\n",
    "    if os.path.exists(video_file):\n",
    "        os.remove(video_file)\n",
    "        \n",
    "    # Download Video File\n",
    "    print(\"\") # Just New Line for Better Output\n",
    "    print(f'Downloading (Video): {video_filename}')\n",
    "    print(\"\") # Just New Line for Better Output\n",
    "    stream.download(output_path=video_output_path, filename=video_filename)\n",
    "    print(\"\") # Just New Line for Better Output\n",
    "    print(\"\") # Just New Line for Better Output\n",
    "    \n",
    "    # Return Video File and Name\n",
    "    return video_file, video_filename"
   ]
  },
  {
   "cell_type": "markdown",
   "metadata": {},
   "source": [
    "# Audio Extraction (Video to Audio)"
   ]
  },
  {
   "cell_type": "code",
   "execution_count": 11,
   "metadata": {
    "ExecuteTime": {
     "end_time": "2024-11-12T21:27:26.445009Z",
     "start_time": "2024-11-12T21:27:26.429026Z"
    },
    "tags": []
   },
   "outputs": [],
   "source": [
    "def extract_audio_from_video(video_file: str, video_filename: str) -> tuple:\n",
    "    # Create the Audio Directory\n",
    "    os.makedirs(audio_output_path, exist_ok=True)\n",
    "\n",
    "    # Set Audio File Name (\"[YouTube Video ID] [title].mp3\")\n",
    "    audio_filename = f'{os.path.splitext(video_filename)[0]}.mp3'\n",
    "\n",
    "    # Set Path for Audio File\n",
    "    audio_file = os.path.join(audio_output_path, audio_filename)\n",
    "    \n",
    "    # Delete Old Existing Audio File (note: to clean any corrupted file)\n",
    "    if os.path.exists(audio_file):\n",
    "        os.remove(audio_file)\n",
    "    \n",
    "    # Extract Audio File\n",
    "    print(f'Extracting (Audio): {audio_filename}')\n",
    "    print(\"\") # Just New Line for Better Output\n",
    "    (\n",
    "        ffmpeg\n",
    "        .input(video_file)\n",
    "        .output(audio_file, format=\"mp3\", acodec=\"libmp3lame\", loglevel=\"info\")\n",
    "        .run(overwrite_output=True)\n",
    "    )\n",
    "    \n",
    "    # Return Audio File and Name\n",
    "    return audio_file, audio_filename"
   ]
  },
  {
   "cell_type": "markdown",
   "metadata": {},
   "source": [
    "# Transcription (Audio to Text)"
   ]
  },
  {
   "cell_type": "code",
   "execution_count": 12,
   "metadata": {
    "ExecuteTime": {
     "end_time": "2024-11-12T21:27:26.488429Z",
     "start_time": "2024-11-12T21:27:26.472654Z"
    },
    "tags": []
   },
   "outputs": [],
   "source": [
    "def transcribe_audio_to_text(audio_file: str, audio_filename: str):\n",
    "    # Create the Transcription Directory\n",
    "    os.makedirs(transcription_output_path, exist_ok=True)\n",
    "    \n",
    "    # Set Transcription File Name (\"[YouTube Video ID] [title].txt\")\n",
    "    transcription_filename = f'{os.path.splitext(audio_filename)[0]}.txt'\n",
    "    \n",
    "    # Set Path for Transcription File\n",
    "    transcription_file = os.path.join(transcription_output_path, transcription_filename)\n",
    "            \n",
    "    # Get/Download OpenAI Whisper Model\n",
    "    \"\"\" \n",
    "    Models: \n",
    "        tiny, base, small, medium, large, turbo\n",
    "    English-Only:\n",
    "        tiny.en, base.en, small.en, medium.en\n",
    "    \n",
    "    Required VRAM:              Speed:\n",
    "        1) 1GB - tiny, base         1) 10x - tiny\n",
    "        2) 2GB - small              2) 8x - turbo\n",
    "        3) 5GB - medium             3) 7x - base\n",
    "        4) 6GB - turbo              4) 4x - small\n",
    "        5) 10GB - large             5) 2x - medium\n",
    "                                    6) 1x - large\n",
    "    \n",
    "    Quote from OpenAI: \n",
    "        - The .en models for English-only applications tend to perform better, especially for the tiny.en and base.en models.\n",
    "        We observed that the difference becomes less significant for the small.en and medium.en models.\n",
    "    \n",
    "    Note: Laptop has 4GB VRAM so small.en is used\n",
    "    \"\"\"  \n",
    "    print(f'Transcribing (Text): {transcription_filename}')\n",
    "    print(\"\") # Just New Line for Better Output\n",
    "    device = torch.device(\"cuda\" if torch.cuda.is_available() else \"cpu\") \n",
    "    model = whisper.load_model(\"small.en\", device=device)\n",
    "    \n",
    "    # Transcribe Audio File (Saves Whole Text in Memory Before Disk to Avoid Corruption)\n",
    "    result = model.transcribe(audio_file, fp16=False, verbose=False)\n",
    "    try:\n",
    "        with open(transcription_file, \"w\", errors=\"ignore\") as f:\n",
    "            f.write(result[\"text\"])\n",
    "    except:\n",
    "        if os.path.exists(transcription_file):\n",
    "            os.remove(transcription_file)"
   ]
  },
  {
   "cell_type": "markdown",
   "metadata": {},
   "source": [
    "# Execute Data Gathering"
   ]
  },
  {
   "cell_type": "code",
   "execution_count": null,
   "metadata": {
    "tags": []
   },
   "outputs": [
    {
     "name": "stderr",
     "output_type": "stream",
     "text": [
      "Downloading [1/22 Video] :   0%|                                                                | 0/22 [00:01<?, ?it/s]"
     ]
    },
    {
     "name": "stdout",
     "output_type": "stream",
     "text": [
      "\n",
      "Found YouTube Video (URL): https://www.youtube.com/watch?v=CcsRtLQMSmg\n",
      "\n",
      "Downloading (Video): [CcsRtLQMSmg] JD Vance_ 'There Are 453,000 Illegal Immigrants' In AZ 'Because Kamala Harris Refuses To Do Her Job'.m4a\n",
      "\n",
      " ↳ |██████████████████████████████████████████████████████████████████| 100.0%"
     ]
    },
    {
     "name": "stderr",
     "output_type": "stream",
     "text": [
      "Extracting [1/22 Audio]:   0%|                                                                  | 0/22 [00:02<?, ?it/s]"
     ]
    },
    {
     "name": "stdout",
     "output_type": "stream",
     "text": [
      "\n",
      "\n",
      "Extracting (Audio): [CcsRtLQMSmg] JD Vance_ 'There Are 453,000 Illegal Immigrants' In AZ 'Because Kamala Harris Refuses To Do Her Job'.mp3\n",
      "\n"
     ]
    },
    {
     "name": "stderr",
     "output_type": "stream",
     "text": [
      "Transcribing [1/22 Text]:   0%|                                                                 | 0/22 [00:05<?, ?it/s]"
     ]
    },
    {
     "name": "stdout",
     "output_type": "stream",
     "text": [
      "Transcribing (Text): [CcsRtLQMSmg] JD Vance_ 'There Are 453,000 Illegal Immigrants' In AZ 'Because Kamala Harris Refuses To Do Her Job'.txt\n",
      "\n"
     ]
    },
    {
     "name": "stderr",
     "output_type": "stream",
     "text": [
      "C:\\Users\\MSI Laptop\\AppData\\Local\\Programs\\Python\\Python311\\Lib\\site-packages\\whisper\\__init__.py:150: FutureWarning: You are using `torch.load` with `weights_only=False` (the current default value), which uses the default pickle module implicitly. It is possible to construct malicious pickle data which will execute arbitrary code during unpickling (See https://github.com/pytorch/pytorch/blob/main/SECURITY.md#untrusted-models for more details). In a future release, the default value for `weights_only` will be flipped to `True`. This limits the functions that could be executed during unpickling. Arbitrary objects will no longer be allowed to be loaded via this mode unless they are explicitly allowlisted by the user via `torch.serialization.add_safe_globals`. We recommend you start setting `weights_only=True` for any use case where you don't have full control of the loaded file. Please open an issue on GitHub for any issues related to this experimental feature.\n",
      "  checkpoint = torch.load(fp, map_location=device)\n",
      "\n",
      "  0%|                                                                                    | 0/29612 [00:00<?, ?frames/s]\u001b[A\n",
      "  9%|██████▊                                                                 | 2784/29612 [00:05<00:54, 492.59frames/s]\u001b[A\n",
      " 18%|████████████▋                                                           | 5240/29612 [00:10<00:50, 486.21frames/s]\u001b[A\n",
      " 28%|████████████████████                                                    | 8240/29612 [00:16<00:42, 506.67frames/s]\u001b[A\n",
      " 37%|██████████████████████████▌                                            | 11068/29612 [00:23<00:39, 472.87frames/s]\u001b[A\n",
      " 44%|███████████████████████████████▌                                       | 13168/29612 [00:28<00:38, 429.72frames/s]\u001b[A\n",
      " 53%|█████████████████████████████████████▌                                 | 15668/29612 [00:34<00:32, 425.26frames/s]\u001b[A\n",
      " 63%|████████████████████████████████████████████▍                          | 18518/29612 [00:42<00:26, 411.83frames/s]\u001b[A\n",
      " 69%|█████████████████████████████████████████████████▎                     | 20568/29612 [00:48<00:23, 385.30frames/s]\u001b[A\n",
      " 78%|███████████████████████████████████████████████████████▏               | 23038/29612 [00:54<00:16, 401.04frames/s]\u001b[A\n",
      " 87%|█████████████████████████████████████████████████████████████▍         | 25628/29612 [01:01<00:10, 388.66frames/s]\u001b[A\n",
      " 96%|████████████████████████████████████████████████████████████████████   | 28408/29612 [01:08<00:03, 379.40frames/s]\u001b[A\n",
      "100%|███████████████████████████████████████████████████████████████████████| 29612/29612 [01:12<00:00, 405.97frames/s]\u001b[A\n",
      "Downloading [2/22 Video] :   5%|██▌                                                     | 1/22 [01:22<28:43, 82.07s/it]"
     ]
    },
    {
     "name": "stdout",
     "output_type": "stream",
     "text": [
      "\n",
      "Found YouTube Video (URL): https://www.youtube.com/watch?v=ixRb4cIL5Ks\n",
      "\n",
      "Downloading (Video): [ixRb4cIL5Ks] 'Kamala Harris Has Rolled Out The Red Carpet To Every Illegal Alien'_ JD Vance Campaigns In Arizona.m4a\n",
      "\n",
      " ↳ |████████████████████████                                          | 36.6% ↳ |████████████████████████████████████████████████                  | 73.3% ↳ |██████████████████████████████████████████████████████████████████| 100.0%"
     ]
    },
    {
     "name": "stderr",
     "output_type": "stream",
     "text": [
      "Extracting [2/22 Audio]:   5%|██▋                                                       | 1/22 [01:28<28:43, 82.07s/it]"
     ]
    },
    {
     "name": "stdout",
     "output_type": "stream",
     "text": [
      "\n",
      "\n",
      "Extracting (Audio): [ixRb4cIL5Ks] 'Kamala Harris Has Rolled Out The Red Carpet To Every Illegal Alien'_ JD Vance Campaigns In Arizona.mp3\n",
      "\n"
     ]
    },
    {
     "name": "stderr",
     "output_type": "stream",
     "text": [
      "Transcribing [2/22 Text]:   5%|██▌                                                      | 1/22 [01:43<28:43, 82.07s/it]"
     ]
    },
    {
     "name": "stdout",
     "output_type": "stream",
     "text": [
      "Transcribing (Text): [ixRb4cIL5Ks] 'Kamala Harris Has Rolled Out The Red Carpet To Every Illegal Alien'_ JD Vance Campaigns In Arizona.txt\n",
      "\n"
     ]
    },
    {
     "name": "stderr",
     "output_type": "stream",
     "text": [
      "\n",
      "  0%|                                                                                   | 0/159121 [00:00<?, ?frames/s]\u001b[A\n",
      "  2%|█▏                                                                     | 2572/159121 [00:05<05:55, 440.09frames/s]\u001b[A\n",
      "  3%|██▎                                                                    | 5180/159121 [00:13<06:59, 366.79frames/s]\u001b[A\n",
      "  5%|███▋                                                                   | 8180/159121 [00:20<06:26, 390.07frames/s]\u001b[A\n",
      "  7%|████▉                                                                 | 11164/159121 [00:28<06:10, 398.92frames/s]\u001b[A\n",
      "  9%|██████▏                                                               | 14128/159121 [00:34<05:45, 419.48frames/s]\u001b[A\n",
      " 11%|███████▍                                                              | 16944/159121 [00:41<05:41, 416.55frames/s]\u001b[A\n",
      " 13%|████████▊                                                             | 19944/159121 [00:49<05:44, 403.41frames/s]\u001b[A\n",
      " 14%|█████████▉                                                            | 22492/159121 [00:57<06:04, 374.68frames/s]\u001b[A\n",
      " 16%|███████████▏                                                          | 25468/159121 [01:03<05:36, 396.85frames/s]\u001b[A\n",
      " 17%|████████████▏                                                         | 27788/159121 [01:09<05:22, 406.65frames/s]\u001b[A\n",
      " 19%|█████████████▎                                                        | 30316/159121 [01:15<05:12, 412.09frames/s]\u001b[A\n",
      " 21%|██████████████▌                                                       | 33136/159121 [01:20<04:46, 439.21frames/s]\u001b[A\n",
      " 22%|███████████████▋                                                      | 35776/159121 [01:27<04:47, 428.37frames/s]\u001b[A\n",
      " 24%|█████████████████                                                     | 38732/159121 [01:34<04:44, 422.81frames/s]\u001b[A\n",
      " 26%|██████████████████▎                                                   | 41732/159121 [01:41<04:42, 415.22frames/s]\u001b[A\n",
      " 28%|███████████████████▌                                                  | 44504/159121 [01:49<04:49, 395.27frames/s]\u001b[A\n",
      " 30%|████████████████████▉                                                 | 47500/159121 [01:56<04:33, 407.85frames/s]\u001b[A\n",
      " 32%|██████████████████████▏                                               | 50300/159121 [02:04<04:41, 386.02frames/s]\u001b[A\n",
      " 33%|███████████████████████▎                                              | 53036/159121 [02:12<04:37, 381.97frames/s]\u001b[A\n",
      " 35%|████████████████████████▋                                             | 56036/159121 [02:19<04:28, 383.49frames/s]\u001b[A\n",
      " 37%|█████████████████████████▊                                            | 58592/159121 [02:25<04:15, 392.87frames/s]\u001b[A\n",
      " 38%|██████████████████████████▉                                           | 61252/159121 [02:32<04:08, 393.29frames/s]\u001b[A\n",
      " 40%|████████████████████████████▏                                         | 64112/159121 [02:39<03:55, 403.02frames/s]\u001b[A\n",
      " 42%|█████████████████████████████▍                                        | 66808/159121 [02:46<03:56, 391.13frames/s]\u001b[A\n",
      " 44%|██████████████████████████████▋                                       | 69656/159121 [02:53<03:42, 401.68frames/s]\u001b[A\n",
      " 46%|███████████████████████████████▉                                      | 72588/159121 [03:01<03:45, 383.26frames/s]\u001b[A\n",
      " 47%|█████████████████████████████████                                     | 75212/159121 [03:10<03:50, 363.50frames/s]\u001b[A\n",
      " 49%|██████████████████████████████████▍                                   | 78156/159121 [03:17<03:38, 370.52frames/s]\u001b[A\n",
      " 51%|███████████████████████████████████▋                                  | 81104/159121 [03:25<03:33, 365.36frames/s]\u001b[A\n",
      " 53%|████████████████████████████████████▊                                 | 83568/159121 [03:32<03:24, 370.07frames/s]\u001b[A\n",
      " 54%|██████████████████████████████████████                                | 86420/159121 [03:38<03:07, 388.74frames/s]\u001b[A\n",
      " 56%|███████████████████████████████████████▏                              | 89116/159121 [03:45<02:56, 396.09frames/s]\u001b[A\n",
      " 58%|████████████████████████████████████████▍                             | 91940/159121 [03:52<02:52, 389.68frames/s]\u001b[A\n",
      " 60%|█████████████████████████████████████████▋                            | 94840/159121 [03:59<02:37, 407.40frames/s]\u001b[A\n",
      " 61%|███████████████████████████████████████████                           | 97812/159121 [04:07<02:35, 395.06frames/s]\u001b[A\n",
      " 63%|███████████████████████████████████████████▌                         | 100404/159121 [04:14<02:34, 379.48frames/s]\u001b[A\n",
      " 65%|████████████████████████████████████████████▊                        | 103340/159121 [04:23<02:32, 365.60frames/s]\u001b[A\n",
      " 67%|██████████████████████████████████████████████                       | 106316/159121 [04:32<02:28, 355.65frames/s]\u001b[A\n",
      " 69%|███████████████████████████████████████████████▍                     | 109252/159121 [04:37<02:04, 400.73frames/s]\u001b[A\n",
      " 70%|████████████████████████████████████████████████▌                    | 111900/159121 [04:44<01:59, 394.20frames/s]\u001b[A\n",
      " 72%|█████████████████████████████████████████████████▊                   | 114900/159121 [04:51<01:51, 397.82frames/s]\u001b[A\n",
      " 74%|███████████████████████████████████████████████████                  | 117772/159121 [04:59<01:46, 388.65frames/s]\u001b[A\n",
      " 76%|████████████████████████████████████████████████████▎                | 120608/159121 [05:07<01:40, 384.14frames/s]\u001b[A\n",
      " 78%|█████████████████████████████████████████████████████▌               | 123596/159121 [05:14<01:30, 391.86frames/s]\u001b[A\n",
      " 80%|██████████████████████████████████████████████████████▊              | 126544/159121 [05:21<01:22, 395.20frames/s]\u001b[A\n",
      " 81%|███████████████████████████████████████████████████████▉             | 128956/159121 [05:28<01:16, 391.80frames/s]\u001b[A\n",
      " 83%|█████████████████████████████████████████████████████████▏           | 131780/159121 [05:35<01:09, 395.67frames/s]\u001b[A\n",
      " 85%|██████████████████████████████████████████████████████████▎          | 134600/159121 [05:40<00:56, 431.42frames/s]\u001b[A\n",
      " 86%|███████████████████████████████████████████████████████████▌         | 137436/159121 [05:46<00:48, 444.55frames/s]\u001b[A\n",
      " 88%|████████████████████████████████████████████████████████████▉        | 140436/159121 [05:51<00:38, 482.03frames/s]\u001b[A\n",
      " 90%|██████████████████████████████████████████████████████████████       | 143048/159121 [05:56<00:32, 489.69frames/s]\u001b[A\n",
      " 92%|███████████████████████████████████████████████████████████████▏     | 145740/159121 [06:05<00:31, 419.97frames/s]\u001b[A\n",
      " 93%|████████████████████████████████████████████████████████████████▍    | 148492/159121 [06:10<00:23, 444.93frames/s]\u001b[A\n",
      " 95%|█████████████████████████████████████████████████████████████████▍   | 151016/159121 [06:18<00:20, 402.95frames/s]\u001b[A\n",
      " 97%|██████████████████████████████████████████████████████████████████▊  | 154012/159121 [06:25<00:12, 403.10frames/s]\u001b[A\n",
      " 98%|███████████████████████████████████████████████████████████████████▉ | 156624/159121 [06:33<00:06, 387.27frames/s]\u001b[A\n",
      "100%|█████████████████████████████████████████████████████████████████████| 159121/159121 [06:40<00:00, 397.40frames/s]\u001b[A\n",
      "Downloading [3/22 Video] :   9%|████▊                                                | 2/22 [08:29<1:34:56, 284.80s/it]"
     ]
    },
    {
     "name": "stdout",
     "output_type": "stream",
     "text": [
      "\n",
      "Found YouTube Video (URL): https://www.youtube.com/watch?v=n3NVgoswZvM\n",
      "\n",
      "Downloading (Video): [n3NVgoswZvM] Rally en Arizona con la vicepresidenta Harris + Invitados Especiales Los Tigres Del Norte.m4a\n",
      "\n",
      " ↳ |██████████████                                                    | 21.4% ↳ |████████████████████████████                                      | 42.8% ↳ |██████████████████████████████████████████                        | 64.2% ↳ |████████████████████████████████████████████████████████          | 85.6% ↳ |██████████████████████████████████████████████████████████████████| 100.0%"
     ]
    },
    {
     "name": "stderr",
     "output_type": "stream",
     "text": [
      "Extracting [3/22 Audio]:   9%|█████                                                  | 2/22 [08:39<1:34:56, 284.80s/it]"
     ]
    },
    {
     "name": "stdout",
     "output_type": "stream",
     "text": [
      "\n",
      "\n",
      "Extracting (Audio): [n3NVgoswZvM] Rally en Arizona con la vicepresidenta Harris + Invitados Especiales Los Tigres Del Norte.mp3\n",
      "\n"
     ]
    },
    {
     "name": "stderr",
     "output_type": "stream",
     "text": [
      "Transcribing [3/22 Text]:   9%|████▉                                                 | 2/22 [09:00<1:34:56, 284.80s/it]"
     ]
    },
    {
     "name": "stdout",
     "output_type": "stream",
     "text": [
      "Transcribing (Text): [n3NVgoswZvM] Rally en Arizona con la vicepresidenta Harris + Invitados Especiales Los Tigres Del Norte.txt\n",
      "\n"
     ]
    },
    {
     "name": "stderr",
     "output_type": "stream",
     "text": [
      "\n",
      "  0%|                                                                                   | 0/272511 [00:00<?, ?frames/s]\u001b[A\n",
      "  0%|▎                                                                      | 1020/272511 [00:09<41:57, 107.83frames/s]\u001b[A\n",
      "  1%|▋                                                                      | 2820/272511 [00:20<31:38, 142.04frames/s]\u001b[A\n",
      "  2%|█▏                                                                     | 4620/272511 [00:22<17:55, 249.05frames/s]\u001b[A\n",
      "  2%|█▋                                                                     | 6420/272511 [00:24<12:18, 360.44frames/s]\u001b[A\n",
      "  3%|██▏                                                                    | 8220/272511 [00:26<09:25, 467.33frames/s]\u001b[A\n",
      "  4%|██▊                                                                   | 10720/272511 [00:28<06:49, 639.33frames/s]\u001b[A\n",
      "  5%|███▍                                                                  | 13420/272511 [00:33<07:27, 578.44frames/s]\u001b[A\n",
      "  6%|████                                                                  | 16020/272511 [00:36<06:44, 633.88frames/s]\u001b[A\n",
      "  7%|████▌                                                                 | 17820/272511 [00:43<09:06, 466.45frames/s]\u001b[A\n",
      "  7%|█████▏                                                                | 20320/272511 [00:46<07:31, 557.96frames/s]\u001b[A\n",
      "  8%|█████▊                                                                | 22720/272511 [00:52<08:37, 482.46frames/s]\u001b[A\n",
      "  9%|██████▌                                                               | 25320/272511 [00:55<07:13, 570.06frames/s]\u001b[A\n",
      "  9%|██████▌                                                               | 25320/272511 [01:13<07:13, 570.06frames/s]\u001b[A\n",
      " 10%|██████▊                                                               | 26720/272511 [01:17<18:24, 222.45frames/s]\u001b[A\n",
      " 11%|███████▌                                                              | 29320/272511 [01:21<13:59, 289.81frames/s]\u001b[A\n",
      " 12%|████████▎                                                             | 32220/272511 [01:27<11:50, 338.27frames/s]\u001b[A\n",
      " 13%|█████████                                                             | 35120/272511 [01:32<10:16, 385.23frames/s]\u001b[A\n",
      " 13%|█████████                                                             | 35120/272511 [01:43<10:16, 385.23frames/s]\u001b[A\n",
      " 14%|█████████▋                                                            | 37720/272511 [02:24<30:27, 128.50frames/s]\u001b[A\n",
      " 14%|█████████▋                                                            | 37720/272511 [02:43<30:27, 128.50frames/s]\u001b[A\n",
      " 14%|██████████▏                                                            | 39008/272511 [03:01<44:42, 87.04frames/s]\u001b[A\n",
      " 14%|██████████▏                                                            | 39008/272511 [03:13<44:42, 87.04frames/s]\u001b[A\n",
      " 15%|██████████▉                                                            | 41994/272511 [03:30<41:56, 91.59frames/s]\u001b[A\n",
      " 17%|███████████▌                                                          | 44994/272511 [03:32<27:46, 136.49frames/s]\u001b[A\n",
      " 18%|████████████▎                                                         | 47994/272511 [03:34<19:03, 196.42frames/s]\u001b[A\n",
      " 19%|█████████████                                                         | 50994/272511 [03:35<13:26, 274.58frames/s]\u001b[A\n",
      " 20%|█████████████▊                                                        | 53994/272511 [03:37<09:44, 374.12frames/s]\u001b[A\n",
      " 21%|██████████████▋                                                       | 56994/272511 [03:39<07:17, 492.90frames/s]\u001b[A\n",
      " 22%|███████████████▏                                                      | 59294/272511 [03:44<07:15, 489.72frames/s]\u001b[A\n",
      " 23%|████████████████                                                      | 62294/272511 [03:50<07:08, 490.65frames/s]\u001b[A\n",
      " 24%|████████████████▋                                                     | 64794/272511 [03:54<06:42, 515.49frames/s]\u001b[A\n",
      " 25%|█████████████████▏                                                    | 66894/272511 [03:59<06:58, 491.33frames/s]\u001b[A\n",
      " 26%|█████████████████▉                                                    | 69694/272511 [04:04<06:48, 496.19frames/s]\u001b[A\n",
      " 26%|██████████████████▌                                                   | 72094/272511 [04:10<07:01, 475.34frames/s]\u001b[A\n",
      " 27%|██████████████████▉                                                   | 73494/272511 [04:14<07:24, 447.50frames/s]\u001b[A\n",
      " 28%|███████████████████▍                                                  | 75594/272511 [04:18<06:57, 471.45frames/s]\u001b[A\n",
      " 29%|████████████████████                                                  | 78194/272511 [04:22<06:33, 493.29frames/s]\u001b[A\n",
      " 29%|████████████████████▋                                                 | 80294/272511 [04:28<06:53, 464.85frames/s]\u001b[A\n",
      " 30%|█████████████████████▎                                                | 82994/272511 [04:33<06:46, 466.21frames/s]\u001b[A\n",
      " 31%|█████████████████████▉                                                | 85594/272511 [04:39<06:35, 473.02frames/s]\u001b[A\n",
      " 32%|██████████████████████▌                                               | 87994/272511 [04:44<06:39, 461.69frames/s]\u001b[A\n",
      " 33%|███████████████████████▎                                              | 90994/272511 [04:50<06:26, 469.54frames/s]\u001b[A\n",
      " 34%|████████████████████████▏                                             | 93994/272511 [04:56<05:54, 503.35frames/s]\u001b[A\n",
      " 36%|████████████████████████▉                                             | 96994/272511 [04:58<04:49, 606.72frames/s]\u001b[A\n",
      " 37%|█████████████████████████▋                                            | 99994/272511 [05:01<03:58, 722.10frames/s]\u001b[A\n",
      " 37%|█████████████████████████▋                                           | 101494/272511 [05:03<03:55, 725.71frames/s]\u001b[A\n",
      " 38%|█████████████████████████▉                                           | 102394/272511 [05:05<04:13, 671.80frames/s]\u001b[A\n",
      " 39%|██████████████████████████▌                                          | 105094/272511 [05:08<03:55, 710.24frames/s]\u001b[A\n",
      " 39%|███████████████████████████▏                                         | 107594/272511 [05:14<04:35, 599.34frames/s]\u001b[A\n",
      " 40%|███████████████████████████▋                                         | 109394/272511 [05:17<04:45, 571.79frames/s]\u001b[A\n",
      " 41%|████████████████████████████▍                                        | 112094/272511 [05:22<04:51, 550.68frames/s]\u001b[A\n",
      " 42%|████████████████████████████▊                                        | 113994/272511 [05:26<04:59, 528.97frames/s]\u001b[A\n",
      " 43%|█████████████████████████████▍                                       | 116294/272511 [05:31<05:03, 514.05frames/s]\u001b[A\n",
      " 43%|█████████████████████████████▉                                       | 118194/272511 [05:36<05:18, 484.83frames/s]\u001b[A\n",
      " 44%|██████████████████████████████▌                                      | 120894/272511 [05:40<04:47, 526.51frames/s]\u001b[A\n",
      " 45%|███████████████████████████████                                      | 122694/272511 [05:44<04:53, 510.38frames/s]\u001b[A\n",
      " 46%|███████████████████████████████▋                                     | 125194/272511 [05:49<04:44, 518.70frames/s]\u001b[A\n",
      " 47%|████████████████████████████████▏                                    | 127294/272511 [05:53<04:38, 520.53frames/s]\u001b[A\n",
      " 47%|████████████████████████████████▍                                    | 128294/272511 [05:55<04:53, 490.76frames/s]\u001b[A\n",
      " 48%|█████████████████████████████████                                    | 130394/272511 [05:59<04:38, 510.04frames/s]\u001b[A\n",
      " 49%|█████████████████████████████████▊                                   | 133394/272511 [06:04<04:12, 551.44frames/s]\u001b[A\n",
      " 50%|██████████████████████████████████▎                                  | 135594/272511 [06:08<04:20, 526.30frames/s]\u001b[A\n",
      " 51%|██████████████████████████████████▉                                  | 137994/272511 [06:13<04:11, 534.48frames/s]\u001b[A\n",
      " 51%|███████████████████████████████████▍                                 | 140094/272511 [06:17<04:12, 525.20frames/s]\u001b[A\n",
      " 52%|███████████████████████████████████▉                                 | 141894/272511 [06:20<04:08, 525.65frames/s]\u001b[A\n",
      " 53%|████████████████████████████████████▋                                | 144894/272511 [06:26<04:03, 524.30frames/s]\u001b[A\n",
      " 54%|████████████████████████████████████▉                                | 145894/272511 [06:29<04:16, 492.97frames/s]\u001b[A\n",
      " 54%|████████████████████████████████████▉                                | 145894/272511 [06:43<04:16, 492.97frames/s]\u001b[A\n",
      " 54%|█████████████████████████████████████▌                               | 148194/272511 [06:45<07:49, 264.85frames/s]\u001b[A\n",
      " 55%|██████████████████████████████████████▏                              | 150766/272511 [06:50<06:11, 327.70frames/s]\u001b[A\n",
      " 56%|██████████████████████████████████████▊                              | 153078/272511 [06:54<05:22, 370.28frames/s]\u001b[A\n",
      " 57%|███████████████████████████████████████▍                             | 155822/272511 [06:59<04:31, 429.75frames/s]\u001b[A\n",
      " 58%|███████████████████████████████████████▉                             | 157550/272511 [07:02<04:19, 442.39frames/s]\u001b[A\n",
      " 59%|████████████████████████████████████████▌                            | 160338/272511 [07:07<03:58, 470.90frames/s]\u001b[A\n",
      " 60%|█████████████████████████████████████████▎                           | 163034/272511 [07:11<03:29, 523.14frames/s]\u001b[A\n",
      " 61%|█████████████████████████████████████████▊                           | 165070/272511 [07:16<03:35, 498.58frames/s]\u001b[A\n",
      " 62%|██████████████████████████████████████████▍                          | 167802/272511 [07:21<03:26, 506.31frames/s]\u001b[A\n",
      " 62%|███████████████████████████████████████████                          | 170266/272511 [07:26<03:23, 503.00frames/s]\u001b[A\n",
      " 64%|███████████████████████████████████████████▊                         | 173090/272511 [07:30<02:58, 557.16frames/s]\u001b[A\n",
      " 65%|████████████████████████████████████████████▌                        | 175994/272511 [07:34<02:39, 606.41frames/s]\u001b[A\n",
      " 65%|█████████████████████████████████████████████                        | 178154/272511 [07:39<02:50, 552.19frames/s]\u001b[A\n",
      " 66%|█████████████████████████████████████████████▌                       | 179882/272511 [07:43<03:01, 511.74frames/s]\u001b[A\n",
      " 67%|██████████████████████████████████████████████▎                      | 182858/272511 [07:49<02:51, 523.02frames/s]\u001b[A\n",
      " 68%|███████████████████████████████████████████████                      | 185650/272511 [07:53<02:39, 543.20frames/s]\u001b[A\n",
      " 69%|███████████████████████████████████████████████▋                     | 188482/272511 [07:58<02:32, 550.14frames/s]\u001b[A\n",
      " 70%|████████████████████████████████████████████████▎                    | 190978/272511 [08:03<02:30, 542.55frames/s]\u001b[A\n",
      " 71%|████████████████████████████████████████████████▊                    | 192946/272511 [08:07<02:30, 528.27frames/s]\u001b[A\n",
      " 72%|█████████████████████████████████████████████████▌                   | 195946/272511 [08:12<02:12, 576.48frames/s]\u001b[A\n",
      " 73%|██████████████████████████████████████████████████▏                  | 198434/272511 [08:16<02:09, 570.04frames/s]\u001b[A\n",
      " 74%|██████████████████████████████████████████████████▊                  | 200634/272511 [08:21<02:14, 535.03frames/s]\u001b[A\n",
      " 75%|███████████████████████████████████████████████████▌                 | 203634/272511 [08:25<02:01, 569.20frames/s]\u001b[A\n",
      " 76%|████████████████████████████████████████████████████▎                | 206402/272511 [08:30<01:55, 571.90frames/s]\u001b[A\n",
      " 77%|████████████████████████████████████████████████████▉                | 209226/272511 [08:37<01:59, 527.83frames/s]\u001b[A\n",
      " 78%|█████████████████████████████████████████████████████▋               | 212114/272511 [08:42<01:51, 539.28frames/s]\u001b[A\n",
      " 78%|██████████████████████████████████████████████████████               | 213418/272511 [08:45<01:56, 508.40frames/s]\u001b[A\n",
      " 79%|██████████████████████████████████████████████████████▊              | 216322/272511 [08:49<01:40, 560.51frames/s]\u001b[A\n",
      " 80%|███████████████████████████████████████████████████████▌             | 219282/272511 [08:55<01:39, 535.27frames/s]\u001b[A\n",
      " 82%|████████████████████████████████████████████████████████▎            | 222282/272511 [09:00<01:30, 556.97frames/s]\u001b[A\n",
      " 82%|████████████████████████████████████████████████████████▊            | 224146/272511 [09:04<01:29, 542.17frames/s]\u001b[A\n",
      " 83%|█████████████████████████████████████████████████████████▏           | 225970/272511 [09:08<01:28, 525.54frames/s]\u001b[A\n",
      " 84%|█████████████████████████████████████████████████████████▋           | 228034/272511 [09:11<01:23, 534.02frames/s]\u001b[A\n",
      " 85%|██████████████████████████████████████████████████████████▎          | 230450/272511 [09:15<01:15, 553.48frames/s]\u001b[A\n",
      " 85%|██████████████████████████████████████████████████████████▉          | 232650/272511 [09:19<01:12, 546.47frames/s]\u001b[A\n",
      " 86%|███████████████████████████████████████████████████████████▋         | 235650/272511 [09:25<01:07, 544.72frames/s]\u001b[A\n",
      " 87%|████████████████████████████████████████████████████████████▎        | 238266/272511 [09:30<01:03, 538.54frames/s]\u001b[A\n",
      " 88%|█████████████████████████████████████████████████████████████        | 240930/272511 [09:35<00:59, 530.28frames/s]\u001b[A\n",
      " 89%|█████████████████████████████████████████████████████████████▌       | 243378/272511 [09:41<00:58, 494.49frames/s]\u001b[A\n",
      " 90%|██████████████████████████████████████████████████████████████▍      | 246378/272511 [09:45<00:47, 555.27frames/s]\u001b[A\n",
      " 92%|███████████████████████████████████████████████████████████████▏     | 249378/272511 [09:49<00:39, 593.11frames/s]\u001b[A\n",
      " 93%|███████████████████████████████████████████████████████████████▊     | 252162/272511 [09:59<00:44, 461.17frames/s]\u001b[A\n",
      " 94%|████████████████████████████████████████████████████████████████▌    | 254946/272511 [10:06<00:40, 434.87frames/s]\u001b[A\n",
      " 94%|█████████████████████████████████████████████████████████████████▏   | 257511/272511 [10:13<00:35, 419.68frames/s]\u001b[A\n",
      "Downloading [4/22 Video] :  14%|███████▏                                             | 3/22 [19:21<2:23:11, 452.16s/it]"
     ]
    },
    {
     "name": "stdout",
     "output_type": "stream",
     "text": [
      "\n",
      "Found YouTube Video (URL): https://www.youtube.com/watch?v=hzsWKbiPU2A\n",
      "\n",
      "Downloading (Video): [hzsWKbiPU2A] Kamala Harris returns to Arizona to campaign.m4a\n",
      "\n",
      " ↳ |██████████████████████████████████████████████████████████████████| 100.0%"
     ]
    },
    {
     "name": "stderr",
     "output_type": "stream",
     "text": [
      "Extracting [4/22 Audio]:  14%|███████▍                                               | 3/22 [19:21<2:23:11, 452.16s/it]"
     ]
    },
    {
     "name": "stdout",
     "output_type": "stream",
     "text": [
      "\n",
      "\n",
      "Extracting (Audio): [hzsWKbiPU2A] Kamala Harris returns to Arizona to campaign.mp3\n",
      "\n"
     ]
    },
    {
     "name": "stderr",
     "output_type": "stream",
     "text": [
      "Transcribing [4/22 Text]:  14%|███████▎                                              | 3/22 [19:22<2:23:11, 452.16s/it]"
     ]
    },
    {
     "name": "stdout",
     "output_type": "stream",
     "text": [
      "Transcribing (Text): [hzsWKbiPU2A] Kamala Harris returns to Arizona to campaign.txt\n",
      "\n"
     ]
    },
    {
     "name": "stderr",
     "output_type": "stream",
     "text": [
      "\n",
      "  0%|                                                                                     | 0/2565 [00:00<?, ?frames/s]\u001b[A\n",
      "100%|█████████████████████████████████████████████████████████████████████████| 2565/2565 [00:06<00:00, 387.35frames/s]\u001b[A\n",
      "Downloading [5/22 Video] :  18%|█████████▋                                           | 4/22 [19:31<1:23:24, 278.01s/it]"
     ]
    },
    {
     "name": "stdout",
     "output_type": "stream",
     "text": [
      "\n",
      "Found YouTube Video (URL): https://www.youtube.com/watch?v=31Q_QSw0HvI\n",
      "\n",
      "Downloading (Video): [31Q_QSw0HvI] Trump, Harris to visit Arizona in final week before Election Day.m4a\n",
      "\n",
      " ↳ |██████████████████████████████████████████████████████████████████| 100.0%"
     ]
    },
    {
     "name": "stderr",
     "output_type": "stream",
     "text": [
      "Extracting [5/22 Audio]:  18%|██████████                                             | 4/22 [19:34<1:23:24, 278.01s/it]"
     ]
    },
    {
     "name": "stdout",
     "output_type": "stream",
     "text": [
      "\n",
      "\n",
      "Extracting (Audio): [31Q_QSw0HvI] Trump, Harris to visit Arizona in final week before Election Day.mp3\n",
      "\n"
     ]
    },
    {
     "name": "stderr",
     "output_type": "stream",
     "text": [
      "Transcribing [5/22 Text]:  18%|█████████▊                                            | 4/22 [19:36<1:23:24, 278.01s/it]"
     ]
    },
    {
     "name": "stdout",
     "output_type": "stream",
     "text": [
      "Transcribing (Text): [31Q_QSw0HvI] Trump, Harris to visit Arizona in final week before Election Day.txt\n",
      "\n"
     ]
    },
    {
     "name": "stderr",
     "output_type": "stream",
     "text": [
      "\n",
      "  0%|                                                                                    | 0/17839 [00:00<?, ?frames/s]\u001b[A\n",
      " 16%|███████████▌                                                            | 2860/17839 [00:06<00:35, 421.22frames/s]\u001b[A\n",
      " 33%|███████████████████████▍                                                | 5808/17839 [00:14<00:29, 412.52frames/s]\u001b[A\n",
      " 49%|███████████████████████████████████▎                                    | 8736/17839 [00:22<00:23, 386.07frames/s]\u001b[A\n",
      " 64%|█████████████████████████████████████████████▏                         | 11356/17839 [00:30<00:18, 353.65frames/s]\u001b[A\n",
      " 79%|████████████████████████████████████████████████████████               | 14088/17839 [00:38<00:10, 347.96frames/s]\u001b[A\n",
      " 95%|███████████████████████████████████████████████████████████████████▋   | 16996/17839 [00:47<00:02, 338.51frames/s]\u001b[A\n",
      "100%|███████████████████████████████████████████████████████████████████████| 17839/17839 [00:51<00:00, 347.20frames/s]\u001b[A\n",
      "Downloading [6/22 Video] :  23%|████████████▌                                          | 5/22 [20:30<56:23, 199.02s/it]"
     ]
    },
    {
     "name": "stdout",
     "output_type": "stream",
     "text": [
      "\n",
      "Found YouTube Video (URL): https://www.youtube.com/watch?v=J3cEaxiaBmE\n",
      "\n",
      "Downloading (Video): [J3cEaxiaBmE] WATCH_ George Lopez speaks at campaign rally in Phoenix, AZ _ LiveNOW from FOX.m4a\n",
      "\n",
      " ↳ |██████████████████████████████████████████████████████████████████| 100.0%"
     ]
    },
    {
     "name": "stderr",
     "output_type": "stream",
     "text": [
      "Extracting [6/22 Audio]:  23%|████████████▉                                            | 5/22 [20:34<56:23, 199.02s/it]"
     ]
    },
    {
     "name": "stdout",
     "output_type": "stream",
     "text": [
      "\n",
      "\n",
      "Extracting (Audio): [J3cEaxiaBmE] WATCH_ George Lopez speaks at campaign rally in Phoenix, AZ _ LiveNOW from FOX.mp3\n",
      "\n"
     ]
    },
    {
     "name": "stderr",
     "output_type": "stream",
     "text": [
      "Transcribing [6/22 Text]:  23%|████████████▋                                           | 5/22 [20:36<56:23, 199.02s/it]"
     ]
    },
    {
     "name": "stdout",
     "output_type": "stream",
     "text": [
      "Transcribing (Text): [J3cEaxiaBmE] WATCH_ George Lopez speaks at campaign rally in Phoenix, AZ _ LiveNOW from FOX.txt\n",
      "\n"
     ]
    },
    {
     "name": "stderr",
     "output_type": "stream",
     "text": [
      "\n",
      "  0%|                                                                                    | 0/29194 [00:00<?, ?frames/s]\u001b[A\n",
      " 10%|██████▉                                                                 | 2820/29194 [00:03<00:35, 738.35frames/s]\u001b[A\n",
      " 15%|██████████▌                                                             | 4276/29194 [00:06<00:38, 650.14frames/s]\u001b[A\n",
      " 20%|██████████████▏                                                         | 5740/29194 [00:08<00:37, 632.09frames/s]\u001b[A\n",
      " 30%|█████████████████████▌                                                  | 8736/29194 [00:12<00:28, 727.96frames/s]\u001b[A\n",
      " 37%|██████████████████████████▍                                            | 10888/29194 [00:16<00:28, 638.00frames/s]\u001b[A\n",
      " 45%|████████████████████████████████                                       | 13188/29194 [00:21<00:28, 568.36frames/s]\u001b[A\n",
      " 54%|██████████████████████████████████████▎                                | 15738/29194 [00:27<00:26, 514.59frames/s]\u001b[A\n",
      " 63%|████████████████████████████████████████████▊                          | 18406/29194 [00:31<00:19, 566.00frames/s]\u001b[A\n",
      " 63%|████████████████████████████████████████████▊                          | 18406/29194 [00:41<00:19, 566.00frames/s]\u001b[A\n",
      " 73%|███████████████████████████████████████████████████▋                   | 21246/29194 [00:48<00:26, 301.31frames/s]\u001b[A\n",
      " 82%|█████████████████████████████████████████████████████████▉             | 23846/29194 [00:53<00:15, 355.19frames/s]\u001b[A\n",
      " 89%|███████████████████████████████████████████████████████████████        | 25946/29194 [00:56<00:07, 409.54frames/s]\u001b[A\n",
      " 99%|██████████████████████████████████████████████████████████████████████▏| 28846/29194 [01:00<00:00, 461.35frames/s]\u001b[A\n",
      "100%|███████████████████████████████████████████████████████████████████████| 29194/29194 [01:03<00:00, 460.25frames/s]\u001b[A\n",
      "Downloading [7/22 Video] :  27%|██████████████▉                                        | 6/22 [21:42<41:35, 155.97s/it]"
     ]
    },
    {
     "name": "stdout",
     "output_type": "stream",
     "text": [
      "\n",
      "Found YouTube Video (URL): https://www.youtube.com/watch?v=YLZK2v8Owxc\n",
      "\n",
      "Downloading (Video): [YLZK2v8Owxc] 'We're Not Going Back'_ George Lopez Rips 'Orange' Trump At Harris-Walz Rally In Phoenix, Arizona.m4a\n",
      "\n",
      " ↳ |██████████████████████████████████████████████████████████████████| 100.0%"
     ]
    },
    {
     "name": "stderr",
     "output_type": "stream",
     "text": [
      "Extracting [7/22 Audio]:  27%|███████████████▌                                         | 6/22 [21:46<41:35, 155.97s/it]"
     ]
    },
    {
     "name": "stdout",
     "output_type": "stream",
     "text": [
      "\n",
      "\n",
      "Extracting (Audio): [YLZK2v8Owxc] 'We're Not Going Back'_ George Lopez Rips 'Orange' Trump At Harris-Walz Rally In Phoenix, Arizona.mp3\n",
      "\n"
     ]
    },
    {
     "name": "stderr",
     "output_type": "stream",
     "text": [
      "Transcribing [7/22 Text]:  27%|███████████████▎                                        | 6/22 [21:49<41:35, 155.97s/it]"
     ]
    },
    {
     "name": "stdout",
     "output_type": "stream",
     "text": [
      "Transcribing (Text): [YLZK2v8Owxc] 'We're Not Going Back'_ George Lopez Rips 'Orange' Trump At Harris-Walz Rally In Phoenix, Arizona.txt\n",
      "\n"
     ]
    },
    {
     "name": "stderr",
     "output_type": "stream",
     "text": [
      "\n",
      "  0%|                                                                                    | 0/34196 [00:00<?, ?frames/s]\u001b[A\n",
      "  9%|██████▎                                                                 | 3000/34196 [00:09<01:42, 305.84frames/s]\u001b[A\n",
      " 18%|████████████▋                                                           | 6000/34196 [00:14<01:04, 436.10frames/s]\u001b[A\n",
      " 20%|██████████████▋                                                         | 7000/34196 [00:16<01:02, 435.98frames/s]\u001b[A\n",
      " 28%|████████████████████▏                                                   | 9600/34196 [00:19<00:42, 585.20frames/s]\u001b[A\n",
      " 35%|█████████████████████████                                              | 12100/34196 [00:23<00:36, 598.36frames/s]\u001b[A\n",
      " 43%|██████████████████████████████▌                                        | 14700/34196 [00:28<00:33, 576.65frames/s]\u001b[A\n",
      " 52%|████████████████████████████████████▋                                  | 17700/34196 [00:35<00:31, 518.99frames/s]\u001b[A\n",
      " 60%|██████████████████████████████████████████▎                            | 20400/34196 [00:39<00:24, 560.18frames/s]\u001b[A\n",
      " 68%|████████████████████████████████████████████████▌                      | 23400/34196 [00:43<00:17, 607.74frames/s]\u001b[A\n",
      " 75%|█████████████████████████████████████████████████████▌                 | 25800/34196 [00:46<00:13, 623.18frames/s]\u001b[A\n",
      " 84%|███████████████████████████████████████████████████████████▊           | 28800/34196 [00:50<00:07, 677.25frames/s]\u001b[A\n",
      " 93%|██████████████████████████████████████████████████████████████████     | 31800/34196 [00:55<00:03, 657.86frames/s]\u001b[A\n",
      "100%|███████████████████████████████████████████████████████████████████████| 34196/34196 [00:58<00:00, 587.21frames/s]\u001b[A\n",
      "Downloading [8/22 Video] :  32%|█████████████████▌                                     | 7/22 [22:52<31:50, 127.37s/it]"
     ]
    },
    {
     "name": "stdout",
     "output_type": "stream",
     "text": [
      "\n",
      "Found YouTube Video (URL): https://www.youtube.com/watch?v=xPzxG72zc-A\n",
      "\n",
      "Downloading (Video): [xPzxG72zc-A] Kamala Harris and Donald Trump to visit Arizona next week.m4a\n",
      "\n",
      " ↳ |██████████████████████████████████████████████████████████████████| 100.0%"
     ]
    },
    {
     "name": "stderr",
     "output_type": "stream",
     "text": [
      "Extracting [8/22 Audio]:  32%|██████████████████▏                                      | 7/22 [22:53<31:50, 127.37s/it]"
     ]
    },
    {
     "name": "stdout",
     "output_type": "stream",
     "text": [
      "\n",
      "\n",
      "Extracting (Audio): [xPzxG72zc-A] Kamala Harris and Donald Trump to visit Arizona next week.mp3\n",
      "\n"
     ]
    },
    {
     "name": "stderr",
     "output_type": "stream",
     "text": [
      "Transcribing [8/22 Text]:  32%|█████████████████▊                                      | 7/22 [22:54<31:50, 127.37s/it]"
     ]
    },
    {
     "name": "stdout",
     "output_type": "stream",
     "text": [
      "Transcribing (Text): [xPzxG72zc-A] Kamala Harris and Donald Trump to visit Arizona next week.txt\n",
      "\n"
     ]
    },
    {
     "name": "stderr",
     "output_type": "stream",
     "text": [
      "\n",
      "  0%|                                                                                    | 0/11524 [00:00<?, ?frames/s]\u001b[A\n",
      " 25%|██████████████████                                                      | 2900/11524 [00:05<00:17, 497.09frames/s]\u001b[A\n",
      " 50%|████████████████████████████████████▏                                   | 5800/11524 [00:12<00:12, 441.23frames/s]\u001b[A\n",
      " 73%|████████████████████████████████████████████████████▍                   | 8400/11524 [00:19<00:07, 410.40frames/s]\u001b[A\n",
      " 98%|█████████████████████████████████████████████████████████████████████▌ | 11300/11524 [00:28<00:00, 386.22frames/s]\u001b[A\n",
      "100%|███████████████████████████████████████████████████████████████████████| 11524/11524 [00:30<00:00, 376.35frames/s]\u001b[A\n",
      "Downloading [9/22 Video] :  36%|████████████████████▎                                   | 8/22 [23:27<22:57, 98.39s/it]"
     ]
    },
    {
     "name": "stdout",
     "output_type": "stream",
     "text": [
      "\n",
      "Found YouTube Video (URL): https://www.youtube.com/watch?v=hW1SwF1n3Sc\n",
      "\n",
      "Downloading (Video): [hW1SwF1n3Sc] Kamala Harris rallies in Georgia, Donald Trump visits Arizona, Nevada.m4a\n",
      "\n",
      " ↳ |██████████████████████████████████████████████████████████████████| 100.0%"
     ]
    },
    {
     "name": "stderr",
     "output_type": "stream",
     "text": [
      "Extracting [9/22 Audio]:  36%|█████████████████████                                     | 8/22 [23:30<22:57, 98.39s/it]"
     ]
    },
    {
     "name": "stdout",
     "output_type": "stream",
     "text": [
      "\n",
      "\n",
      "Extracting (Audio): [hW1SwF1n3Sc] Kamala Harris rallies in Georgia, Donald Trump visits Arizona, Nevada.mp3\n",
      "\n"
     ]
    },
    {
     "name": "stderr",
     "output_type": "stream",
     "text": [
      "Transcribing [9/22 Text]:  36%|████████████████████▋                                    | 8/22 [23:32<22:57, 98.39s/it]"
     ]
    },
    {
     "name": "stdout",
     "output_type": "stream",
     "text": [
      "Transcribing (Text): [hW1SwF1n3Sc] Kamala Harris rallies in Georgia, Donald Trump visits Arizona, Nevada.txt\n",
      "\n"
     ]
    },
    {
     "name": "stderr",
     "output_type": "stream",
     "text": [
      "\n",
      "  0%|                                                                                    | 0/17078 [00:00<?, ?frames/s]\u001b[A\n",
      " 15%|██████████▍                                                             | 2488/17078 [00:05<00:34, 419.39frames/s]\u001b[A\n",
      " 32%|███████████████████████▏                                                | 5488/17078 [00:12<00:25, 455.72frames/s]\u001b[A\n",
      " 48%|██████████████████████████████████▎                                     | 8136/17078 [00:17<00:18, 472.10frames/s]\u001b[A\n",
      " 64%|█████████████████████████████████████████████▎                         | 10904/17078 [00:22<00:12, 488.31frames/s]\u001b[A\n",
      " 81%|█████████████████████████████████████████████████████████▎             | 13792/17078 [00:28<00:06, 487.22frames/s]\u001b[A\n",
      " 97%|█████████████████████████████████████████████████████████████████████▏ | 16632/17078 [00:36<00:00, 450.19frames/s]\u001b[A\n",
      "100%|███████████████████████████████████████████████████████████████████████| 17078/17078 [00:39<00:00, 435.12frames/s]\u001b[A\n",
      "Downloading [10/22 Video] :  41%|██████████████████████▌                                | 9/22 [24:14<17:49, 82.23s/it]"
     ]
    },
    {
     "name": "stdout",
     "output_type": "stream",
     "text": [
      "\n",
      "Found YouTube Video (URL): https://www.youtube.com/watch?v=lt5T2n3dYCM\n",
      "\n",
      "Downloading (Video): [lt5T2n3dYCM] Election day countdown_ Harris campaigns with Obama and Springsteen, Trump visits Arizona and Nevada.m4a\n",
      "\n",
      " ↳ |██████████████████████████████████████████████████████████████████| 100.0%"
     ]
    },
    {
     "name": "stderr",
     "output_type": "stream",
     "text": [
      "Extracting [10/22 Audio]:  41%|███████████████████████▎                                 | 9/22 [24:19<17:49, 82.23s/it]"
     ]
    },
    {
     "name": "stdout",
     "output_type": "stream",
     "text": [
      "\n",
      "\n",
      "Extracting (Audio): [lt5T2n3dYCM] Election day countdown_ Harris campaigns with Obama and Springsteen, Trump visits Arizona and Nevada.mp3\n",
      "\n"
     ]
    },
    {
     "name": "stderr",
     "output_type": "stream",
     "text": [
      "Transcribing [10/22 Text]:  41%|██████████████████████▉                                 | 9/22 [24:22<17:49, 82.23s/it]"
     ]
    },
    {
     "name": "stdout",
     "output_type": "stream",
     "text": [
      "Transcribing (Text): [lt5T2n3dYCM] Election day countdown_ Harris campaigns with Obama and Springsteen, Trump visits Arizona and Nevada.txt\n",
      "\n"
     ]
    },
    {
     "name": "stderr",
     "output_type": "stream",
     "text": [
      "\n",
      "  0%|                                                                                    | 0/43073 [00:00<?, ?frames/s]\u001b[A\n",
      "  7%|████▊                                                                   | 2850/43073 [00:05<01:22, 489.48frames/s]\u001b[A\n",
      " 13%|█████████▋                                                              | 5760/43073 [00:12<01:21, 458.15frames/s]\u001b[A\n",
      " 20%|██████████████▎                                                         | 8540/43073 [00:20<01:24, 406.79frames/s]\u001b[A\n",
      " 27%|██████████████████▉                                                    | 11464/43073 [00:28<01:21, 389.26frames/s]\u001b[A\n",
      " 34%|███████████████████████▊                                               | 14438/43073 [00:35<01:10, 406.02frames/s]\u001b[A\n",
      " 40%|████████████████████████████▌                                          | 17302/43073 [00:42<01:04, 401.94frames/s]\u001b[A\n",
      " 46%|████████████████████████████████▊                                      | 19902/43073 [00:47<00:54, 423.63frames/s]\u001b[A\n",
      " 53%|█████████████████████████████████████▌                                 | 22750/43073 [00:54<00:48, 421.99frames/s]\u001b[A\n",
      " 60%|██████████████████████████████████████████▎                            | 25690/43073 [01:02<00:43, 399.72frames/s]\u001b[A\n",
      " 67%|███████████████████████████████████████████████▎                       | 28682/43073 [01:08<00:34, 422.03frames/s]\u001b[A\n",
      " 70%|█████████████████████████████████████████████████▊                     | 30182/43073 [01:21<00:45, 285.81frames/s]\u001b[A\n",
      " 73%|████████████████████████████████████████████████████                   | 31582/43073 [01:34<00:52, 217.43frames/s]\u001b[A\n",
      " 73%|████████████████████████████████████████████████████                   | 31582/43073 [01:44<00:52, 217.43frames/s]\u001b[A\n",
      " 77%|██████████████████████████████████████████████████████▎                | 32982/43073 [01:46<00:56, 178.52frames/s]\u001b[A\n",
      " 80%|████████████████████████████████████████████████████████▋              | 34382/43073 [01:59<00:56, 154.23frames/s]\u001b[A\n",
      " 83%|██████████████████████████████████████████████████████████▉            | 35782/43073 [02:13<00:52, 138.51frames/s]\u001b[A\n",
      " 83%|██████████████████████████████████████████████████████████▉            | 35782/43073 [02:24<00:52, 138.51frames/s]\u001b[A\n",
      " 86%|█████████████████████████████████████████████████████████████▎         | 37182/43073 [02:26<00:46, 127.96frames/s]\u001b[A\n",
      " 90%|███████████████████████████████████████████████████████████████▊       | 38682/43073 [02:39<00:35, 123.64frames/s]\u001b[A\n",
      " 93%|██████████████████████████████████████████████████████████████████     | 40082/43073 [02:52<00:25, 118.23frames/s]\u001b[A\n",
      " 93%|██████████████████████████████████████████████████████████████████     | 40082/43073 [03:04<00:25, 118.23frames/s]\u001b[A\n",
      " 96%|████████████████████████████████████████████████████████████████████▍  | 41482/43073 [03:05<00:13, 114.21frames/s]\u001b[A\n",
      "100%|██████████████████████████████████████████████████████████████████████▋| 42882/43073 [03:18<00:01, 112.10frames/s]\u001b[A\n",
      "100%|███████████████████████████████████████████████████████████████████████| 43073/43073 [03:32<00:00, 202.91frames/s]\u001b[A\n",
      "Downloading [11/22 Video] :  45%|████████████████████████                             | 10/22 [27:59<25:12, 126.01s/it]"
     ]
    },
    {
     "name": "stdout",
     "output_type": "stream",
     "text": [
      "\n",
      "Found YouTube Video (URL): https://www.youtube.com/watch?v=gKVD8ijr8oM\n",
      "\n",
      "Downloading (Video): [gKVD8ijr8oM] Harris holds star-studded rally in Georgia, Trump spotlights immigration in Nevada, Arizona.m4a\n",
      "\n",
      " ↳ |██████████████████████████████████████████████████████████████████| 100.0%"
     ]
    },
    {
     "name": "stderr",
     "output_type": "stream",
     "text": [
      "Extracting [11/22 Audio]:  45%|█████████████████████████                              | 10/22 [28:01<25:12, 126.01s/it]"
     ]
    },
    {
     "name": "stdout",
     "output_type": "stream",
     "text": [
      "\n",
      "\n",
      "Extracting (Audio): [gKVD8ijr8oM] Harris holds star-studded rally in Georgia, Trump spotlights immigration in Nevada, Arizona.mp3\n",
      "\n"
     ]
    },
    {
     "name": "stderr",
     "output_type": "stream",
     "text": [
      "Transcribing [11/22 Text]:  45%|████████████████████████▌                             | 10/22 [28:02<25:12, 126.01s/it]"
     ]
    },
    {
     "name": "stdout",
     "output_type": "stream",
     "text": [
      "Transcribing (Text): [gKVD8ijr8oM] Harris holds star-studded rally in Georgia, Trump spotlights immigration in Nevada, Arizona.txt\n",
      "\n"
     ]
    },
    {
     "name": "stderr",
     "output_type": "stream",
     "text": [
      "\n",
      "  0%|                                                                                    | 0/11904 [00:00<?, ?frames/s]\u001b[A\n",
      " 22%|████████████████▏                                                       | 2672/11904 [00:04<00:16, 549.44frames/s]\u001b[A\n",
      " 46%|█████████████████████████████████                                       | 5466/11904 [00:11<00:14, 448.64frames/s]\u001b[A\n",
      " 68%|█████████████████████████████████████████████████▏                      | 8134/11904 [00:18<00:09, 417.48frames/s]\u001b[A\n",
      " 94%|██████████████████████████████████████████████████████████████████▍    | 11132/11904 [00:26<00:01, 415.61frames/s]\u001b[A\n",
      "100%|███████████████████████████████████████████████████████████████████████| 11904/11904 [00:29<00:00, 404.28frames/s]\u001b[A\n",
      "Downloading [12/22 Video] :  50%|███████████████████████████                           | 11/22 [28:34<18:04, 98.56s/it]"
     ]
    },
    {
     "name": "stdout",
     "output_type": "stream",
     "text": [
      "\n",
      "Found YouTube Video (URL): https://www.youtube.com/watch?v=_u8uVp5uSbg\n",
      "\n",
      "Downloading (Video): [_u8uVp5uSbg] Bill Clinton LIVE_ Bill Clinton Stumps For Kamala Harris In Phoenix Arizona _ Kamala Harris News.m4a\n",
      "\n",
      " ↳ |██████████████████████████████████████████████████████████████████| 100.0%"
     ]
    },
    {
     "name": "stderr",
     "output_type": "stream",
     "text": [
      "Extracting [12/22 Audio]:  50%|████████████████████████████                            | 11/22 [28:40<18:04, 98.56s/it]"
     ]
    },
    {
     "name": "stdout",
     "output_type": "stream",
     "text": [
      "\n",
      "\n",
      "Extracting (Audio): [_u8uVp5uSbg] Bill Clinton LIVE_ Bill Clinton Stumps For Kamala Harris In Phoenix Arizona _ Kamala Harris News.mp3\n",
      "\n"
     ]
    },
    {
     "name": "stderr",
     "output_type": "stream",
     "text": [
      "Transcribing [12/22 Text]:  50%|███████████████████████████▌                           | 11/22 [28:46<18:04, 98.56s/it]"
     ]
    },
    {
     "name": "stdout",
     "output_type": "stream",
     "text": [
      "Transcribing (Text): [_u8uVp5uSbg] Bill Clinton LIVE_ Bill Clinton Stumps For Kamala Harris In Phoenix Arizona _ Kamala Harris News.txt\n",
      "\n"
     ]
    },
    {
     "name": "stderr",
     "output_type": "stream",
     "text": [
      "\n",
      "  0%|                                                                                    | 0/56008 [00:00<?, ?frames/s]\u001b[A\n",
      "  5%|███▋                                                                    | 2832/56008 [00:04<01:24, 631.64frames/s]\u001b[A\n",
      " 10%|███████                                                                 | 5516/56008 [00:09<01:32, 545.46frames/s]\u001b[A\n",
      " 14%|█████████▉                                                              | 7704/56008 [00:14<01:36, 500.75frames/s]\u001b[A\n",
      " 19%|█████████████▍                                                         | 10608/56008 [00:19<01:26, 526.74frames/s]\u001b[A\n",
      " 24%|█████████████████▏                                                     | 13566/56008 [00:25<01:21, 523.25frames/s]\u001b[A\n",
      " 29%|████████████████████▌                                                  | 16178/56008 [00:31<01:20, 496.94frames/s]\u001b[A\n",
      " 34%|████████████████████████▏                                              | 19078/56008 [00:37<01:14, 493.52frames/s]\u001b[A\n",
      " 39%|███████████████████████████▋                                           | 21854/56008 [00:44<01:13, 464.81frames/s]\u001b[A\n",
      " 43%|██████████████████████████████▏                                        | 23858/56008 [00:48<01:09, 461.01frames/s]\u001b[A\n",
      " 47%|█████████████████████████████████▌                                     | 26434/56008 [00:53<01:01, 479.65frames/s]\u001b[A\n",
      " 52%|█████████████████████████████████████                                  | 29274/56008 [00:58<00:51, 520.08frames/s]\u001b[A\n",
      " 57%|████████████████████████████████████████▋                              | 32102/56008 [01:04<00:47, 500.09frames/s]\u001b[A\n",
      " 63%|████████████████████████████████████████████▍                          | 35078/56008 [01:09<00:40, 520.17frames/s]\u001b[A\n",
      " 68%|███████████████████████████████████████████████▉                       | 37850/56008 [01:14<00:34, 531.12frames/s]\u001b[A\n",
      " 72%|███████████████████████████████████████████████████                    | 40242/56008 [01:18<00:29, 531.70frames/s]\u001b[A\n",
      " 76%|█████████████████████████████████████████████████████▉                 | 42590/56008 [01:24<00:27, 480.83frames/s]\u001b[A\n",
      " 80%|████████████████████████████████████████████████████████▋              | 44674/56008 [01:29<00:24, 469.18frames/s]\u001b[A\n",
      " 85%|████████████████████████████████████████████████████████████▏          | 47506/56008 [01:35<00:17, 483.76frames/s]\u001b[A\n",
      " 90%|███████████████████████████████████████████████████████████████▋       | 50246/56008 [01:41<00:12, 472.20frames/s]\u001b[A\n",
      " 95%|███████████████████████████████████████████████████████████████████▎   | 53090/56008 [01:50<00:06, 480.70frames/s]\u001b[A\n",
      "Downloading [13/22 Video] :  55%|████████████████████████████▉                        | 12/22 [30:39<17:47, 106.72s/it]"
     ]
    },
    {
     "name": "stdout",
     "output_type": "stream",
     "text": [
      "\n",
      "Found YouTube Video (URL): https://www.youtube.com/watch?v=TBuuxQm_9XQ\n",
      "\n",
      "Downloading (Video): [TBuuxQm_9XQ] Obama Shares ‘Good News’ With Arizona Voters_ ‘Kamala Harris Is Ready To Do The Job’.m4a\n",
      "\n",
      " ↳ |██████████████████████████████████████████████████████████████████| 100.0%"
     ]
    },
    {
     "name": "stderr",
     "output_type": "stream",
     "text": [
      "Extracting [13/22 Audio]:  55%|█████████████████████████████▉                         | 12/22 [30:43<17:47, 106.72s/it]"
     ]
    },
    {
     "name": "stdout",
     "output_type": "stream",
     "text": [
      "\n",
      "\n",
      "Extracting (Audio): [TBuuxQm_9XQ] Obama Shares ‘Good News’ With Arizona Voters_ ‘Kamala Harris Is Ready To Do The Job’.mp3\n",
      "\n"
     ]
    },
    {
     "name": "stderr",
     "output_type": "stream",
     "text": [
      "Transcribing [13/22 Text]:  55%|█████████████████████████████▍                        | 12/22 [30:45<17:47, 106.72s/it]"
     ]
    },
    {
     "name": "stdout",
     "output_type": "stream",
     "text": [
      "Transcribing (Text): [TBuuxQm_9XQ] Obama Shares ‘Good News’ With Arizona Voters_ ‘Kamala Harris Is Ready To Do The Job’.txt\n",
      "\n"
     ]
    },
    {
     "name": "stderr",
     "output_type": "stream",
     "text": [
      "\n",
      "  0%|                                                                                    | 0/18608 [00:00<?, ?frames/s]\u001b[A\n",
      "  3%|██▏                                                                      | 544/18608 [00:02<01:14, 243.81frames/s]\u001b[A\n",
      " 16%|███████████▊                                                            | 3060/18608 [00:04<00:21, 725.34frames/s]\u001b[A\n",
      " 30%|█████████████████████▎                                                  | 5492/18608 [00:09<00:21, 597.43frames/s]\u001b[A\n",
      " 43%|███████████████████████████████                                         | 8012/18608 [00:14<00:18, 560.64frames/s]\u001b[A\n",
      " 56%|████████████████████████████████████████                               | 10492/18608 [00:18<00:14, 542.78frames/s]\u001b[A\n",
      " 65%|██████████████████████████████████████████████▎                        | 12132/18608 [00:22<00:12, 516.81frames/s]\u001b[A\n",
      " 80%|████████████████████████████████████████████████████████▋              | 14860/18608 [00:26<00:06, 590.36frames/s]\u001b[A\n",
      " 95%|███████████████████████████████████████████████████████████████████▏   | 17606/18608 [00:31<00:01, 540.68frames/s]\u001b[A\n",
      " 99%|██████████████████████████████████████████████████████████████████████ | 18368/18608 [00:34<00:00, 488.70frames/s]\u001b[A\n",
      "100%|███████████████████████████████████████████████████████████████████████| 18608/18608 [00:36<00:00, 504.20frames/s]\u001b[A\n",
      "Downloading [14/22 Video] :  59%|███████████████████████████████▉                      | 13/22 [31:25<13:12, 88.01s/it]"
     ]
    },
    {
     "name": "stdout",
     "output_type": "stream",
     "text": [
      "\n",
      "Found YouTube Video (URL): https://www.youtube.com/watch?v=lfPlhMnMyqw\n",
      "\n",
      "Downloading (Video): [lfPlhMnMyqw] Arizona Poll Results (SEPTEMBER 15-18) Donald Trump vs Kamala Harris 2024 US Election.m4a\n",
      "\n",
      " ↳ |██████████████████████████████████████████████████████████████████| 100.0%"
     ]
    },
    {
     "name": "stderr",
     "output_type": "stream",
     "text": [
      "Extracting [14/22 Audio]:  59%|█████████████████████████████████                       | 13/22 [31:28<13:12, 88.01s/it]"
     ]
    },
    {
     "name": "stdout",
     "output_type": "stream",
     "text": [
      "\n",
      "\n",
      "Extracting (Audio): [lfPlhMnMyqw] Arizona Poll Results (SEPTEMBER 15-18) Donald Trump vs Kamala Harris 2024 US Election.mp3\n",
      "\n"
     ]
    },
    {
     "name": "stderr",
     "output_type": "stream",
     "text": [
      "Transcribing [14/22 Text]:  59%|████████████████████████████████▌                      | 13/22 [31:29<13:12, 88.01s/it]"
     ]
    },
    {
     "name": "stdout",
     "output_type": "stream",
     "text": [
      "Transcribing (Text): [lfPlhMnMyqw] Arizona Poll Results (SEPTEMBER 15-18) Donald Trump vs Kamala Harris 2024 US Election.txt\n",
      "\n"
     ]
    },
    {
     "name": "stderr",
     "output_type": "stream",
     "text": [
      "\n",
      "  0%|                                                                                    | 0/17124 [00:00<?, ?frames/s]\u001b[A\n",
      " 18%|████████████▌                                                           | 3000/17124 [00:05<00:25, 563.79frames/s]\u001b[A\n",
      " 34%|████████████████████████▍                                               | 5800/17124 [00:11<00:21, 517.91frames/s]\u001b[A\n",
      " 51%|████████████████████████████████████▊                                   | 8744/17124 [00:16<00:16, 511.96frames/s]\u001b[A\n",
      " 68%|████████████████████████████████████████████████▎                      | 11648/17124 [00:22<00:10, 506.75frames/s]\u001b[A\n",
      " 83%|██████████████████████████████████████████████████████████▉            | 14208/17124 [00:28<00:05, 495.43frames/s]\u001b[A\n",
      "100%|███████████████████████████████████████████████████████████████████████| 17124/17124 [00:32<00:00, 526.27frames/s]\u001b[A\n",
      "Downloading [15/22 Video] :  64%|██████████████████████████████████▎                   | 14/22 [32:04<09:47, 73.46s/it]"
     ]
    },
    {
     "name": "stdout",
     "output_type": "stream",
     "text": [
      "\n",
      "Found YouTube Video (URL): https://www.youtube.com/watch?v=zsExVpgTsCc\n",
      "\n",
      "Downloading (Video): [zsExVpgTsCc] Barack Obama Rallies For Kamala Harris In Swing State Arizona _ US Presidential Elections _ N18G.m4a\n",
      "\n",
      " ↳ |██████████████████████████████████████████████████████████████████| 100.0%"
     ]
    },
    {
     "name": "stderr",
     "output_type": "stream",
     "text": [
      "Extracting [15/22 Audio]:  64%|███████████████████████████████████▋                    | 14/22 [32:07<09:47, 73.46s/it]"
     ]
    },
    {
     "name": "stdout",
     "output_type": "stream",
     "text": [
      "\n",
      "\n",
      "Extracting (Audio): [zsExVpgTsCc] Barack Obama Rallies For Kamala Harris In Swing State Arizona _ US Presidential Elections _ N18G.mp3\n",
      "\n"
     ]
    },
    {
     "name": "stderr",
     "output_type": "stream",
     "text": [
      "Transcribing [15/22 Text]:  64%|███████████████████████████████████                    | 14/22 [32:09<09:47, 73.46s/it]"
     ]
    },
    {
     "name": "stdout",
     "output_type": "stream",
     "text": [
      "Transcribing (Text): [zsExVpgTsCc] Barack Obama Rallies For Kamala Harris In Swing State Arizona _ US Presidential Elections _ N18G.txt\n",
      "\n"
     ]
    },
    {
     "name": "stderr",
     "output_type": "stream",
     "text": [
      "\n",
      "  0%|                                                                                    | 0/21425 [00:00<?, ?frames/s]\u001b[A\n",
      " 12%|████████▋                                                               | 2580/21425 [00:05<00:41, 456.15frames/s]\u001b[A\n",
      " 23%|████████████████▍                                                       | 4888/21425 [00:09<00:32, 503.50frames/s]\u001b[A\n",
      " 37%|██████████████████████████▌                                             | 7888/21425 [00:13<00:22, 608.76frames/s]\u001b[A\n",
      " 51%|███████████████████████████████████▉                                   | 10844/21425 [00:19<00:18, 577.39frames/s]\u001b[A\n",
      " 65%|█████████████████████████████████████████████▉                         | 13844/21425 [00:22<00:11, 677.15frames/s]\u001b[A\n",
      " 78%|███████████████████████████████████████████████████████▏               | 16644/21425 [00:26<00:06, 706.60frames/s]\u001b[A\n",
      " 90%|███████████████████████████████████████████████████████████████▊       | 19244/21425 [00:29<00:03, 702.73frames/s]\u001b[A\n",
      "100%|███████████████████████████████████████████████████████████████████████| 21425/21425 [00:32<00:00, 660.03frames/s]\u001b[A\n",
      "Downloading [16/22 Video] :  68%|████████████████████████████████████▊                 | 15/22 [32:44<07:23, 63.37s/it]"
     ]
    },
    {
     "name": "stdout",
     "output_type": "stream",
     "text": [
      "\n",
      "Found YouTube Video (URL): https://www.youtube.com/watch?v=0GgftbIAbQM\n",
      "\n",
      "Downloading (Video): [0GgftbIAbQM] Former President Barack Obama draws big crowd at Tucson event for Harris.m4a\n",
      "\n",
      " ↳ |██████████████████████████████████████████████████████████████████| 100.0%"
     ]
    },
    {
     "name": "stderr",
     "output_type": "stream",
     "text": [
      "Extracting [16/22 Audio]:  68%|██████████████████████████████████████▏                 | 15/22 [32:48<07:23, 63.37s/it]"
     ]
    },
    {
     "name": "stdout",
     "output_type": "stream",
     "text": [
      "\n",
      "\n",
      "Extracting (Audio): [0GgftbIAbQM] Former President Barack Obama draws big crowd at Tucson event for Harris.mp3\n",
      "\n"
     ]
    },
    {
     "name": "stderr",
     "output_type": "stream",
     "text": [
      "Transcribing [16/22 Text]:  68%|█████████████████████████████████████▌                 | 15/22 [32:49<07:23, 63.37s/it]"
     ]
    },
    {
     "name": "stdout",
     "output_type": "stream",
     "text": [
      "Transcribing (Text): [0GgftbIAbQM] Former President Barack Obama draws big crowd at Tucson event for Harris.txt\n",
      "\n"
     ]
    },
    {
     "name": "stderr",
     "output_type": "stream",
     "text": [
      "\n",
      "  0%|                                                                                    | 0/16762 [00:00<?, ?frames/s]\u001b[A\n",
      " 18%|████████████▉                                                           | 3000/16762 [00:06<00:30, 450.22frames/s]\u001b[A\n",
      " 35%|█████████████████████████                                               | 5848/16762 [00:13<00:24, 443.07frames/s]\u001b[A\n",
      " 53%|█████████████████████████████████████▉                                  | 8844/16762 [00:20<00:18, 433.83frames/s]\u001b[A\n",
      " 70%|█████████████████████████████████████████████████▋                     | 11740/16762 [00:26<00:11, 432.85frames/s]\u001b[A\n",
      " 87%|█████████████████████████████████████████████████████████████▌         | 14532/16762 [00:34<00:05, 418.29frames/s]\u001b[A\n",
      "100%|███████████████████████████████████████████████████████████████████████| 16762/16762 [00:39<00:00, 423.91frames/s]\u001b[A\n",
      "Downloading [17/22 Video] :  73%|███████████████████████████████████████▎              | 16/22 [33:31<05:50, 58.47s/it]"
     ]
    },
    {
     "name": "stdout",
     "output_type": "stream",
     "text": [
      "\n",
      "Found YouTube Video (URL): https://www.youtube.com/watch?v=MABCTLV3bnc\n",
      "\n",
      "Downloading (Video): [MABCTLV3bnc] Former President Barack Obama campaigns in Tucson for VP Kamala Harris.m4a\n",
      "\n",
      " ↳ |██████████████████████████████████████████████████████████████████| 100.0%"
     ]
    },
    {
     "name": "stderr",
     "output_type": "stream",
     "text": [
      "Extracting [17/22 Audio]:  73%|████████████████████████████████████████▋               | 16/22 [33:36<05:50, 58.47s/it]"
     ]
    },
    {
     "name": "stdout",
     "output_type": "stream",
     "text": [
      "\n",
      "\n",
      "Extracting (Audio): [MABCTLV3bnc] Former President Barack Obama campaigns in Tucson for VP Kamala Harris.mp3\n",
      "\n"
     ]
    },
    {
     "name": "stderr",
     "output_type": "stream",
     "text": [
      "Transcribing [17/22 Text]:  73%|████████████████████████████████████████               | 16/22 [33:36<05:50, 58.47s/it]"
     ]
    },
    {
     "name": "stdout",
     "output_type": "stream",
     "text": [
      "Transcribing (Text): [MABCTLV3bnc] Former President Barack Obama campaigns in Tucson for VP Kamala Harris.txt\n",
      "\n"
     ]
    },
    {
     "name": "stderr",
     "output_type": "stream",
     "text": [
      "\n",
      "  0%|                                                                                    | 0/10653 [00:00<?, ?frames/s]\u001b[A\n",
      " 25%|█████████████████▊                                                      | 2640/10653 [00:06<00:19, 411.86frames/s]\u001b[A\n",
      " 45%|████████████████████████████████▎                                       | 4788/10653 [00:11<00:13, 434.09frames/s]\u001b[A\n",
      " 72%|███████████████████████████████████████████████████▌                    | 7628/10653 [00:17<00:06, 446.84frames/s]\u001b[A\n",
      " 98%|█████████████████████████████████████████████████████████████████████▊ | 10484/10653 [00:24<00:00, 413.05frames/s]\u001b[A\n",
      "100%|███████████████████████████████████████████████████████████████████████| 10653/10653 [00:27<00:00, 392.75frames/s]\u001b[A\n",
      "Downloading [18/22 Video] :  77%|█████████████████████████████████████████▋            | 17/22 [34:07<04:17, 51.44s/it]"
     ]
    },
    {
     "name": "stdout",
     "output_type": "stream",
     "text": [
      "\n",
      "Found YouTube Video (URL): https://www.youtube.com/watch?v=3g690rs7j4w\n",
      "\n",
      "Downloading (Video): [3g690rs7j4w] President Barack Obama Speech at Arizona Rally for Harris-Walz.m4a\n",
      "\n",
      " ↳ |██████                                                            | 9.2% ↳ |████████████                                                      | 18.3% ↳ |██████████████████                                                | 27.5% ↳ |████████████████████████                                          | 36.6% ↳ |██████████████████████████████                                    | 45.8% ↳ |████████████████████████████████████                              | 54.9% ↳ |██████████████████████████████████████████                        | 64.1% ↳ |████████████████████████████████████████████████                  | 73.2% ↳ |██████████████████████████████████████████████████████            | 82.4% ↳ |████████████████████████████████████████████████████████████      | 91.5% ↳ |██████████████████████████████████████████████████████████████████| 100.0%"
     ]
    },
    {
     "name": "stderr",
     "output_type": "stream",
     "text": [
      "Extracting [18/22 Audio]:  77%|███████████████████████████████████████████▎            | 17/22 [34:53<04:17, 51.44s/it]"
     ]
    },
    {
     "name": "stdout",
     "output_type": "stream",
     "text": [
      "\n",
      "\n",
      "Extracting (Audio): [3g690rs7j4w] President Barack Obama Speech at Arizona Rally for Harris-Walz.mp3\n",
      "\n"
     ]
    },
    {
     "name": "stderr",
     "output_type": "stream",
     "text": [
      "Transcribing [18/22 Text]:  77%|██████████████████████████████████████████▌            | 17/22 [35:46<04:17, 51.44s/it]"
     ]
    },
    {
     "name": "stdout",
     "output_type": "stream",
     "text": [
      "Transcribing (Text): [3g690rs7j4w] President Barack Obama Speech at Arizona Rally for Harris-Walz.txt\n",
      "\n"
     ]
    },
    {
     "name": "stderr",
     "output_type": "stream",
     "text": [
      "\n",
      "  0%|                                                                                   | 0/637269 [00:00<?, ?frames/s]\u001b[A\n",
      "  0%|▏                                                                    | 1858/637269 [00:11<1:02:45, 168.76frames/s]\u001b[A\n",
      "  1%|▌                                                                      | 4858/637269 [00:20<41:45, 252.43frames/s]\u001b[A\n",
      "  1%|▉                                                                      | 7858/637269 [00:26<31:53, 328.86frames/s]\u001b[A\n",
      "  2%|█▏                                                                    | 10858/637269 [00:36<32:01, 326.04frames/s]\u001b[A\n",
      "  2%|█▌                                                                    | 13858/637269 [00:37<22:03, 471.09frames/s]\u001b[A\n",
      "  3%|█▊                                                                    | 16858/637269 [00:39<16:13, 637.41frames/s]\u001b[A\n",
      "  3%|██                                                                    | 18974/637269 [00:41<14:45, 698.50frames/s]\u001b[A\n",
      "  3%|██▎                                                                   | 21430/637269 [00:45<15:48, 649.36frames/s]\u001b[A\n",
      "  4%|██▌                                                                   | 23550/637269 [00:50<18:01, 567.61frames/s]\u001b[A\n",
      "  4%|██▊                                                                   | 25630/637269 [00:54<18:08, 561.74frames/s]\u001b[A\n",
      "  4%|███▏                                                                  | 28630/637269 [00:58<16:38, 609.80frames/s]\u001b[A\n",
      "  5%|███▍                                                                  | 30970/637269 [01:03<17:57, 562.44frames/s]\u001b[A\n",
      "  5%|███▋                                                                  | 33786/637269 [01:09<18:29, 543.68frames/s]\u001b[A\n",
      "  6%|████                                                                  | 36606/637269 [01:13<17:50, 560.87frames/s]\u001b[A\n",
      "  6%|████▎                                                                 | 39606/637269 [01:21<19:38, 507.01frames/s]\u001b[A\n",
      "  7%|████▋                                                                 | 42606/637269 [01:27<20:34, 481.56frames/s]\u001b[A\n",
      "  7%|████▉                                                                 | 45146/637269 [01:32<20:04, 491.67frames/s]\u001b[A\n",
      "  8%|█████▎                                                                | 48146/637269 [01:38<19:24, 506.00frames/s]\u001b[A\n",
      "  8%|█████▌                                                                | 51146/637269 [01:40<15:34, 627.08frames/s]\u001b[A\n",
      "  8%|█████▉                                                                | 53922/637269 [01:45<16:09, 601.41frames/s]\u001b[A\n",
      "  9%|██████▏                                                               | 56720/637269 [01:51<16:52, 573.59frames/s]\u001b[A\n",
      "  9%|██████▌                                                               | 59394/637269 [01:56<17:20, 555.18frames/s]\u001b[A\n",
      " 10%|██████▊                                                               | 62126/637269 [02:01<17:20, 552.62frames/s]\u001b[A\n",
      " 10%|███████                                                               | 64734/637269 [02:06<17:42, 538.82frames/s]\u001b[A\n",
      " 11%|███████▍                                                              | 67166/637269 [02:11<17:55, 530.23frames/s]\u001b[A\n",
      " 11%|███████▋                                                              | 69746/637269 [02:17<19:06, 495.08frames/s]\u001b[A\n",
      " 11%|███████▉                                                              | 72746/637269 [02:22<18:15, 515.30frames/s]\u001b[A\n",
      " 12%|████████▎                                                             | 75746/637269 [02:27<17:04, 547.92frames/s]\u001b[A\n",
      " 12%|████████▌                                                             | 78434/637269 [02:32<17:41, 526.68frames/s]\u001b[A\n",
      " 13%|████████▉                                                             | 81258/637269 [02:38<17:22, 533.37frames/s]\u001b[A\n",
      " 13%|█████████▏                                                            | 83858/637269 [02:41<16:18, 565.63frames/s]\u001b[A\n",
      " 14%|█████████▌                                                            | 86858/637269 [02:45<14:22, 638.03frames/s]\u001b[A\n",
      " 14%|█████████▋                                                            | 88682/637269 [02:47<13:29, 677.52frames/s]\u001b[A\n",
      " 14%|██████████                                                            | 91222/637269 [02:50<12:34, 723.58frames/s]\u001b[A\n",
      " 15%|██████████▎                                                           | 93746/637269 [02:54<12:56, 700.10frames/s]\u001b[A\n",
      " 15%|██████████▌                                                           | 96054/637269 [02:58<13:51, 650.87frames/s]\u001b[A\n",
      " 16%|██████████▉                                                           | 99054/637269 [03:02<13:21, 671.14frames/s]\u001b[A\n",
      " 16%|███████████                                                          | 101862/637269 [03:06<13:12, 675.83frames/s]\u001b[A\n",
      " 16%|███████████▎                                                         | 104602/637269 [03:12<14:30, 611.72frames/s]\u001b[A\n",
      " 17%|███████████▌                                                         | 107146/637269 [03:16<14:37, 604.33frames/s]\u001b[A\n",
      " 17%|███████████▊                                                         | 109546/637269 [03:21<15:36, 563.35frames/s]\u001b[A\n",
      " 18%|████████████▏                                                        | 111990/637269 [03:26<16:25, 533.22frames/s]\u001b[A\n",
      " 18%|████████████▍                                                        | 114438/637269 [03:31<15:58, 545.61frames/s]\u001b[A\n",
      " 18%|████████████▋                                                        | 117078/637269 [03:36<16:21, 530.26frames/s]\u001b[A\n",
      " 19%|█████████████                                                        | 120078/637269 [03:41<15:40, 549.89frames/s]\u001b[A\n",
      " 19%|█████████████▏                                                       | 122098/637269 [03:45<16:00, 536.36frames/s]\u001b[A\n",
      " 20%|█████████████▌                                                       | 125098/637269 [03:49<14:49, 575.78frames/s]\u001b[A\n",
      " 20%|█████████████▊                                                       | 127882/637269 [03:55<15:16, 555.64frames/s]\u001b[A\n",
      " 20%|██████████████                                                       | 130298/637269 [03:59<15:28, 545.99frames/s]\u001b[A\n",
      " 21%|██████████████▍                                                      | 132846/637269 [04:03<14:45, 569.63frames/s]\u001b[A\n",
      " 21%|██████████████▋                                                      | 135386/637269 [04:09<15:25, 542.07frames/s]\u001b[A\n",
      " 22%|██████████████▉                                                      | 138386/637269 [04:13<13:48, 601.93frames/s]\u001b[A\n",
      " 22%|███████████████▎                                                     | 141386/637269 [04:16<12:48, 645.64frames/s]\u001b[A\n",
      " 23%|███████████████▋                                                     | 144386/637269 [04:21<12:47, 642.37frames/s]\u001b[A\n",
      " 23%|███████████████▉                                                     | 147386/637269 [04:27<14:02, 581.46frames/s]\u001b[A\n",
      " 24%|████████████████▎                                                    | 150118/637269 [04:33<14:53, 544.96frames/s]\u001b[A\n",
      " 24%|████████████████▌                                                    | 152786/637269 [04:37<13:39, 591.11frames/s]\u001b[A\n",
      " 24%|████████████████▊                                                    | 155786/637269 [04:42<13:20, 601.42frames/s]\u001b[A\n",
      " 25%|█████████████████▏                                                   | 158274/637269 [04:45<13:01, 612.78frames/s]\u001b[A\n",
      " 25%|█████████████████▍                                                   | 160826/637269 [04:49<12:49, 618.89frames/s]\u001b[A\n",
      " 26%|█████████████████▋                                                   | 163638/637269 [04:54<12:19, 640.27frames/s]\u001b[A\n",
      " 26%|██████████████████                                                   | 166254/637269 [04:59<13:11, 595.45frames/s]\u001b[A\n",
      " 27%|██████████████████▎                                                  | 168898/637269 [05:03<13:13, 590.13frames/s]\u001b[A\n",
      " 27%|██████████████████▌                                                  | 171898/637269 [05:08<12:49, 604.86frames/s]\u001b[A\n",
      " 27%|██████████████████▉                                                  | 174386/637269 [05:12<12:49, 601.21frames/s]\u001b[A\n",
      " 28%|███████████████████▏                                                 | 177130/637269 [05:17<13:24, 572.20frames/s]\u001b[A\n",
      " 28%|███████████████████▌                                                 | 180130/637269 [05:22<12:57, 588.13frames/s]\u001b[A\n",
      " 29%|███████████████████▊                                                 | 183130/637269 [05:27<12:57, 584.19frames/s]\u001b[A\n",
      " 29%|████████████████████                                                 | 185602/637269 [05:31<12:30, 602.00frames/s]\u001b[A\n",
      " 30%|████████████████████▎                                                | 188022/637269 [05:36<13:12, 566.84frames/s]\u001b[A\n",
      " 30%|████████████████████▋                                                | 190746/637269 [05:40<12:32, 593.66frames/s]\u001b[A\n",
      " 30%|████████████████████▉                                                | 193746/637269 [05:46<12:58, 569.94frames/s]\u001b[A\n",
      " 31%|█████████████████████▎                                               | 196454/637269 [05:51<12:44, 576.77frames/s]\u001b[A\n",
      " 31%|█████████████████████▌                                               | 199070/637269 [05:54<12:09, 600.63frames/s]\u001b[A\n",
      " 32%|█████████████████████▉                                               | 202070/637269 [05:59<11:48, 614.50frames/s]\u001b[A\n",
      " 32%|██████████████████████▏                                              | 205070/637269 [06:05<12:17, 586.19frames/s]\u001b[A\n",
      " 33%|██████████████████████▌                                              | 208070/637269 [06:10<11:58, 597.45frames/s]\u001b[A\n",
      " 33%|██████████████████████▊                                              | 210862/637269 [06:14<12:02, 590.33frames/s]\u001b[A\n",
      " 34%|███████████████████████                                              | 213534/637269 [06:20<13:03, 540.66frames/s]\u001b[A\n",
      " 34%|███████████████████████▍                                             | 216094/637269 [06:26<13:18, 527.48frames/s]\u001b[A\n",
      " 34%|███████████████████████▋                                             | 218796/637269 [06:31<13:47, 505.81frames/s]\u001b[A\n",
      " 35%|███████████████████████▉                                             | 221528/637269 [06:36<13:10, 526.17frames/s]\u001b[A\n",
      " 35%|████████████████████████▎                                            | 224528/637269 [06:42<13:14, 519.45frames/s]\u001b[A\n",
      " 36%|████████████████████████▋                                            | 227528/637269 [06:47<12:20, 553.56frames/s]\u001b[A\n",
      " 36%|████████████████████████▉                                            | 230428/637269 [06:52<12:13, 554.57frames/s]\u001b[A\n",
      " 37%|█████████████████████████▎                                           | 233376/637269 [06:57<12:20, 545.61frames/s]\u001b[A\n",
      " 37%|█████████████████████████▌                                           | 236108/637269 [07:03<12:37, 529.49frames/s]\u001b[A\n",
      " 37%|█████████████████████████▊                                           | 238540/637269 [07:08<12:38, 526.02frames/s]\u001b[A\n",
      " 38%|██████████████████████████▏                                          | 241540/637269 [07:13<11:54, 553.73frames/s]\u001b[A\n",
      " 38%|██████████████████████████▍                                          | 244184/637269 [07:18<12:15, 534.46frames/s]\u001b[A\n",
      " 39%|██████████████████████████▋                                          | 247016/637269 [07:23<12:00, 541.35frames/s]\u001b[A\n",
      " 39%|███████████████████████████                                          | 250016/637269 [07:28<11:46, 548.11frames/s]\u001b[A\n",
      " 40%|███████████████████████████▎                                         | 252508/637269 [07:33<11:32, 555.83frames/s]\u001b[A\n",
      " 40%|███████████████████████████▋                                         | 255508/637269 [07:36<10:15, 620.03frames/s]\u001b[A\n",
      " 41%|███████████████████████████▉                                         | 258508/637269 [07:42<10:38, 593.43frames/s]\u001b[A\n",
      " 41%|████████████████████████████▎                                        | 261508/637269 [07:47<10:40, 587.11frames/s]\u001b[A\n",
      " 41%|████████████████████████████▌                                        | 264132/637269 [07:52<10:37, 585.39frames/s]\u001b[A\n",
      " 42%|████████████████████████████▊                                        | 266512/637269 [07:57<11:16, 548.31frames/s]\u001b[A\n",
      " 42%|█████████████████████████████▏                                       | 269244/637269 [08:02<11:08, 550.68frames/s]\u001b[A\n",
      " 43%|█████████████████████████████▍                                       | 272060/637269 [08:08<11:37, 523.54frames/s]\u001b[A\n",
      " 43%|█████████████████████████████▊                                       | 274840/637269 [08:12<11:16, 536.06frames/s]\u001b[A\n",
      " 44%|██████████████████████████████                                       | 277464/637269 [08:17<11:11, 535.93frames/s]\u001b[A\n",
      " 44%|██████████████████████████████▎                                      | 280464/637269 [08:23<11:13, 529.91frames/s]\u001b[A\n",
      " 44%|██████████████████████████████▋                                      | 283228/637269 [08:28<10:44, 549.26frames/s]\u001b[A\n",
      " 45%|██████████████████████████████▉                                      | 285792/637269 [08:33<11:12, 522.25frames/s]\u001b[A\n",
      " 45%|███████████████████████████████▏                                     | 288316/637269 [08:38<11:14, 517.61frames/s]\u001b[A\n",
      " 46%|███████████████████████████████▍                                     | 290772/637269 [08:42<10:21, 557.53frames/s]\u001b[A\n",
      " 46%|███████████████████████████████▊                                     | 293772/637269 [08:46<09:46, 585.79frames/s]\u001b[A\n",
      " 47%|████████████████████████████████▏                                    | 296772/637269 [08:51<09:25, 602.25frames/s]\u001b[A\n",
      " 47%|████████████████████████████████▍                                    | 299540/637269 [08:57<10:10, 553.20frames/s]\u001b[A\n",
      " 47%|████████████████████████████████▋                                    | 302192/637269 [09:02<10:20, 539.94frames/s]\u001b[A\n",
      " 48%|█████████████████████████████████                                    | 305192/637269 [09:07<09:45, 567.63frames/s]\u001b[A\n",
      " 48%|█████████████████████████████████▎                                   | 307932/637269 [09:12<09:39, 567.89frames/s]\u001b[A\n",
      " 49%|█████████████████████████████████▋                                   | 310588/637269 [09:16<09:27, 575.45frames/s]\u001b[A\n",
      " 49%|█████████████████████████████████▉                                   | 313588/637269 [09:23<10:26, 516.39frames/s]\u001b[A\n",
      " 50%|██████████████████████████████████▎                                  | 316588/637269 [09:28<09:29, 562.77frames/s]\u001b[A\n",
      " 50%|██████████████████████████████████▌                                  | 319588/637269 [09:32<09:06, 581.61frames/s]\u001b[A\n",
      " 51%|██████████████████████████████████▉                                  | 322588/637269 [09:37<08:52, 590.80frames/s]\u001b[A\n",
      " 51%|███████████████████████████████████▏                                 | 325334/637269 [09:43<09:18, 558.15frames/s]\u001b[A\n",
      " 51%|███████████████████████████████████▌                                 | 327922/637269 [09:48<09:33, 539.65frames/s]\u001b[A\n",
      " 52%|███████████████████████████████████▊                                 | 330346/637269 [09:53<09:29, 538.51frames/s]\u001b[A\n",
      " 52%|████████████████████████████████████                                 | 333346/637269 [09:58<09:20, 542.70frames/s]\u001b[A\n",
      " 53%|████████████████████████████████████▍                                | 336346/637269 [10:04<09:27, 530.65frames/s]\u001b[A\n",
      " 53%|████████████████████████████████████▋                                | 339346/637269 [10:08<08:45, 566.60frames/s]\u001b[A\n",
      " 54%|█████████████████████████████████████                                | 342346/637269 [10:14<08:33, 573.99frames/s]\u001b[A\n",
      " 54%|█████████████████████████████████████▍                               | 345346/637269 [10:19<08:38, 562.97frames/s]\u001b[A\n",
      " 55%|█████████████████████████████████████▋                               | 348162/637269 [10:24<08:20, 577.76frames/s]\u001b[A\n",
      " 55%|█████████████████████████████████████▉                               | 350650/637269 [10:28<08:21, 571.71frames/s]\u001b[A\n",
      " 55%|██████████████████████████████████████▎                              | 353458/637269 [10:33<08:27, 559.65frames/s]\u001b[A\n",
      " 56%|██████████████████████████████████████▌                              | 356254/637269 [10:40<08:55, 524.52frames/s]\u001b[A\n",
      " 56%|██████████████████████████████████████▉                              | 359086/637269 [10:45<08:50, 524.12frames/s]\u001b[A\n",
      " 57%|███████████████████████████████████████▏                             | 361538/637269 [10:50<09:01, 509.61frames/s]\u001b[A\n",
      " 57%|███████████████████████████████████████▍                             | 364254/637269 [10:55<08:42, 522.46frames/s]\u001b[A\n",
      " 58%|███████████████████████████████████████▋                             | 367066/637269 [11:00<08:27, 532.48frames/s]\u001b[A\n",
      " 58%|████████████████████████████████████████                             | 369618/637269 [11:05<08:33, 520.73frames/s]\u001b[A\n",
      " 58%|████████████████████████████████████████▎                            | 372618/637269 [11:11<08:32, 515.92frames/s]\u001b[A\n",
      " 59%|████████████████████████████████████████▋                            | 375618/637269 [11:13<06:38, 656.01frames/s]\u001b[A\n",
      " 59%|████████████████████████████████████████▉                            | 378618/637269 [11:15<05:21, 805.39frames/s]\u001b[A\n",
      " 60%|█████████████████████████████████████████▎                           | 381618/637269 [11:17<04:28, 950.89frames/s]\u001b[A\n",
      " 60%|█████████████████████████████████████████                           | 384618/637269 [11:19<03:53, 1079.97frames/s]\u001b[A\n",
      " 61%|█████████████████████████████████████████▎                          | 387618/637269 [11:21<03:29, 1192.92frames/s]\u001b[A\n",
      " 61%|█████████████████████████████████████████▋                          | 390618/637269 [11:22<03:07, 1314.04frames/s]\u001b[A\n",
      " 62%|█████████████████████████████████████████▉                          | 393110/637269 [11:25<03:20, 1215.54frames/s]\u001b[A\n",
      " 62%|██████████████████████████████████████████▊                          | 395630/637269 [11:29<04:11, 959.22frames/s]\u001b[A\n",
      " 63%|███████████████████████████████████████████▏                         | 398630/637269 [11:33<04:42, 845.09frames/s]\u001b[A\n",
      " 63%|███████████████████████████████████████████▍                         | 401630/637269 [11:38<04:57, 791.46frames/s]\u001b[A\n",
      " 63%|███████████████████████████████████████████▊                         | 404526/637269 [11:43<05:35, 694.52frames/s]\u001b[A\n",
      " 64%|████████████████████████████████████████████                         | 407526/637269 [11:48<05:36, 681.85frames/s]\u001b[A\n",
      " 64%|████████████████████████████████████████████▍                        | 410386/637269 [11:52<05:44, 658.60frames/s]\u001b[A\n",
      " 65%|████████████████████████████████████████████▋                        | 412978/637269 [11:57<05:56, 628.36frames/s]\u001b[A\n",
      " 65%|█████████████████████████████████████████████                        | 415978/637269 [12:01<05:46, 638.44frames/s]\u001b[A\n",
      " 66%|█████████████████████████████████████████████▎                       | 418978/637269 [12:06<05:35, 651.39frames/s]\u001b[A\n",
      " 66%|█████████████████████████████████████████████▌                       | 420714/637269 [12:09<05:51, 616.84frames/s]\u001b[A\n",
      " 66%|█████████████████████████████████████████████▉                       | 423714/637269 [12:14<05:34, 638.77frames/s]\u001b[A\n",
      " 67%|██████████████████████████████████████████████▏                      | 426630/637269 [12:18<05:21, 655.66frames/s]\u001b[A\n",
      " 67%|██████████████████████████████████████████████▌                      | 429630/637269 [12:22<05:06, 677.54frames/s]\u001b[A\n",
      " 68%|██████████████████████████████████████████████▊                      | 432214/637269 [12:25<04:54, 697.46frames/s]\u001b[A\n",
      " 68%|███████████████████████████████████████████████                      | 435214/637269 [12:30<05:06, 660.02frames/s]\u001b[A\n",
      " 69%|███████████████████████████████████████████████▍                     | 437962/637269 [12:35<05:13, 636.06frames/s]\u001b[A\n",
      " 69%|███████████████████████████████████████████████▌                     | 438942/637269 [12:38<05:50, 565.21frames/s]\u001b[A\n",
      " 69%|███████████████████████████████████████████████▊                     | 441942/637269 [12:42<05:04, 642.50frames/s]\u001b[A\n",
      " 70%|████████████████████████████████████████████████▏                    | 444622/637269 [12:46<05:09, 622.27frames/s]\u001b[A\n",
      " 70%|████████████████████████████████████████████████▍                    | 447120/637269 [12:52<05:36, 564.44frames/s]\u001b[A\n",
      " 71%|████████████████████████████████████████████████▋                    | 449824/637269 [12:56<05:25, 575.61frames/s]\u001b[A\n",
      " 71%|████████████████████████████████████████████████▉                    | 452520/637269 [13:02<05:51, 526.13frames/s]\u001b[A\n",
      " 71%|█████████████████████████████████████████████████▎                   | 455432/637269 [13:08<05:56, 509.77frames/s]\u001b[A\n",
      " 72%|█████████████████████████████████████████████████▌                   | 457800/637269 [13:14<06:04, 491.80frames/s]\u001b[A\n",
      " 72%|█████████████████████████████████████████████████▊                   | 459898/637269 [13:18<05:59, 493.97frames/s]\u001b[A\n",
      " 73%|██████████████████████████████████████████████████                   | 462482/637269 [13:23<05:56, 489.80frames/s]\u001b[A\n",
      " 73%|██████████████████████████████████████████████████▎                  | 465058/637269 [13:29<05:57, 482.00frames/s]\u001b[A\n",
      " 73%|██████████████████████████████████████████████████▋                  | 467802/637269 [13:33<05:21, 527.44frames/s]\u001b[A\n",
      " 74%|██████████████████████████████████████████████████▉                  | 470492/637269 [13:37<04:54, 566.68frames/s]\u001b[A\n",
      " 74%|███████████████████████████████████████████████████▏                 | 473060/637269 [13:40<04:19, 633.60frames/s]\u001b[A\n",
      " 75%|███████████████████████████████████████████████████▌                 | 476060/637269 [13:44<04:13, 635.74frames/s]\u001b[A\n",
      " 75%|███████████████████████████████████████████████████▊                 | 478158/637269 [13:48<04:18, 615.80frames/s]\u001b[A\n",
      " 76%|████████████████████████████████████████████████████                 | 481158/637269 [13:52<04:01, 645.15frames/s]\u001b[A\n",
      " 76%|████████████████████████████████████████████████████▎                | 483046/637269 [13:58<04:44, 542.67frames/s]\u001b[A\n",
      " 76%|████████████████████████████████████████████████████▌                | 485526/637269 [14:01<04:19, 584.02frames/s]\u001b[A\n",
      " 77%|████████████████████████████████████████████████████▉                | 488526/637269 [14:05<03:56, 629.93frames/s]\u001b[A\n",
      " 77%|█████████████████████████████████████████████████████▏               | 491078/637269 [14:10<04:03, 600.71frames/s]\u001b[A\n",
      " 77%|█████████████████████████████████████████████████████▍               | 493824/637269 [14:14<03:52, 618.07frames/s]\u001b[A\n",
      " 78%|█████████████████████████████████████████████████████▋               | 496232/637269 [14:17<03:31, 666.43frames/s]\u001b[A\n",
      " 78%|██████████████████████████████████████████████████████               | 498808/637269 [14:22<03:46, 611.30frames/s]\u001b[A\n",
      " 79%|██████████████████████████████████████████████████████▎              | 501248/637269 [14:28<04:07, 549.53frames/s]\u001b[A\n",
      " 79%|██████████████████████████████████████████████████████▌              | 504248/637269 [14:31<03:37, 610.46frames/s]\u001b[A\n",
      " 80%|██████████████████████████████████████████████████████▉              | 507248/637269 [14:36<03:31, 614.44frames/s]\u001b[A\n",
      " 80%|███████████████████████████████████████████████████████▏             | 510248/637269 [14:41<03:29, 604.90frames/s]\u001b[A\n",
      " 80%|███████████████████████████████████████████████████████▍             | 512202/637269 [14:45<03:37, 574.57frames/s]\u001b[A\n",
      " 81%|███████████████████████████████████████████████████████▋             | 514538/637269 [14:49<03:27, 592.24frames/s]\u001b[A\n",
      " 81%|███████████████████████████████████████████████████████▉             | 516994/637269 [14:54<03:38, 551.55frames/s]\u001b[A\n",
      " 82%|████████████████████████████████████████████████████████▎            | 519594/637269 [14:59<03:41, 532.06frames/s]\u001b[A\n",
      " 82%|████████████████████████████████████████████████████████▌            | 522066/637269 [15:04<03:37, 530.80frames/s]\u001b[A\n",
      " 82%|████████████████████████████████████████████████████████▊            | 525066/637269 [15:09<03:23, 550.22frames/s]\u001b[A\n",
      " 83%|█████████████████████████████████████████████████████████▏           | 528066/637269 [15:13<03:00, 606.04frames/s]\u001b[A\n",
      " 83%|█████████████████████████████████████████████████████████▍           | 530892/637269 [15:18<02:57, 598.87frames/s]\u001b[A\n",
      " 84%|█████████████████████████████████████████████████████████▊           | 533652/637269 [15:24<03:10, 544.11frames/s]\u001b[A\n",
      " 84%|██████████████████████████████████████████████████████████           | 536436/637269 [15:29<03:02, 553.18frames/s]\u001b[A\n",
      " 85%|██████████████████████████████████████████████████████████▍          | 539436/637269 [15:32<02:37, 621.81frames/s]\u001b[A\n",
      " 85%|██████████████████████████████████████████████████████████▋          | 541980/637269 [15:37<02:35, 611.46frames/s]\u001b[A\n",
      " 85%|██████████████████████████████████████████████████████████▉          | 544812/637269 [15:42<02:40, 577.27frames/s]\u001b[A\n",
      " 86%|███████████████████████████████████████████████████████████▎         | 547580/637269 [15:47<02:37, 571.24frames/s]\u001b[A\n",
      " 86%|███████████████████████████████████████████████████████████▌         | 550332/637269 [15:53<02:38, 548.85frames/s]\u001b[A\n",
      " 87%|███████████████████████████████████████████████████████████▉         | 553036/637269 [16:00<02:50, 494.07frames/s]\u001b[A\n",
      " 87%|████████████████████████████████████████████████████████████▏        | 555676/637269 [16:05<02:47, 486.08frames/s]\u001b[A\n",
      " 88%|████████████████████████████████████████████████████████████▍        | 558196/637269 [16:10<02:36, 504.78frames/s]\u001b[A\n",
      " 88%|████████████████████████████████████████████████████████████▋        | 560980/637269 [16:15<02:28, 512.25frames/s]\u001b[A\n",
      " 88%|█████████████████████████████████████████████████████████████        | 563980/637269 [16:20<02:13, 548.72frames/s]\u001b[A\n",
      " 89%|█████████████████████████████████████████████████████████████▎       | 566796/637269 [16:24<02:03, 571.33frames/s]\u001b[A\n",
      " 89%|█████████████████████████████████████████████████████████████▋       | 569796/637269 [16:29<01:54, 591.19frames/s]\u001b[A\n",
      " 90%|█████████████████████████████████████████████████████████████▉       | 572100/637269 [16:33<01:53, 575.02frames/s]\u001b[A\n",
      " 90%|██████████████████████████████████████████████████████████████▏      | 574636/637269 [16:38<01:51, 563.34frames/s]\u001b[A\n",
      " 91%|██████████████████████████████████████████████████████████████▍      | 577228/637269 [16:42<01:46, 565.34frames/s]\u001b[A\n",
      " 91%|██████████████████████████████████████████████████████████████▊      | 579700/637269 [16:47<01:40, 572.58frames/s]\u001b[A\n",
      " 91%|███████████████████████████████████████████████████████████████      | 582334/637269 [16:50<01:31, 599.03frames/s]\u001b[A\n",
      " 92%|███████████████████████████████████████████████████████████████▍     | 585334/637269 [16:53<01:14, 692.93frames/s]\u001b[A\n",
      " 92%|███████████████████████████████████████████████████████████████▋     | 588334/637269 [17:06<01:52, 433.08frames/s]\u001b[A\n",
      " 93%|████████████████████████████████████████████████████████████████     | 591334/637269 [17:12<01:44, 439.66frames/s]\u001b[A\n",
      " 93%|████████████████████████████████████████████████████████████████▎    | 594134/637269 [17:15<01:20, 536.39frames/s]\u001b[A\n",
      " 94%|████████████████████████████████████████████████████████████████▌    | 596734/637269 [17:17<01:05, 619.05frames/s]\u001b[A\n",
      " 94%|████████████████████████████████████████████████████████████████▉    | 599734/637269 [17:19<00:48, 778.25frames/s]\u001b[A\n",
      " 95%|█████████████████████████████████████████████████████████████████▏   | 602334/637269 [17:22<00:42, 826.42frames/s]\u001b[A\n",
      " 95%|█████████████████████████████████████████████████████████████████▍   | 604269/637269 [17:24<00:57, 578.42frames/s]\u001b[A\n",
      "Downloading [19/22 Video] :  82%|███████████████████████████████████████████▎         | 18/22 [53:26<25:36, 384.11s/it]"
     ]
    },
    {
     "name": "stdout",
     "output_type": "stream",
     "text": [
      "\n",
      "Found YouTube Video (URL): https://www.youtube.com/watch?v=U5ZHslHsCVc\n",
      "\n",
      "Downloading (Video): [U5ZHslHsCVc] WATCH LIVE_ Obama campaigns for Harris in Tucson, Arizona.m4a\n",
      "\n",
      " ↳ |█████████████                                                     | 19.3% ↳ |██████████████████████████                                        | 38.7% ↳ |██████████████████████████████████████                            | 58.0% ↳ |███████████████████████████████████████████████████               | 77.4% ↳ |████████████████████████████████████████████████████████████████  | 96.7% ↳ |██████████████████████████████████████████████████████████████████| 100.0%"
     ]
    },
    {
     "name": "stderr",
     "output_type": "stream",
     "text": [
      "Extracting [19/22 Audio]:  82%|█████████████████████████████████████████████          | 18/22 [53:52<25:36, 384.11s/it]"
     ]
    },
    {
     "name": "stdout",
     "output_type": "stream",
     "text": [
      "\n",
      "\n",
      "Extracting (Audio): [U5ZHslHsCVc] WATCH LIVE_ Obama campaigns for Harris in Tucson, Arizona.mp3\n",
      "\n"
     ]
    },
    {
     "name": "stderr",
     "output_type": "stream",
     "text": [
      "Transcribing [19/22 Text]:  82%|████████████████████████████████████████████▏         | 18/22 [54:16<25:36, 384.11s/it]"
     ]
    },
    {
     "name": "stdout",
     "output_type": "stream",
     "text": [
      "Transcribing (Text): [U5ZHslHsCVc] WATCH LIVE_ Obama campaigns for Harris in Tucson, Arizona.txt\n",
      "\n"
     ]
    },
    {
     "name": "stderr",
     "output_type": "stream",
     "text": [
      "\n",
      "  0%|                                                                                   | 0/301506 [00:00<?, ?frames/s]\u001b[A\n",
      "  1%|▌                                                                     | 2500/301506 [00:01<03:25, 1458.01frames/s]\u001b[A\n",
      "  2%|█                                                                     | 4600/301506 [00:04<04:33, 1087.10frames/s]\u001b[A\n",
      "  2%|█▋                                                                     | 7100/301506 [00:06<04:58, 987.14frames/s]\u001b[A\n",
      "  3%|██▎                                                                    | 9700/301506 [00:11<06:09, 789.86frames/s]\u001b[A\n",
      "  4%|██▉                                                                   | 12400/301506 [00:14<06:18, 764.47frames/s]\u001b[A\n",
      "  5%|███▍                                                                  | 15000/301506 [00:18<06:45, 707.35frames/s]\u001b[A\n",
      "  6%|████                                                                  | 17600/301506 [00:23<07:19, 645.33frames/s]\u001b[A\n",
      "  7%|████▋                                                                 | 20200/301506 [00:28<07:38, 613.42frames/s]\u001b[A\n",
      "  8%|█████▎                                                                | 23100/301506 [00:33<07:50, 591.95frames/s]\u001b[A\n",
      "  9%|██████                                                                | 25900/301506 [00:39<08:21, 549.27frames/s]\u001b[A\n",
      "  9%|██████▌                                                               | 28500/301506 [00:43<08:00, 568.70frames/s]\u001b[A\n",
      " 10%|███████▏                                                              | 31200/301506 [00:49<08:30, 529.49frames/s]\u001b[A\n",
      " 11%|███████▊                                                              | 33700/301506 [00:54<08:28, 526.32frames/s]\u001b[A\n",
      " 12%|████████▍                                                             | 36300/301506 [00:58<08:05, 546.27frames/s]\u001b[A\n",
      " 13%|█████████                                                             | 39300/301506 [01:03<07:31, 580.23frames/s]\u001b[A\n",
      " 14%|█████████▊                                                            | 42000/301506 [01:08<07:49, 552.25frames/s]\u001b[A\n",
      " 15%|██████████▎                                                           | 44600/301506 [01:13<07:38, 560.17frames/s]\u001b[A\n",
      " 16%|███████████                                                           | 47500/301506 [01:18<07:42, 549.26frames/s]\u001b[A\n",
      " 17%|███████████▋                                                          | 50300/301506 [01:24<07:46, 537.92frames/s]\u001b[A\n",
      " 17%|████████████▏                                                         | 52500/301506 [01:27<07:23, 561.26frames/s]\u001b[A\n",
      " 18%|████████████▋                                                         | 54400/301506 [01:31<07:34, 543.13frames/s]\u001b[A\n",
      " 19%|█████████████▏                                                        | 56900/301506 [01:35<07:19, 556.44frames/s]\u001b[A\n",
      " 20%|█████████████▊                                                        | 59700/301506 [01:41<07:44, 520.13frames/s]\u001b[A\n",
      " 21%|██████████████▎                                                       | 61900/301506 [01:47<08:14, 484.79frames/s]\u001b[A\n",
      " 21%|██████████████▉                                                       | 64100/301506 [01:52<08:27, 467.63frames/s]\u001b[A\n",
      " 22%|███████████████▌                                                      | 66800/301506 [01:56<07:25, 527.27frames/s]\u001b[A\n",
      " 23%|████████████████                                                      | 69200/301506 [02:00<07:13, 535.79frames/s]\u001b[A\n",
      " 24%|████████████████▌                                                     | 71100/301506 [02:03<07:05, 541.97frames/s]\u001b[A\n",
      " 25%|█████████████████▏                                                    | 74000/301506 [02:09<07:01, 540.12frames/s]\u001b[A\n",
      " 26%|█████████████████▊                                                    | 76900/301506 [02:12<06:08, 609.43frames/s]\u001b[A\n",
      " 26%|██████████████████▍                                                   | 79400/301506 [02:17<06:27, 573.04frames/s]\u001b[A\n",
      " 27%|███████████████████                                                   | 82300/301506 [02:22<06:27, 565.79frames/s]\u001b[A\n",
      " 28%|███████████████████▌                                                  | 84400/301506 [02:27<06:40, 542.76frames/s]\u001b[A\n",
      " 29%|████████████████████▏                                                 | 86900/301506 [02:30<06:00, 595.14frames/s]\u001b[A\n",
      " 30%|████████████████████▋                                                 | 89100/301506 [02:35<06:33, 540.09frames/s]\u001b[A\n",
      " 31%|█████████████████████▎                                                | 92000/301506 [02:40<06:23, 545.90frames/s]\u001b[A\n",
      " 31%|█████████████████████▉                                                | 94500/301506 [02:45<06:17, 548.18frames/s]\u001b[A\n",
      " 32%|██████████████████████▍                                               | 96900/301506 [02:49<06:13, 548.09frames/s]\u001b[A\n",
      " 33%|███████████████████████                                               | 99500/301506 [02:53<05:46, 583.65frames/s]\u001b[A\n",
      " 34%|███████████████████████▎                                             | 101900/301506 [02:58<06:08, 542.02frames/s]\u001b[A\n",
      " 35%|███████████████████████▉                                             | 104600/301506 [03:02<05:44, 571.06frames/s]\u001b[A\n",
      " 35%|████████████████████████▍                                            | 106900/301506 [03:08<06:23, 506.95frames/s]\u001b[A\n",
      " 36%|████████████████████████▉                                            | 108700/301506 [03:12<06:26, 499.27frames/s]\u001b[A\n",
      " 37%|█████████████████████████▎                                           | 110500/301506 [03:15<06:12, 513.46frames/s]\u001b[A\n",
      " 37%|█████████████████████████▋                                           | 112100/301506 [03:19<06:20, 497.32frames/s]\u001b[A\n",
      " 38%|██████████████████████████                                           | 113900/301506 [03:22<05:54, 529.13frames/s]\u001b[A\n",
      " 39%|██████████████████████████▌                                          | 116100/301506 [03:26<05:56, 519.91frames/s]\u001b[A\n",
      " 40%|███████████████████████████▎                                         | 119100/301506 [03:31<05:40, 536.38frames/s]\u001b[A\n",
      " 40%|███████████████████████████▊                                         | 121500/301506 [03:36<05:47, 518.03frames/s]\u001b[A\n",
      " 41%|████████████████████████████▎                                        | 123500/301506 [03:41<05:52, 504.85frames/s]\u001b[A\n",
      " 42%|████████████████████████████▋                                        | 125600/301506 [03:45<05:44, 510.34frames/s]\u001b[A\n",
      " 43%|█████████████████████████████▍                                       | 128400/301506 [03:51<05:59, 481.93frames/s]\u001b[A\n",
      " 43%|█████████████████████████████▊                                       | 130500/301506 [03:55<05:56, 480.01frames/s]\u001b[A\n",
      " 44%|██████████████████████████████▎                                      | 132600/301506 [04:01<06:09, 456.76frames/s]\u001b[A\n",
      " 44%|██████████████████████████████▋                                      | 133900/301506 [04:05<06:35, 423.37frames/s]\u001b[A\n",
      " 45%|███████████████████████████████▏                                     | 136200/301506 [04:09<05:57, 462.74frames/s]\u001b[A\n",
      " 46%|███████████████████████████████▊                                     | 138800/301506 [04:14<05:46, 469.82frames/s]\u001b[A\n",
      " 47%|████████████████████████████████▎                                    | 141100/301506 [04:18<05:25, 492.32frames/s]\u001b[A\n",
      " 47%|████████████████████████████████▍                                    | 142000/301506 [04:21<05:52, 452.17frames/s]\u001b[A\n",
      " 48%|████████████████████████████████▊                                    | 143600/301506 [04:25<05:50, 451.02frames/s]\u001b[A\n",
      " 48%|█████████████████████████████████▏                                   | 145000/301506 [04:28<05:57, 438.03frames/s]\u001b[A\n",
      " 49%|█████████████████████████████████▊                                   | 147600/301506 [04:33<05:36, 457.92frames/s]\u001b[A\n",
      " 49%|██████████████████████████████████                                   | 149000/301506 [04:37<05:55, 428.93frames/s]\u001b[A\n",
      " 50%|██████████████████████████████████▋                                  | 151300/301506 [04:41<05:17, 472.96frames/s]\u001b[A\n",
      " 51%|███████████████████████████████████▏                                 | 153500/301506 [04:46<05:15, 469.56frames/s]\u001b[A\n",
      " 51%|███████████████████████████████████▎                                 | 154400/301506 [04:49<05:38, 435.21frames/s]\u001b[A\n",
      " 52%|████████████████████████████████████                                 | 157400/301506 [04:53<04:23, 546.80frames/s]\u001b[A\n",
      " 53%|████████████████████████████████████▎                                | 158600/301506 [04:57<05:13, 455.58frames/s]\u001b[A\n",
      " 54%|████████████████████████████████████▉                                | 161500/301506 [05:02<04:35, 508.03frames/s]\u001b[A\n",
      " 54%|█████████████████████████████████████▎                               | 163000/301506 [05:06<04:56, 467.71frames/s]\u001b[A\n",
      " 55%|█████████████████████████████████████▉                               | 165900/301506 [05:10<04:12, 538.00frames/s]\u001b[A\n",
      " 56%|██████████████████████████████████████▍                              | 167800/301506 [05:13<04:07, 539.88frames/s]\u001b[A\n",
      " 57%|███████████████████████████████████████                              | 170800/301506 [05:26<05:59, 363.18frames/s]\u001b[A\n",
      " 57%|███████████████████████████████████████                              | 170800/301506 [05:39<05:59, 363.18frames/s]\u001b[A\n",
      " 58%|████████████████████████████████████████▎                             | 173800/301506 [06:43<22:48, 93.30frames/s]\u001b[A\n",
      " 58%|████████████████████████████████████████▎                            | 176024/301506 [06:45<17:02, 122.72frames/s]\u001b[A\n",
      " 59%|████████████████████████████████████████▉                            | 178896/301506 [06:51<12:22, 165.16frames/s]\u001b[A\n",
      " 60%|█████████████████████████████████████████▌                           | 181472/301506 [06:55<09:35, 208.57frames/s]\u001b[A\n",
      " 61%|██████████████████████████████████████████▏                          | 184288/301506 [07:02<07:46, 251.17frames/s]\u001b[A\n",
      " 62%|██████████████████████████████████████████▊                          | 186956/301506 [07:08<06:34, 290.09frames/s]\u001b[A\n",
      " 63%|███████████████████████████████████████████▍                         | 189918/301506 [07:13<05:24, 344.34frames/s]\u001b[A\n",
      " 64%|████████████████████████████████████████████▏                        | 192914/301506 [07:19<04:44, 381.16frames/s]\u001b[A\n",
      " 65%|████████████████████████████████████████████▌                        | 194474/301506 [07:23<04:39, 383.51frames/s]\u001b[A\n",
      " 65%|█████████████████████████████████████████████▏                       | 197274/301506 [07:28<04:04, 426.48frames/s]\u001b[A\n",
      " 66%|█████████████████████████████████████████████▊                       | 200178/301506 [07:35<04:00, 421.55frames/s]\u001b[A\n",
      " 67%|██████████████████████████████████████████████▎                      | 202618/301506 [07:39<03:38, 452.35frames/s]\u001b[A\n",
      " 68%|███████████████████████████████████████████████                      | 205430/301506 [07:44<03:18, 484.05frames/s]\u001b[A\n",
      " 69%|███████████████████████████████████████████████▎                     | 206562/301506 [07:48<03:27, 456.91frames/s]\u001b[A\n",
      " 69%|███████████████████████████████████████████████▉                     | 209278/301506 [07:52<02:58, 517.88frames/s]\u001b[A\n",
      " 70%|████████████████████████████████████████████████▍                    | 211926/301506 [07:57<03:00, 496.20frames/s]\u001b[A\n",
      " 71%|████████████████████████████████████████████████▉                    | 213890/301506 [08:02<03:08, 465.40frames/s]\u001b[A\n",
      " 72%|█████████████████████████████████████████████████▍                   | 216194/301506 [08:07<02:55, 486.56frames/s]\u001b[A\n",
      " 73%|██████████████████████████████████████████████████                   | 218734/301506 [08:11<02:42, 508.01frames/s]\u001b[A\n",
      " 74%|██████████████████████████████████████████████████▋                  | 221626/301506 [08:16<02:33, 520.78frames/s]\u001b[A\n",
      " 75%|███████████████████████████████████████████████████▍                 | 224622/301506 [08:21<02:21, 544.96frames/s]\u001b[A\n",
      " 75%|████████████████████████████████████████████████████                 | 227534/301506 [08:29<02:33, 483.34frames/s]\u001b[A\n",
      " 76%|████████████████████████████████████████████████████▌                | 229702/301506 [08:32<02:21, 507.85frames/s]\u001b[A\n",
      " 77%|█████████████████████████████████████████████████████▏               | 232546/301506 [08:37<02:09, 532.29frames/s]\u001b[A\n",
      " 78%|█████████████████████████████████████████████████████▉               | 235522/301506 [08:42<01:58, 556.80frames/s]\u001b[A\n",
      " 79%|██████████████████████████████████████████████████████▌              | 238270/301506 [08:48<01:57, 540.08frames/s]\u001b[A\n",
      " 80%|███████████████████████████████████████████████████████▏             | 240894/301506 [08:53<01:57, 517.31frames/s]\u001b[A\n",
      " 81%|███████████████████████████████████████████████████████▊             | 243742/301506 [08:59<01:50, 521.27frames/s]\u001b[A\n",
      " 82%|████████████████████████████████████████████████████████▍            | 246482/301506 [09:05<01:50, 496.80frames/s]\u001b[A\n",
      " 83%|█████████████████████████████████████████████████████████            | 249278/301506 [09:10<01:42, 507.30frames/s]\u001b[A\n",
      " 84%|█████████████████████████████████████████████████████████▋           | 252002/301506 [09:15<01:36, 511.40frames/s]\u001b[A\n",
      " 84%|██████████████████████████████████████████████████████████▏          | 254482/301506 [09:19<01:25, 550.18frames/s]\u001b[A\n",
      " 85%|██████████████████████████████████████████████████████████▊          | 256998/301506 [09:24<01:24, 528.53frames/s]\u001b[A\n",
      " 86%|███████████████████████████████████████████████████████████▍         | 259674/301506 [09:30<01:22, 509.45frames/s]\u001b[A\n",
      " 87%|████████████████████████████████████████████████████████████         | 262222/301506 [09:34<01:13, 534.12frames/s]\u001b[A\n",
      " 88%|████████████████████████████████████████████████████████████▋        | 264998/301506 [09:39<01:06, 550.25frames/s]\u001b[A\n",
      " 89%|█████████████████████████████████████████████████████████████▎       | 267926/301506 [09:45<01:03, 524.86frames/s]\u001b[A\n",
      " 90%|█████████████████████████████████████████████████████████████▊       | 270350/301506 [09:51<01:03, 488.35frames/s]\u001b[A\n",
      " 91%|██████████████████████████████████████████████████████████████▌      | 273346/301506 [09:57<00:57, 491.76frames/s]\u001b[A\n",
      " 92%|███████████████████████████████████████████████████████████████▏     | 276086/301506 [10:02<00:51, 494.06frames/s]\u001b[A\n",
      " 93%|███████████████████████████████████████████████████████████████▊     | 279070/301506 [10:08<00:44, 498.63frames/s]\u001b[A\n",
      " 94%|████████████████████████████████████████████████████████████████▌    | 281942/301506 [10:14<00:39, 494.24frames/s]\u001b[A\n",
      " 94%|█████████████████████████████████████████████████████████████████▏   | 284886/301506 [10:19<00:32, 512.77frames/s]\u001b[A\n",
      " 95%|█████████████████████████████████████████████████████████████████▉   | 287886/301506 [10:24<00:25, 541.61frames/s]\u001b[A\n",
      " 96%|██████████████████████████████████████████████████████████████████▌  | 290886/301506 [10:28<00:17, 600.02frames/s]\u001b[A\n",
      " 97%|███████████████████████████████████████████████████████████████████▎ | 293886/301506 [10:30<00:10, 732.71frames/s]\u001b[A\n",
      " 98%|███████████████████████████████████████████████████████████████████▉ | 296886/301506 [10:32<00:05, 873.11frames/s]\u001b[A\n",
      " 99%|████████████████████████████████████████████████████████████████████▎| 298506/301506 [10:34<00:06, 470.71frames/s]\u001b[A\n",
      "Downloading [20/22 Video] :  86%|████████████████████████████████████████████       | 19/22 [1:04:56<23:48, 476.31s/it]"
     ]
    },
    {
     "name": "stdout",
     "output_type": "stream",
     "text": [
      "\n",
      "Found YouTube Video (URL): https://www.youtube.com/watch?v=PVZ48SsPz6U\n",
      "\n",
      "Downloading (Video): [PVZ48SsPz6U] Trump Rails Against Migrant Criminals 'Let In By Kamala Harris' At Arizona Campaign Rally.m4a\n",
      "\n",
      " ↳ |██████████████████████████████████████████████████████████████████| 99.9% ↳ |██████████████████████████████████████████████████████████████████| 100.0%"
     ]
    },
    {
     "name": "stderr",
     "output_type": "stream",
     "text": [
      "Extracting [20/22 Audio]:  86%|█████████████████████████████████████████████▊       | 19/22 [1:05:01<23:48, 476.31s/it]"
     ]
    },
    {
     "name": "stdout",
     "output_type": "stream",
     "text": [
      "\n",
      "\n",
      "Extracting (Audio): [PVZ48SsPz6U] Trump Rails Against Migrant Criminals 'Let In By Kamala Harris' At Arizona Campaign Rally.mp3\n",
      "\n"
     ]
    },
    {
     "name": "stderr",
     "output_type": "stream",
     "text": [
      "Transcribing [20/22 Text]:  86%|████████████████████████████████████████████▉       | 19/22 [1:05:07<23:48, 476.31s/it]"
     ]
    },
    {
     "name": "stdout",
     "output_type": "stream",
     "text": [
      "Transcribing (Text): [PVZ48SsPz6U] Trump Rails Against Migrant Criminals 'Let In By Kamala Harris' At Arizona Campaign Rally.txt\n",
      "\n"
     ]
    },
    {
     "name": "stderr",
     "output_type": "stream",
     "text": [
      "\n",
      "  0%|                                                                                    | 0/58381 [00:00<?, ?frames/s]\u001b[A\n",
      "  5%|███▋                                                                    | 2978/58381 [00:06<02:02, 452.02frames/s]\u001b[A\n",
      " 10%|███████▎                                                                | 5882/58381 [00:12<01:50, 473.21frames/s]\u001b[A\n",
      " 15%|██████████▊                                                             | 8806/58381 [00:20<02:00, 409.87frames/s]\u001b[A\n",
      " 20%|██████████████▏                                                        | 11662/58381 [00:28<01:58, 395.04frames/s]\u001b[A\n",
      " 25%|█████████████████▊                                                     | 14622/58381 [00:37<01:56, 374.36frames/s]\u001b[A\n",
      " 30%|█████████████████████▍                                                 | 17594/58381 [00:46<01:55, 354.36frames/s]\u001b[A\n",
      " 35%|█████████████████████████                                              | 20586/58381 [00:55<01:49, 345.72frames/s]\u001b[A\n",
      " 40%|████████████████████████████▌                                          | 23518/58381 [01:03<01:38, 353.11frames/s]\u001b[A\n",
      " 45%|███████████████████████████████▊                                       | 26204/58381 [01:08<01:23, 385.21frames/s]\u001b[A\n",
      " 50%|███████████████████████████████████▎                                   | 29060/58381 [01:15<01:14, 391.69frames/s]\u001b[A\n",
      " 55%|██████████████████████████████████████▋                                | 31824/58381 [01:23<01:09, 381.83frames/s]\u001b[A\n",
      " 60%|██████████████████████████████████████████▎                            | 34764/58381 [01:31<01:02, 376.99frames/s]\u001b[A\n",
      " 64%|█████████████████████████████████████████████▋                         | 37576/58381 [01:40<00:57, 360.20frames/s]\u001b[A\n",
      " 69%|█████████████████████████████████████████████████                      | 40364/58381 [01:47<00:50, 360.21frames/s]\u001b[A\n",
      " 74%|████████████████████████████████████████████████████▍                  | 43164/58381 [01:54<00:41, 370.86frames/s]\u001b[A\n",
      " 78%|███████████████████████████████████████████████████████▋               | 45764/58381 [01:59<00:30, 409.67frames/s]\u001b[A\n",
      " 83%|███████████████████████████████████████████████████████████▏           | 48656/58381 [02:07<00:24, 400.13frames/s]\u001b[A\n",
      " 88%|██████████████████████████████████████████████████████████████▌        | 51440/58381 [02:14<00:17, 390.48frames/s]\u001b[A\n",
      " 93%|█████████████████████████████████████████████████████████████████▉     | 54236/58381 [02:22<00:10, 383.25frames/s]\u001b[A\n",
      " 98%|█████████████████████████████████████████████████████████████████████▍ | 57140/58381 [02:29<00:03, 384.48frames/s]\u001b[A\n",
      "100%|███████████████████████████████████████████████████████████████████████| 58381/58381 [02:33<00:00, 380.26frames/s]\u001b[A\n",
      "Downloading [21/22 Video] :  91%|██████████████████████████████████████████████▎    | 20/22 [1:07:43<12:47, 383.58s/it]"
     ]
    },
    {
     "name": "stdout",
     "output_type": "stream",
     "text": [
      "\n",
      "Found YouTube Video (URL): https://www.youtube.com/watch?v=Sz7-TlodhSA\n",
      "\n",
      "Downloading (Video): [Sz7-TlodhSA] Kamala Harris Arizona Rally Key Takeaways.m4a\n",
      "\n",
      " ↳ |██████████████████████████████████████████████████████████████████| 100.0%"
     ]
    },
    {
     "name": "stderr",
     "output_type": "stream",
     "text": [
      "Extracting [21/22 Audio]:  91%|████████████████████████████████████████████████▏    | 20/22 [1:07:47<12:47, 383.58s/it]"
     ]
    },
    {
     "name": "stdout",
     "output_type": "stream",
     "text": [
      "\n",
      "\n",
      "Extracting (Audio): [Sz7-TlodhSA] Kamala Harris Arizona Rally Key Takeaways.mp3\n",
      "\n"
     ]
    },
    {
     "name": "stderr",
     "output_type": "stream",
     "text": [
      "Transcribing [21/22 Text]:  91%|███████████████████████████████████████████████▎    | 20/22 [1:07:50<12:47, 383.58s/it]"
     ]
    },
    {
     "name": "stdout",
     "output_type": "stream",
     "text": [
      "Transcribing (Text): [Sz7-TlodhSA] Kamala Harris Arizona Rally Key Takeaways.txt\n",
      "\n"
     ]
    },
    {
     "name": "stderr",
     "output_type": "stream",
     "text": [
      "\n",
      "  0%|                                                                                    | 0/33048 [00:00<?, ?frames/s]\u001b[A\n",
      "  8%|█████▋                                                                  | 2600/33048 [00:05<01:03, 482.19frames/s]\u001b[A\n",
      " 15%|██████████▌                                                             | 4852/33048 [00:10<01:00, 464.99frames/s]\u001b[A\n",
      " 23%|████████████████▌                                                       | 7612/33048 [00:15<00:48, 519.68frames/s]\u001b[A\n",
      " 32%|██████████████████████▌                                                | 10524/33048 [00:21<00:46, 483.40frames/s]\u001b[A\n",
      " 40%|████████████████████████████▏                                          | 13124/33048 [00:28<00:44, 449.99frames/s]\u001b[A\n",
      " 48%|██████████████████████████████████                                     | 15848/33048 [00:34<00:38, 445.35frames/s]\u001b[A\n",
      " 57%|████████████████████████████████████████▏                              | 18692/33048 [00:40<00:31, 448.73frames/s]\u001b[A\n",
      " 65%|██████████████████████████████████████████████                         | 21432/33048 [00:46<00:25, 454.57frames/s]\u001b[A"
     ]
    }
   ],
   "source": [
    "while True:\n",
    "    try:\n",
    "        yt_urls = read_unique_items_from_csv(yt_video_links_filename)\n",
    "        with tqdm(total=len(yt_urls), desc=\"Getting YouTube URLs\") as pbar:\n",
    "            for index, url in enumerate(yt_urls):\n",
    "                try:\n",
    "                    current = f'{index+1}/{len(yt_urls)}'\n",
    "                    \n",
    "                    # Get YouTube Id\n",
    "                    video_id = get_yt_id(url)\n",
    "\n",
    "                    # Skip If No YouTube Video Id Found in URL\n",
    "                    if not video_id:\n",
    "                        print(\"\") # Just New Line for Better Output\n",
    "                        print(f'Invalid YouTube URL: {url}')\n",
    "                        \n",
    "                        pbar.update(1)\n",
    "                        continue\n",
    "                    \n",
    "                    # Set Filename Video Id Pattern\n",
    "                    video_id_pattern_in_filename = re.compile(r'\\[(.*?)\\]')\n",
    "                    \n",
    "                    # Skip If Transcription with YouTube ID Already Exists\n",
    "                    has_transcription_file = False\n",
    "                    pbar.set_description(f'Checking Existing Transcriptions [{current} File]')\n",
    "                    if os.path.exists(transcription_output_path):\n",
    "                        for existing_transcription_filename in os.listdir(transcription_output_path):\n",
    "                            if (\n",
    "                                existing_transcription_filename == \".ipynb_checkpoints\"\n",
    "                                or existing_transcription_filename == \"Extra (not included in any [used urls.csv])\"\n",
    "                            ): continue\n",
    "                            if (\n",
    "                                video_id_pattern_in_filename.search(existing_transcription_filename)\n",
    "                                and video_id_pattern_in_filename.search(existing_transcription_filename).group(1) == video_id\n",
    "                            ): \n",
    "                                has_transcription_file = True\n",
    "                                break\n",
    "                    if has_transcription_file:\n",
    "                        # Delete/Keep Video File\n",
    "                        if remove_video:\n",
    "                            for existing_video_filename in os.listdir(video_output_path):\n",
    "                                if existing_video_filename == \".ipynb_checkpoints\": continue\n",
    "                                if (\n",
    "                                    video_id_pattern_in_filename.search(existing_video_filename)\n",
    "                                    and video_id_pattern_in_filename.search(existing_video_filename).group(1) == video_id\n",
    "                                ): os.remove(existing_video_filename)\n",
    "                                    \n",
    "                        # Delete/Keep Audio File\n",
    "                        if remove_audio:\n",
    "                            for existing_audio_filename in os.listdir(audio_output_path):\n",
    "                                if existing_audio_filename == \".ipynb_checkpoints\": continue\n",
    "                                if (\n",
    "                                    video_id_pattern_in_filename.search(existing_audio_filename)\n",
    "                                    and video_id_pattern_in_filename.search(existing_audio_filename).group(1) == video_id\n",
    "                                ): os.remove(existing_audio_filename)\n",
    "                                    \n",
    "                        pbar.update(1)\n",
    "                        continue\n",
    "\n",
    "                    # Get Video Information\n",
    "                    yt = YouTube(\n",
    "                        url,\n",
    "                        use_oauth=authorize_yt,\n",
    "                        allow_oauth_cache=authorize_yt,\n",
    "                        on_progress_callback=on_progress\n",
    "                    )\n",
    "                    stream = yt.streams.get_audio_only()\n",
    "\n",
    "                    # Sanitize Video File Name and Add YouTube Video ID\n",
    "                    video_filename = f'[{video_id}] {sanitize_filename(stream.default_filename)}'\n",
    "\n",
    "                    # Get File Name Without Extension (e.g., \".mp4\")\n",
    "                    filename = os.path.splitext(video_filename)[0]\n",
    "\n",
    "                    # Log YouTube URL being Processed\n",
    "                    print(\"\") # Just New Line for Better Output\n",
    "                    print(f'Found YouTube Video (URL): {url}')\n",
    "\n",
    "                    # Download YouTube Video\n",
    "                    pbar.set_description(f'Downloading [{current} Video] ')\n",
    "                    video_file, video_filename = download_youtube_video(video_filename, stream)\n",
    "\n",
    "                    # Extract Audio from Video -> Delete/Keep Video File\n",
    "                    pbar.set_description(f'Extracting [{current} Audio]')\n",
    "                    audio_file, audio_filename = extract_audio_from_video(video_file, video_filename)\n",
    "                    if remove_video: os.remove(video_file)\n",
    "\n",
    "                    # Transcribe Audio to Text -> Delete/Keep Audio File\n",
    "                    pbar.set_description(f'Transcribing [{current} Text]')\n",
    "                    transcribe_audio_to_text(audio_file, audio_filename)\n",
    "                    if remove_audio: os.remove(audio_file)\n",
    "\n",
    "                    pbar.update(1)\n",
    "                except Exception as e: \n",
    "                    print(f'{e}: {url}')\n",
    "                    \n",
    "                    pbar.update(1)\n",
    "            pbar.set_description(\"Finished Data Gathering\")\n",
    "    except Exception as e: print(e)\n",
    "    # If Set To Run Endlessly Until User Interruption\n",
    "    if run_continuously:\n",
    "        clear_output(wait=True)\n",
    "        print(\"\") # Just New Line for Better Output\n",
    "        print(f'{pcolors.BRIGHTCYAN}... This Stays Alive ...{pcolors.ENDC}')\n",
    "        print(\"\") # Just New Line for Better Output\n",
    "        print(f'{pcolors.BRIGHTCYAN}... You Can Now Add More URL ...{pcolors.ENDC}')\n",
    "        print(\"\") # Just New Line for Better Output\n",
    "        print(f'{pcolors.BRIGHTCYAN}... This Will Automatically Recheck and Transcribe New Added URLs ...{pcolors.ENDC}')\n",
    "        print(\"\") # Just New Line for Better Output\n",
    "        print(f'{pcolors.BRIGHTRED}... [ Click Interrupt To Stop ] ...{pcolors.ENDC}')\n",
    "        print(\"\") # Just New Line for Better Output\n",
    "        time.sleep(5)\n",
    "        continue\n",
    "    break"
   ]
  }
 ],
 "metadata": {
  "kernelspec": {
   "display_name": "Python 3 (ipykernel)",
   "language": "python",
   "name": "python3"
  },
  "language_info": {
   "codemirror_mode": {
    "name": "ipython",
    "version": 3
   },
   "file_extension": ".py",
   "mimetype": "text/x-python",
   "name": "python",
   "nbconvert_exporter": "python",
   "pygments_lexer": "ipython3",
   "version": "3.7.0"
  }
 },
 "nbformat": 4,
 "nbformat_minor": 4
}
