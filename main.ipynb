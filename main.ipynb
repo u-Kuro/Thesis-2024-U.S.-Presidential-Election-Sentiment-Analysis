{
 "cells": [
  {
   "cell_type": "markdown",
   "metadata": {},
   "source": [
    "# Initialize Dependencies"
   ]
  },
  {
   "cell_type": "code",
   "execution_count": 200,
   "metadata": {
    "vscode": {
     "languageId": "plaintext"
    }
   },
   "outputs": [],
   "source": [
    "import os, re, ffmpeg, whisper\n",
    "from pytubefix import YouTube, Stream\n",
    "from pytubefix.cli import on_progress\n",
    "\n",
    "from tqdm.auto import tqdm"
   ]
  },
  {
   "cell_type": "markdown",
   "metadata": {},
   "source": [
    "# Set Variables"
   ]
  },
  {
   "cell_type": "code",
   "execution_count": 201,
   "metadata": {
    "vscode": {
     "languageId": "plaintext"
    }
   },
   "outputs": [],
   "source": [
    "yt_video_links_file = \"YouTube Video Links.txt\"\n",
    "video_output_path = \"Video\"\n",
    "audio_output_path = \"Audio\"\n",
    "transcription_output_path = \"Transcription\""
   ]
  },
  {
   "cell_type": "markdown",
   "metadata": {},
   "source": [
    "# Define Utilities"
   ]
  },
  {
   "cell_type": "code",
   "execution_count": 202,
   "metadata": {},
   "outputs": [],
   "source": [
    "def sanitize_filename(filename: str) -> str:\n",
    "    # Escape Double Quotes\n",
    "    filename = filename.replace('\"', '\\\\\"')\n",
    "\n",
    "    # Replace Invalid Characters with '_'\n",
    "    invalid_chars = re.compile(r'[<>:\"/\\\\|?*]')\n",
    "    sanitized_filename = invalid_chars.sub('_', filename)\n",
    "\n",
    "    return sanitized_filename"
   ]
  },
  {
   "cell_type": "markdown",
   "metadata": {},
   "source": [
    "# Collect Data (YouTube Videos)"
   ]
  },
  {
   "cell_type": "code",
   "execution_count": 203,
   "metadata": {
    "vscode": {
     "languageId": "plaintext"
    }
   },
   "outputs": [],
   "source": [
    "def download_youtube_video(video_filename: str, stream: Stream) -> tuple[str, str]:\n",
    "    # Create Video Directory\n",
    "    os.makedirs(video_output_path, exist_ok=True)\n",
    "    \n",
    "    # Set Path for Video File\n",
    "    video_file = os.path.join(video_output_path, video_filename)\n",
    "    \n",
    "    # Delete Old Existing Video File (note: to clean any corrupted file)\n",
    "    if os.path.exists(video_file):\n",
    "        os.remove(video_file)\n",
    "        \n",
    "    # Download Video File\n",
    "    print(f'Downloading (Video): {video_filename}') # Just New Line for Better Output\n",
    "    print(\"\") # Just New Line for Better Output\n",
    "    stream.download(output_path=video_output_path, filename=video_filename)\n",
    "    print(\"\") # Just New Line for Better Output\n",
    "    print(\"\") # Just New Line for Better Output\n",
    "    \n",
    "    # Return Video File and Name\n",
    "    return video_file, video_filename"
   ]
  },
  {
   "cell_type": "markdown",
   "metadata": {},
   "source": [
    "# Audio Extraction (Video to Audio)"
   ]
  },
  {
   "cell_type": "code",
   "execution_count": 204,
   "metadata": {},
   "outputs": [],
   "source": [
    "def extract_audio_from_video(video_file: str, video_filename: str) -> tuple[str, str]:\n",
    "    # Create the Audio Directory\n",
    "    os.makedirs(audio_output_path, exist_ok=True)\n",
    "\n",
    "    # Set Audio File Name (\".mp3\")\n",
    "    audio_filename = f'{os.path.splitext(video_filename)[0]}.mp3'\n",
    "\n",
    "    # Set Path for Audio File\n",
    "    audio_file = os.path.join(audio_output_path, audio_filename)\n",
    "    \n",
    "    # Delete Old Existing Audio File (note: to clean any corrupted file)\n",
    "    if os.path.exists(audio_file):\n",
    "        os.remove(audio_file)\n",
    "    \n",
    "    # Extract Audio File\n",
    "    print(f'Extracting (Audio): {audio_filename}') # Just New Line for Better Output\n",
    "    print(\"\") # Just New Line for Better Output\n",
    "    (\n",
    "        ffmpeg\n",
    "        .input(video_file)\n",
    "        .output(audio_file, format='mp3', acodec='libmp3lame', loglevel=\"info\")\n",
    "        .run(overwrite_output=True)\n",
    "    )\n",
    "    \n",
    "    # Return Audio File and Name\n",
    "    return audio_file, audio_filename"
   ]
  },
  {
   "cell_type": "markdown",
   "metadata": {},
   "source": [
    "# Transcription (Audio to Text)"
   ]
  },
  {
   "cell_type": "code",
   "execution_count": 205,
   "metadata": {},
   "outputs": [],
   "source": [
    "def transcribe_audio(audio_file: str, audio_filename: str, index: int):\n",
    "    # Create the Transcription Directory\n",
    "    os.makedirs(transcription_output_path, exist_ok=True)\n",
    "    \n",
    "    # Set Transcription File Name (\"[index]....txt\")\n",
    "    transcription_filename = f'[{index}] {os.path.splitext(audio_filename)[0]}.txt'\n",
    "    \n",
    "    # Set Path for Transcription File\n",
    "    transcription_file = os.path.join(transcription_output_path, transcription_filename)\n",
    "    \n",
    "    # Delete Old Existing Transcription File (note: to clean any corrupted file)\n",
    "    if os.path.exists(transcription_file):\n",
    "        os.remove(transcription_file)\n",
    "      \n",
    "    # Get/Download OpenAI Whisper Model\n",
    "    # Models: \"tiny\", \"base\", \"small\", \"medium\", \"large\", \"turbo\"\n",
    "    # English Only Models: \"tiny.en\", \"base.en\", \"small.en\", \"medium.en\"\n",
    "    print(f'Transcribing (Text): {transcription_filename}') # Just New Line for Better Output\n",
    "    print(\"\") # Just New Line for Better Output\n",
    "    model = whisper.load_model(\"small.en\", device=\"cpu\")\n",
    "\n",
    "    # Transcribe Audio File\n",
    "    result = model.transcribe(audio_file, verbose=False)\n",
    "    with open(transcription_file, 'w') as f:\n",
    "        f.write(result['text'])"
   ]
  },
  {
   "cell_type": "markdown",
   "metadata": {},
   "source": [
    "# Execute Data Gathering"
   ]
  },
  {
   "cell_type": "code",
   "execution_count": 206,
   "metadata": {},
   "outputs": [
    {
     "data": {
      "application/vnd.jupyter.widget-view+json": {
       "model_id": "e3342629ca294e6ebc63d1e716f89421",
       "version_major": 2,
       "version_minor": 0
      },
      "text/plain": [
       "Getting YouTube URLs:   0%|          | 0/3 [00:00<?, ?it/s]"
      ]
     },
     "metadata": {},
     "output_type": "display_data"
    },
    {
     "name": "stdout",
     "output_type": "stream",
     "text": [
      "Downloading (Video): Arizona Gen Z voters sit down to talk 2024 election.mp4\n",
      "\n",
      " ↳ |██████████████████████████████████████████████████████████████████| 100.0%\n",
      "\n",
      "Extracting (Audio): Arizona Gen Z voters sit down to talk 2024 election.mp3\n",
      "\n",
      "Transcribing (Text): [0] Arizona Gen Z voters sit down to talk 2024 election.txt\n",
      "\n",
      "Detected language: English\n"
     ]
    },
    {
     "name": "stderr",
     "output_type": "stream",
     "text": [
      "\n",
      "  0%|                                                                                    | 0/46755 [00:00<?, ?frames/s]\u001b[A\n",
      "  6%|████                                                                    | 2636/46755 [00:12<03:36, 203.43frames/s]\u001b[A\n",
      " 11%|███████▉                                                                | 5168/46755 [00:25<03:25, 201.98frames/s]\u001b[A\n",
      " 11%|███████▉                                                                | 5168/46755 [00:36<03:25, 201.98frames/s]\u001b[A\n",
      " 17%|████████████▏                                                           | 7952/46755 [00:44<03:44, 172.82frames/s]\u001b[A\n",
      " 17%|████████████▏                                                           | 7952/46755 [00:56<03:44, 172.82frames/s]\u001b[A\n",
      " 23%|████████████████                                                       | 10600/46755 [01:01<03:41, 163.30frames/s]\u001b[A\n",
      " 23%|████████████████                                                       | 10600/46755 [01:12<03:41, 163.30frames/s]\u001b[A\n",
      " 29%|████████████████████▌                                                  | 13536/46755 [01:19<03:21, 165.16frames/s]\u001b[A\n",
      " 29%|████████████████████▌                                                  | 13536/46755 [01:32<03:21, 165.16frames/s]\u001b[A\n",
      " 34%|████████████████████████▏                                              | 15920/46755 [01:35<03:14, 158.33frames/s]\u001b[A\n",
      " 34%|████████████████████████▏                                              | 15920/46755 [01:46<03:14, 158.33frames/s]\u001b[A\n",
      " 40%|████████████████████████████▋                                          | 18912/46755 [01:53<02:53, 160.85frames/s]\u001b[A\n",
      " 40%|████████████████████████████▋                                          | 18912/46755 [02:06<02:53, 160.85frames/s]\u001b[A\n",
      " 46%|████████████████████████████████▎                                      | 21296/46755 [02:09<02:40, 158.67frames/s]\u001b[A\n",
      " 46%|████████████████████████████████▎                                      | 21296/46755 [02:22<02:40, 158.67frames/s]\u001b[A\n",
      " 52%|████████████████████████████████████▌                                  | 24088/46755 [02:25<02:18, 163.71frames/s]\u001b[A\n",
      " 52%|████████████████████████████████████▌                                  | 24088/46755 [02:36<02:18, 163.71frames/s]\u001b[A\n",
      " 57%|████████████████████████████████████████▍                              | 26624/46755 [02:40<02:02, 164.01frames/s]\u001b[A\n",
      " 57%|████████████████████████████████████████▍                              | 26624/46755 [02:52<02:02, 164.01frames/s]\u001b[A\n",
      " 63%|████████████████████████████████████████████▉                          | 29552/46755 [02:59<01:46, 161.37frames/s]\u001b[A\n",
      " 63%|████████████████████████████████████████████▉                          | 29552/46755 [03:12<01:46, 161.37frames/s]\u001b[A\n",
      " 69%|████████████████████████████████████████████████▉                      | 32248/46755 [03:14<01:27, 165.89frames/s]\u001b[A\n",
      " 69%|████████████████████████████████████████████████▉                      | 32248/46755 [03:26<01:27, 165.89frames/s]\u001b[A\n",
      " 74%|████████████████████████████████████████████████████▊                  | 34776/46755 [03:29<01:11, 166.44frames/s]\u001b[A\n",
      " 74%|████████████████████████████████████████████████████▊                  | 34776/46755 [03:42<01:11, 166.44frames/s]\u001b[A\n",
      " 81%|█████████████████████████████████████████████████████████▏             | 37664/46755 [03:47<00:55, 164.93frames/s]\u001b[A\n",
      " 81%|█████████████████████████████████████████████████████████▏             | 37664/46755 [04:02<00:55, 164.93frames/s]\u001b[A\n",
      " 86%|█████████████████████████████████████████████████████████████          | 40208/46755 [04:02<00:39, 165.15frames/s]\u001b[A\n",
      " 86%|█████████████████████████████████████████████████████████████          | 40208/46755 [04:16<00:39, 165.15frames/s]\u001b[A\n",
      " 92%|█████████████████████████████████████████████████████████████████▎     | 43016/46755 [04:21<00:23, 161.77frames/s]\u001b[A\n",
      " 92%|█████████████████████████████████████████████████████████████████▎     | 43016/46755 [04:32<00:23, 161.77frames/s]\u001b[A\n",
      " 98%|█████████████████████████████████████████████████████████████████████▏ | 45592/46755 [04:37<00:07, 160.40frames/s]\u001b[A\n",
      "100%|███████████████████████████████████████████████████████████████████████| 46755/46755 [04:47<00:00, 162.45frames/s]\u001b[A\n"
     ]
    },
    {
     "name": "stdout",
     "output_type": "stream",
     "text": [
      "Downloading (Video): Michigan’s Muslims Helped Biden Win in 2020. Will They Back Harris in Nov._ _ Amanpour and Company.mp4\n",
      "\n",
      " ↳ |██████████████████████████████████████████████████████████████████| 100.0%\n",
      "\n",
      "Extracting (Audio): Michigan’s Muslims Helped Biden Win in 2020. Will They Back Harris in Nov._ _ Amanpour and Company.mp3\n",
      "\n",
      "Transcribing (Text): [1] Michigan’s Muslims Helped Biden Win in 2020. Will They Back Harris in Nov._ _ Amanpour and Company.txt\n",
      "\n",
      "Detected language: English\n"
     ]
    },
    {
     "name": "stderr",
     "output_type": "stream",
     "text": [
      "\n",
      "  0%|                                                                                   | 0/111430 [00:00<?, ?frames/s]\u001b[A\n",
      "  3%|█▊                                                                     | 2902/111430 [00:15<09:34, 188.82frames/s]\u001b[A\n",
      "  3%|█▊                                                                     | 2902/111430 [00:27<09:34, 188.82frames/s]\u001b[A\n",
      "  5%|███▋                                                                   | 5784/111430 [00:32<09:59, 176.30frames/s]\u001b[A\n",
      "  5%|███▋                                                                   | 5784/111430 [00:47<09:59, 176.30frames/s]\u001b[A\n",
      "  8%|█████▌                                                                 | 8688/111430 [00:50<10:01, 170.80frames/s]\u001b[A\n",
      "  8%|█████▌                                                                 | 8688/111430 [01:02<10:01, 170.80frames/s]\u001b[A\n",
      " 10%|███████▎                                                              | 11544/111430 [01:06<09:46, 170.25frames/s]\u001b[A\n",
      " 10%|███████▎                                                              | 11544/111430 [01:17<09:46, 170.25frames/s]\u001b[A\n",
      " 13%|█████████                                                             | 14388/111430 [01:24<09:42, 166.67frames/s]\u001b[A\n",
      " 13%|█████████                                                             | 14388/111430 [01:37<09:42, 166.67frames/s]\u001b[A\n",
      " 16%|██████████▉                                                           | 17376/111430 [01:41<09:16, 168.94frames/s]\u001b[A\n",
      " 16%|██████████▉                                                           | 17376/111430 [01:52<09:16, 168.94frames/s]\u001b[A\n",
      " 18%|████████████▌                                                         | 20004/111430 [01:58<09:13, 165.21frames/s]\u001b[A\n",
      " 18%|████████████▌                                                         | 20004/111430 [02:12<09:13, 165.21frames/s]\u001b[A\n",
      " 20%|██████████████▏                                                       | 22616/111430 [02:15<09:03, 163.40frames/s]\u001b[A\n",
      " 20%|██████████████▏                                                       | 22616/111430 [02:27<09:03, 163.40frames/s]\u001b[A\n",
      " 23%|████████████████                                                      | 25568/111430 [02:32<08:42, 164.24frames/s]\u001b[A\n",
      " 23%|████████████████                                                      | 25568/111430 [02:48<08:42, 164.24frames/s]\u001b[A\n",
      " 26%|█████████████████▉                                                    | 28528/111430 [02:50<08:24, 164.28frames/s]\u001b[A\n",
      " 26%|█████████████████▉                                                    | 28528/111430 [03:02<08:24, 164.28frames/s]\u001b[A\n",
      " 28%|███████████████████▌                                                  | 31128/111430 [03:06<08:11, 163.39frames/s]\u001b[A\n",
      " 28%|███████████████████▌                                                  | 31128/111430 [03:18<08:11, 163.39frames/s]\u001b[A\n",
      " 31%|█████████████████████▍                                                | 34124/111430 [03:25<07:51, 164.12frames/s]\u001b[A\n",
      " 31%|█████████████████████▍                                                | 34124/111430 [03:38<07:51, 164.12frames/s]\u001b[A\n",
      " 33%|███████████████████████▎                                              | 37076/111430 [03:44<07:45, 159.79frames/s]\u001b[A\n",
      " 33%|███████████████████████▎                                              | 37076/111430 [03:58<07:45, 159.79frames/s]\u001b[A\n",
      " 36%|█████████████████████████                                             | 39866/111430 [04:01<07:25, 160.72frames/s]\u001b[A\n",
      " 36%|█████████████████████████                                             | 39866/111430 [04:12<07:25, 160.72frames/s]\u001b[A\n",
      " 38%|██████████████████████████▊                                           | 42718/111430 [04:19<07:07, 160.56frames/s]\u001b[A\n",
      " 38%|██████████████████████████▊                                           | 42718/111430 [04:32<07:07, 160.56frames/s]\u001b[A\n",
      " 41%|████████████████████████████▋                                         | 45602/111430 [04:36<06:44, 162.72frames/s]\u001b[A\n",
      " 41%|████████████████████████████▋                                         | 45602/111430 [04:48<06:44, 162.72frames/s]\u001b[A\n",
      " 43%|██████████████████████████████▎                                       | 48254/111430 [04:54<06:37, 159.12frames/s]\u001b[A\n",
      " 43%|██████████████████████████████▎                                       | 48254/111430 [05:08<06:37, 159.12frames/s]\u001b[A\n",
      " 46%|███████████████████████████████▉                                      | 50814/111430 [05:09<06:17, 160.51frames/s]\u001b[A\n",
      " 46%|███████████████████████████████▉                                      | 50814/111430 [05:22<06:17, 160.51frames/s]\u001b[A\n",
      " 48%|█████████████████████████████████▊                                    | 53750/111430 [05:27<05:56, 161.65frames/s]\u001b[A\n",
      " 48%|█████████████████████████████████▊                                    | 53750/111430 [05:38<05:56, 161.65frames/s]\u001b[A\n",
      " 51%|███████████████████████████████████▌                                  | 56686/111430 [05:46<05:42, 159.75frames/s]\u001b[A\n",
      " 51%|███████████████████████████████████▌                                  | 56686/111430 [05:58<05:42, 159.75frames/s]\u001b[A\n",
      " 54%|█████████████████████████████████████▍                                | 59630/111430 [06:05<05:26, 158.80frames/s]\u001b[A\n",
      " 54%|█████████████████████████████████████▍                                | 59630/111430 [06:18<05:26, 158.80frames/s]\u001b[A\n",
      " 56%|███████████████████████████████████████▎                              | 62598/111430 [06:24<05:10, 157.25frames/s]\u001b[A\n",
      " 56%|███████████████████████████████████████▎                              | 62598/111430 [06:38<05:10, 157.25frames/s]\u001b[A\n",
      " 59%|█████████████████████████████████████████                             | 65302/111430 [06:41<04:51, 158.21frames/s]\u001b[A\n",
      " 59%|█████████████████████████████████████████                             | 65302/111430 [06:52<04:51, 158.21frames/s]\u001b[A\n",
      " 61%|██████████████████████████████████████████▊                           | 68074/111430 [06:57<04:28, 161.18frames/s]\u001b[A\n",
      " 61%|██████████████████████████████████████████▊                           | 68074/111430 [07:08<04:28, 161.18frames/s]\u001b[A\n",
      " 64%|████████████████████████████████████████████▍                         | 70790/111430 [07:15<04:16, 158.61frames/s]\u001b[A\n",
      " 64%|████████████████████████████████████████████▍                         | 70790/111430 [07:28<04:16, 158.61frames/s]\u001b[A\n",
      " 66%|██████████████████████████████████████████████▏                       | 73502/111430 [07:32<03:59, 158.17frames/s]\u001b[A\n",
      " 66%|██████████████████████████████████████████████▏                       | 73502/111430 [07:48<03:59, 158.17frames/s]\u001b[A\n",
      " 68%|███████████████████████████████████████████████▉                      | 76238/111430 [07:50<03:43, 157.58frames/s]\u001b[A\n",
      " 68%|███████████████████████████████████████████████▉                      | 76238/111430 [08:02<03:43, 157.58frames/s]\u001b[A\n",
      " 71%|█████████████████████████████████████████████████▋                    | 79178/111430 [08:07<03:19, 161.45frames/s]\u001b[A\n",
      " 71%|█████████████████████████████████████████████████▋                    | 79178/111430 [08:18<03:19, 161.45frames/s]\u001b[A\n",
      " 73%|███████████████████████████████████████████████████▎                  | 81774/111430 [08:24<03:06, 159.35frames/s]\u001b[A\n",
      " 73%|███████████████████████████████████████████████████▎                  | 81774/111430 [08:38<03:06, 159.35frames/s]\u001b[A\n",
      " 76%|████████████████████████████████████████████████████▉                 | 84330/111430 [08:41<02:53, 156.26frames/s]\u001b[A\n",
      " 76%|████████████████████████████████████████████████████▉                 | 84330/111430 [08:52<02:53, 156.26frames/s]\u001b[A\n",
      " 78%|██████████████████████████████████████████████████████▋               | 87150/111430 [08:58<02:30, 161.04frames/s]\u001b[A\n",
      " 78%|██████████████████████████████████████████████████████▋               | 87150/111430 [09:08<02:30, 161.04frames/s]\u001b[A\n",
      " 81%|████████████████████████████████████████████████████████▍             | 89766/111430 [09:14<02:15, 160.07frames/s]\u001b[A\n",
      " 81%|████████████████████████████████████████████████████████▍             | 89766/111430 [09:28<02:15, 160.07frames/s]\u001b[A\n",
      " 83%|██████████████████████████████████████████████████████████            | 92526/111430 [09:32<02:00, 157.37frames/s]\u001b[A\n"
     ]
    },
    {
     "name": "stderr",
     "output_type": "stream",
     "text": [
      " 83%|██████████████████████████████████████████████████████████            | 92526/111430 [09:42<02:00, 157.37frames/s]\u001b[A\n",
      " 86%|███████████████████████████████████████████████████████████▉          | 95386/111430 [09:50<01:40, 159.03frames/s]\u001b[A\n",
      " 86%|███████████████████████████████████████████████████████████▉          | 95386/111430 [10:02<01:40, 159.03frames/s]\u001b[A\n",
      " 88%|█████████████████████████████████████████████████████████████▊        | 98342/111430 [10:07<01:19, 164.39frames/s]\u001b[A\n",
      " 88%|█████████████████████████████████████████████████████████████▊        | 98342/111430 [10:18<01:19, 164.39frames/s]\u001b[A\n",
      " 91%|██████████████████████████████████████████████████████████████▋      | 101154/111430 [10:23<01:01, 166.28frames/s]\u001b[A\n",
      " 91%|██████████████████████████████████████████████████████████████▋      | 101154/111430 [10:38<01:01, 166.28frames/s]\u001b[A\n",
      " 93%|████████████████████████████████████████████████████████████████▍    | 103974/111430 [10:41<00:45, 162.80frames/s]\u001b[A\n",
      " 93%|████████████████████████████████████████████████████████████████▍    | 103974/111430 [10:53<00:45, 162.80frames/s]\u001b[A\n",
      " 96%|██████████████████████████████████████████████████████████████████   | 106734/111430 [10:56<00:27, 169.64frames/s]\u001b[A\n",
      " 96%|██████████████████████████████████████████████████████████████████   | 106734/111430 [11:08<00:27, 169.64frames/s]\u001b[A\n",
      " 98%|███████████████████████████████████████████████████████████████████▉ | 109722/111430 [11:16<00:10, 163.14frames/s]\u001b[A\n",
      "100%|█████████████████████████████████████████████████████████████████████| 111430/111430 [11:24<00:00, 162.69frames/s]\u001b[A\n"
     ]
    },
    {
     "name": "stdout",
     "output_type": "stream",
     "text": [
      "Downloading (Video): The ‘battleground state’ of Pennsylvania is most important in US presidential election.mp4\n",
      "\n",
      " ↳ |██████████████████████████████████████████████████████████████████| 100.0%\n",
      "\n",
      "Extracting (Audio): The ‘battleground state’ of Pennsylvania is most important in US presidential election.mp3\n",
      "\n",
      "Transcribing (Text): [2] The ‘battleground state’ of Pennsylvania is most important in US presidential election.txt\n",
      "\n",
      "Detected language: English\n"
     ]
    },
    {
     "name": "stderr",
     "output_type": "stream",
     "text": [
      "\n",
      "  0%|                                                                                    | 0/32589 [00:00<?, ?frames/s]\u001b[A\n",
      "  9%|██████▏                                                                 | 2812/32589 [00:18<03:14, 152.85frames/s]\u001b[A\n",
      "  9%|██████▏                                                                 | 2812/32589 [00:30<03:14, 152.85frames/s]\u001b[A\n",
      " 18%|████████████▋                                                           | 5768/32589 [00:34<02:40, 167.52frames/s]\u001b[A\n",
      " 18%|████████████▋                                                           | 5768/32589 [00:45<02:40, 167.52frames/s]\u001b[A\n",
      " 26%|██████████████████▉                                                     | 8572/32589 [00:53<02:30, 159.66frames/s]\u001b[A\n",
      " 26%|██████████████████▉                                                     | 8572/32589 [01:05<02:30, 159.66frames/s]\u001b[A\n",
      " 35%|████████████████████████▌                                              | 11260/32589 [01:09<02:11, 162.13frames/s]\u001b[A\n",
      " 35%|████████████████████████▌                                              | 11260/32589 [01:21<02:11, 162.13frames/s]\u001b[A\n",
      " 43%|██████████████████████████████▊                                        | 14124/32589 [01:24<01:46, 173.70frames/s]\u001b[A\n",
      " 43%|██████████████████████████████▊                                        | 14124/32589 [01:35<01:46, 173.70frames/s]\u001b[A\n",
      " 52%|████████████████████████████████████▉                                  | 16940/32589 [01:40<01:30, 172.66frames/s]\u001b[A\n",
      " 52%|████████████████████████████████████▉                                  | 16940/32589 [01:51<01:30, 172.66frames/s]\u001b[A\n",
      " 60%|██████████████████████████████████████████▌                            | 19508/32589 [01:56<01:16, 170.28frames/s]\u001b[A\n",
      " 60%|██████████████████████████████████████████▌                            | 19508/32589 [02:11<01:16, 170.28frames/s]\u001b[A\n",
      " 69%|█████████████████████████████████████████████████                      | 22504/32589 [02:11<00:56, 177.20frames/s]\u001b[A\n",
      " 69%|█████████████████████████████████████████████████                      | 22504/32589 [02:25<00:56, 177.20frames/s]\u001b[A\n",
      " 78%|███████████████████████████████████████████████████████▏               | 25328/32589 [02:27<00:41, 177.03frames/s]\u001b[A\n",
      " 78%|███████████████████████████████████████████████████████▏               | 25328/32589 [02:41<00:41, 177.03frames/s]\u001b[A\n",
      " 86%|█████████████████████████████████████████████████████████████▏         | 28068/32589 [02:45<00:26, 168.98frames/s]\u001b[A\n",
      " 86%|█████████████████████████████████████████████████████████████▏         | 28068/32589 [02:55<00:26, 168.98frames/s]\u001b[A\n",
      " 94%|██████████████████████████████████████████████████████████████████▉    | 30704/32589 [03:02<00:11, 164.49frames/s]\u001b[A\n",
      " 94%|██████████████████████████████████████████████████████████████████▉    | 30704/32589 [03:15<00:11, 164.49frames/s]\u001b[A\n",
      "100%|███████████████████████████████████████████████████████████████████████| 32589/32589 [03:17<00:00, 164.98frames/s]\u001b[A\n"
     ]
    }
   ],
   "source": [
    "yt_urls = []\n",
    "with open(yt_video_links_file, \"r\") as file:\n",
    "    yt_urls = list(set(url.strip() for url in file.readlines() if url.strip()))\n",
    "\n",
    "with tqdm(total=len(yt_urls), desc=\"Getting YouTube URLs\") as pbar:\n",
    "    for index, url in enumerate(yt_urls):\n",
    "        current = f\"[{index+1}/{len(yt_urls)}]\"\n",
    "                \n",
    "        # Get Video Information\n",
    "        yt = YouTube(url, on_progress_callback=on_progress)\n",
    "        stream = yt.streams.get_audio_only()\n",
    "\n",
    "        # Sanitize Video File Name\n",
    "        video_filename = sanitize_filename(stream.default_filename)\n",
    "        \n",
    "        # Get Native File Name Without Extension (e.g., \".mp4\")\n",
    "        native_transcription_filename = f'{os.path.splitext(video_filename)[0]}.txt'\n",
    "        \n",
    "        # Skip If Transcription Already Exists\n",
    "        transcription_exists = False\n",
    "        pbar.set_description(f\"Checking Existing Transcription File {current}\")\n",
    "        if os.path.exists(transcription_output_path):\n",
    "            for existing_transcription_filename in os.listdir(transcription_output_path):\n",
    "                existing_native_transcription_filename = re.sub(r'^\\[\\d+\\]\\s+', '', existing_transcription_filename)\n",
    "                if existing_native_transcription_filename == native_transcription_filename:\n",
    "                    existing_transcription_path = os.path.join(transcription_output_path, existing_transcription_filename)\n",
    "                    if os.path.exists(existing_transcription_path):\n",
    "                        transcription_exists = True\n",
    "        if transcription_exists:\n",
    "            pbar.update(1)\n",
    "            continue\n",
    "\n",
    "        # Download YouTube Video\n",
    "        pbar.set_description(f\"Downloading (Video) {current}\")\n",
    "        video_file, video_filename = download_youtube_video(video_filename, stream)\n",
    "        \n",
    "        # Extract Audio from Video -> Delete Video File\n",
    "        pbar.set_description(f\"Extracting (Audio) {current}\")\n",
    "        audio_file, audio_filename = extract_audio_from_video(video_file, video_filename)\n",
    "        os.remove(video_file)\n",
    "        \n",
    "        # Transcribe Audio to Text -> Delete Audio File\n",
    "        pbar.set_description(f\"Transcribing (Text) {current}\")\n",
    "        transcribe_audio(audio_file, audio_filename, index)\n",
    "        os.remove(audio_file)\n",
    "        \n",
    "        pbar.update(1)\n",
    "    pbar.set_description(\"Finished Data Gathering\")"
   ]
  },
  {
   "cell_type": "markdown",
   "metadata": {},
   "source": [
    "# Data Preprocessing"
   ]
  },
  {
   "cell_type": "code",
   "execution_count": null,
   "metadata": {},
   "outputs": [],
   "source": []
  },
  {
   "cell_type": "markdown",
   "metadata": {},
   "source": [
    "# Merge Transcriptions"
   ]
  },
  {
   "cell_type": "code",
   "execution_count": null,
   "metadata": {},
   "outputs": [],
   "source": []
  },
  {
   "cell_type": "markdown",
   "metadata": {},
   "source": [
    "# Text Cleaning: Topic Modeling and Sentence Filtering"
   ]
  },
  {
   "cell_type": "code",
   "execution_count": null,
   "metadata": {},
   "outputs": [],
   "source": []
  },
  {
   "cell_type": "markdown",
   "metadata": {},
   "source": [
    "# Data Sentiment Annotation"
   ]
  },
  {
   "cell_type": "code",
   "execution_count": null,
   "metadata": {},
   "outputs": [],
   "source": []
  },
  {
   "cell_type": "markdown",
   "metadata": {},
   "source": [
    "# Train-Validation-Test Split"
   ]
  },
  {
   "cell_type": "code",
   "execution_count": null,
   "metadata": {},
   "outputs": [],
   "source": []
  },
  {
   "cell_type": "markdown",
   "metadata": {},
   "source": [
    "# Training: Sentiment Analysis with BERT"
   ]
  },
  {
   "cell_type": "code",
   "execution_count": null,
   "metadata": {},
   "outputs": [],
   "source": []
  },
  {
   "cell_type": "markdown",
   "metadata": {},
   "source": [
    "# Validation: Hyperparameter Tuning and Model Optimization"
   ]
  },
  {
   "cell_type": "code",
   "execution_count": null,
   "metadata": {},
   "outputs": [],
   "source": []
  },
  {
   "cell_type": "markdown",
   "metadata": {},
   "source": [
    "# Testing: Model Evaluation"
   ]
  },
  {
   "cell_type": "code",
   "execution_count": null,
   "metadata": {},
   "outputs": [],
   "source": []
  },
  {
   "cell_type": "markdown",
   "metadata": {},
   "source": [
    "# Comparative Analysis "
   ]
  },
  {
   "cell_type": "code",
   "execution_count": null,
   "metadata": {},
   "outputs": [],
   "source": []
  },
  {
   "cell_type": "markdown",
   "metadata": {},
   "source": [
    "# Proof of Concept"
   ]
  },
  {
   "cell_type": "code",
   "execution_count": null,
   "metadata": {},
   "outputs": [],
   "source": []
  }
 ],
 "metadata": {
  "kernelspec": {
   "display_name": "Python 3 (ipykernel)",
   "language": "python",
   "name": "python3"
  },
  "language_info": {
   "codemirror_mode": {
    "name": "ipython",
    "version": 3
   },
   "file_extension": ".py",
   "mimetype": "text/x-python",
   "name": "python",
   "nbconvert_exporter": "python",
   "pygments_lexer": "ipython3",
   "version": "3.11.1"
  }
 },
 "nbformat": 4,
 "nbformat_minor": 2
}
