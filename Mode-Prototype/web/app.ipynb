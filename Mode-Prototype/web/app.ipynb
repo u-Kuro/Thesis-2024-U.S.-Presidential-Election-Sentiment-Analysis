{
 "cells": [
  {
   "cell_type": "code",
   "execution_count": null,
   "id": "089bdc15-2d74-4865-a663-78aa52790fd0",
   "metadata": {},
   "outputs": [
    {
     "name": "stdout",
     "output_type": "stream",
     "text": [
      "Loading model...\n",
      "Model loaded successfully!\n",
      " * Serving Flask app '__main__'\n",
      " * Debug mode: off\n"
     ]
    },
    {
     "name": "stderr",
     "output_type": "stream",
     "text": [
      "WARNING: This is a development server. Do not use it in a production deployment. Use a production WSGI server instead.\n",
      " * Running on all addresses (0.0.0.0)\n",
      " * Running on http://127.0.0.1:7860\n",
      " * Running on http://192.168.1.16:7860\n",
      "Press CTRL+C to quit\n",
      "192.168.1.16 - - [02/Jul/2025 12:01:12] \"GET / HTTP/1.1\" 200 -\n",
      "192.168.1.16 - - [02/Jul/2025 12:01:13] \"GET /favicon.ico HTTP/1.1\" 404 -\n"
     ]
    }
   ],
   "source": [
    "import os, torch\n",
    "from flask import Flask, request, jsonify, render_template\n",
    "from transformers import AutoTokenizer, AutoModelForSequenceClassification\n",
    "from dotenv import load_dotenv\n",
    "\n",
    "load_dotenv()\n",
    "MODEL_NAME = os.environ['MODEL_NAME']\n",
    "TOKEN = os.environ['HF_TOKEN']\n",
    "\n",
    "app = Flask(__name__)\n",
    "model = None\n",
    "tokenizer = None\n",
    "\n",
    "if model is None or tokenizer is None:\n",
    "    with app.app_context():\n",
    "        print(\"Loading model...\")\n",
    "        tokenizer = AutoTokenizer.from_pretrained(MODEL_NAME, token=TOKEN)\n",
    "        model = AutoModelForSequenceClassification.from_pretrained(MODEL_NAME, token=TOKEN)\n",
    "        model.eval()\n",
    "        print(\"Model loaded successfully!\")\n",
    "\n",
    "def get_sentiment_score(text):\n",
    "    with torch.no_grad():\n",
    "        encoding = tokenizer(\n",
    "            text,\n",
    "            truncation=True,\n",
    "            padding=True,\n",
    "            max_length=128,\n",
    "            return_tensors='pt'\n",
    "        )\n",
    "        \n",
    "        outputs = model(**encoding)\n",
    "        _, predicted = torch.max(outputs.logits, 1)\n",
    "        \n",
    "        sentiment_score = int((predicted - 1).cpu().numpy()[0])\n",
    "        \n",
    "        return sentiment_score\n",
    "\n",
    "def get_sentiment_label(score):\n",
    "    sentiment_map = {\n",
    "        -1: \"Negative\",\n",
    "        0: \"Neutral\", \n",
    "        1: \"Positive\"\n",
    "    }\n",
    "    return sentiment_map.get(score, \"Unknown\")\n",
    "\n",
    "@app.route('/predict', methods=['POST'])\n",
    "def predict():\n",
    "    try:\n",
    "        data = request.json\n",
    "        text = data.get('text', '').strip()\n",
    "        \n",
    "        if not text:\n",
    "            return jsonify({'error': 'Please provide text to analyze'}), 400\n",
    "        \n",
    "        sentiment_score = get_sentiment_score(text)\n",
    "        sentiment_label = get_sentiment_label(sentiment_score)\n",
    "        \n",
    "        return jsonify({\n",
    "            'sentiment_score': sentiment_score,\n",
    "            'sentiment_label': sentiment_label,\n",
    "            'text': text\n",
    "        })\n",
    "        \n",
    "    except Exception as e:\n",
    "        print(f\"Error: {str(e)}\")\n",
    "        return jsonify({'error': 'An error occurred during prediction'}), 500\n",
    "\n",
    "@app.route('/')\n",
    "def home():\n",
    "    return render_template(\"index.html\")\n",
    "\n",
    "if __name__ == '__main__':\n",
    "    app.run(host=\"0.0.0.0\", port=7860, debug=True)"
   ]
  },
  {
   "cell_type": "code",
   "execution_count": null,
   "id": "30145295-668d-4927-9508-c781db5135a5",
   "metadata": {},
   "outputs": [],
   "source": []
  }
 ],
 "metadata": {
  "kernelspec": {
   "display_name": "Python 3 (ipykernel)",
   "language": "python",
   "name": "python3"
  },
  "language_info": {
   "codemirror_mode": {
    "name": "ipython",
    "version": 3
   },
   "file_extension": ".py",
   "mimetype": "text/x-python",
   "name": "python",
   "nbconvert_exporter": "python",
   "pygments_lexer": "ipython3",
   "version": "3.8.0"
  }
 },
 "nbformat": 4,
 "nbformat_minor": 5
}
