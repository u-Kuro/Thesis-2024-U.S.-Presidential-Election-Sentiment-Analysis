{
 "cells": [
  {
   "cell_type": "markdown",
   "metadata": {},
   "source": [
    "# Initialize Dependencies"
   ]
  },
  {
   "cell_type": "code",
   "execution_count": 20,
   "metadata": {
    "vscode": {
     "languageId": "plaintext"
    }
   },
   "outputs": [],
   "source": [
    "import os, re, subprocess\n",
    "from pytubefix import YouTube\n",
    "from pytubefix.cli import on_progress"
   ]
  },
  {
   "cell_type": "markdown",
   "metadata": {},
   "source": [
    "# Data Gathering"
   ]
  },
  {
   "cell_type": "code",
   "execution_count": 25,
   "metadata": {
    "vscode": {
     "languageId": "plaintext"
    }
   },
   "outputs": [
    {
     "name": "stdout",
     "output_type": "stream",
     "text": [
      "Skipped (video already exists): [0] Michigan’s Muslims Helped Biden Win in 2020. Will They Back Harris in Nov. - - Amanpour and Company.mp4\n",
      "Skipped (video already exists): [1] Arizona Gen Z voters sit down to talk 2024 election.mp4\n",
      "Skipped (video already exists): [2] The ‘battleground state’ of Pennsylvania is most important in US presidential election.mp4\n"
     ]
    }
   ],
   "source": [
    "yt_video_links_file = \"YouTube Video Links.txt\"\n",
    "video_output_path = \"./Video\"\n",
    "\n",
    "def sanitize_filename(filename):\n",
    "    filename = re.sub(r'[/\\\\:|<>*?\"]+', \" - \", filename)\n",
    "    filename = re.sub(r'\\s+', \" \", filename)\n",
    "    return filename.strip()\n",
    "\n",
    "def download_youtube_video(url, index):\n",
    "    os.makedirs(video_output_path, exist_ok=True)\n",
    "    \n",
    "    yt = YouTube(url, on_progress_callback=on_progress)\n",
    "    stream = yt.streams.get_audio_only()\n",
    "\n",
    "    video_filename = sanitize_filename(stream.default_filename)\n",
    "    video_filename = f'[{index}] {video_filename}'\n",
    "    \n",
    "    file_path = os.path.join(video_output_path, video_filename)\n",
    "    if not os.path.exists(file_path):\n",
    "        stream.download(output_path=video_output_path, filename=video_filename)\n",
    "        print(f'Downloaded: {video_filename}')\n",
    "    else:\n",
    "        print(f'Skipped (video already exists): {video_filename}')\n",
    "\n",
    "with open(yt_video_links_file, \"r\") as file:\n",
    "    urls = file.readlines()\n",
    "    for index, url in enumerate(urls):\n",
    "        url = url.strip()\n",
    "        if url:\n",
    "            download_youtube_video(url, index)"
   ]
  },
  {
   "cell_type": "markdown",
   "metadata": {},
   "source": [
    "# Audio Extraction"
   ]
  },
  {
   "cell_type": "code",
   "execution_count": 26,
   "metadata": {},
   "outputs": [
    {
     "name": "stdout",
     "output_type": "stream",
     "text": [
      "Skipped (audio already exists): [0] Michigan’s Muslims Helped Biden Win in 2020. Will They Back Harris in Nov. - - Amanpour and Company.mp3\n",
      "Skipped (audio already exists): [1] Arizona Gen Z voters sit down to talk 2024 election.mp3\n",
      "Skipped (audio already exists): [2] The ‘battleground state’ of Pennsylvania is most important in US presidential election.mp3\n"
     ]
    }
   ],
   "source": [
    "audio_output_path = \"./Audio\"\n",
    "\n",
    "def extract_audio_from_video(video_filename, video_output_path, index, audio_output_path=\"./Audio\"):\n",
    "    os.makedirs(audio_output_path, exist_ok=True)  # Create audio output directory\n",
    "\n",
    "    filename, _ = os.path.splitext(video_filename)\n",
    "    audio_filename = f'{filename}.mp3'\n",
    "\n",
    "    # Construct paths\n",
    "    video_file = os.path.join(video_output_path, video_filename)\n",
    "    audio_file = os.path.join(audio_output_path, audio_filename)\n",
    "\n",
    "    # Check if the audio file already exists\n",
    "    if os.path.exists(audio_file):\n",
    "        print(f'Skipped (audio already exists): {audio_filename}')\n",
    "        return audio_file\n",
    "\n",
    "    try:\n",
    "        (\n",
    "            ffmpeg\n",
    "            .input(video_file)\n",
    "            .output(audio_file, format='mp3', acodec='libmp3lame')\n",
    "            .run(overwrite_output=True)\n",
    "        )\n",
    "        print(f'Converted: {video_filename} to {audio_filename}')\n",
    "    except ffmpeg.Error as e:\n",
    "        print(f'Error converting {video_filename}: {e.stderr.decode()}')\n",
    "\n",
    "    return audio_file\n",
    "\n",
    "for video_filename in os.listdir(video_output_path):\n",
    "    if video_filename.endswith(('.mp4', '.mkv', '.webm', '.flv', '.avi')):\n",
    "        extract_audio_from_video(video_filename, video_output_path, 0, audio_output_path)"
   ]
  },
  {
   "cell_type": "code",
   "execution_count": null,
   "metadata": {},
   "outputs": [],
   "source": []
  }
 ],
 "metadata": {
  "kernelspec": {
   "display_name": "Python 3 (ipykernel)",
   "language": "python",
   "name": "python3"
  },
  "language_info": {
   "codemirror_mode": {
    "name": "ipython",
    "version": 3
   },
   "file_extension": ".py",
   "mimetype": "text/x-python",
   "name": "python",
   "nbconvert_exporter": "python",
   "pygments_lexer": "ipython3",
   "version": "3.11.1"
  }
 },
 "nbformat": 4,
 "nbformat_minor": 2
}
