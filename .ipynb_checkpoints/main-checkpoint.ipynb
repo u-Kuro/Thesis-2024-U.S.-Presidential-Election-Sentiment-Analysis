{
 "cells": [
  {
   "cell_type": "markdown",
   "metadata": {},
   "source": [
    "# Initialize Dependencies"
   ]
  },
  {
   "cell_type": "code",
   "execution_count": 54,
   "metadata": {
    "vscode": {
     "languageId": "plaintext"
    }
   },
   "outputs": [],
   "source": [
    "import os, re, ffmpeg, whisper\n",
    "from pytubefix import YouTube\n",
    "from pytubefix.cli import on_progress\n",
    "\n",
    "from tqdm.auto import tqdm"
   ]
  },
  {
   "cell_type": "markdown",
   "metadata": {},
   "source": [
    "# Set Global Variables"
   ]
  },
  {
   "cell_type": "code",
   "execution_count": 55,
   "metadata": {
    "vscode": {
     "languageId": "plaintext"
    }
   },
   "outputs": [],
   "source": [
    "yt_video_links_file = \"YouTube Video Links.txt\"\n",
    "video_output_path = \"./Video\"\n",
    "audio_output_path = \"./Audio\"\n",
    "transcriptions_output_path = \"./Transcription\""
   ]
  },
  {
   "cell_type": "markdown",
   "metadata": {},
   "source": [
    "# Data Gathering (YouTube Videos)"
   ]
  },
  {
   "cell_type": "code",
   "execution_count": 56,
   "metadata": {
    "vscode": {
     "languageId": "plaintext"
    }
   },
   "outputs": [
    {
     "data": {
      "application/vnd.jupyter.widget-view+json": {
       "model_id": "2a0430f55364402bb36ba6fb7741dfed",
       "version_major": 2,
       "version_minor": 0
      },
      "text/plain": [
       "Downloading YouTube Videos:   0%|          | 0/3 [00:00<?, ?video/s]"
      ]
     },
     "metadata": {},
     "output_type": "display_data"
    },
    {
     "name": "stdout",
     "output_type": "stream",
     "text": [
      "Skipped (video already exists): [0] Michigan’s Muslims Helped Biden Win in 2020. Will They Back Harris in Nov. - - Amanpour and Company.mp4\n",
      "Skipped (video already exists): [1] Arizona Gen Z voters sit down to talk 2024 election.mp4\n",
      "Skipped (video already exists): [2] The ‘battleground state’ of Pennsylvania is most important in US presidential election.mp4\n"
     ]
    }
   ],
   "source": [
    "def sanitize_filename(filename):\n",
    "    filename = re.sub(r'[/\\\\:|<>*?\"]+', \" - \", filename)\n",
    "    filename = re.sub(r'\\s+', \" \", filename)\n",
    "    return filename.strip()\n",
    "\n",
    "def download_youtube_video(url, index):\n",
    "    os.makedirs(video_output_path, exist_ok=True)\n",
    "    \n",
    "    yt = YouTube(url, on_progress_callback=on_progress)\n",
    "    stream = yt.streams.get_audio_only()\n",
    "\n",
    "    video_filename = sanitize_filename(stream.default_filename)\n",
    "    video_filename = f'[{index}] {video_filename}'\n",
    "    \n",
    "    file_path = os.path.join(video_output_path, video_filename)\n",
    "    if not os.path.exists(file_path):\n",
    "        stream.download(output_path=video_output_path, filename=video_filename)\n",
    "        print(f'Downloaded (Video): {video_filename}')\n",
    "    else:\n",
    "        print(f'Skipped (video already exists): {video_filename}')\n",
    "\n",
    "yt_urls = []\n",
    "with open(yt_video_links_file, \"r\") as file:\n",
    "    yt_urls = [url.strip() for url in file.readlines() if url.strip()]\n",
    "\n",
    "with tqdm(total=len(yt_urls), desc=\"Downloading YouTube Videos\", unit=\"video\") as pbar:\n",
    "    for index, url in enumerate(yt_urls):\n",
    "        download_youtube_video(url, index)\n",
    "        pbar.update(1)\n",
    "yt_urls = None"
   ]
  },
  {
   "cell_type": "markdown",
   "metadata": {},
   "source": [
    "# Audio Extraction (Video to Audio)"
   ]
  },
  {
   "cell_type": "code",
   "execution_count": 57,
   "metadata": {},
   "outputs": [
    {
     "data": {
      "application/vnd.jupyter.widget-view+json": {
       "model_id": "fdc354cc6d704eb3816f88dd822bef47",
       "version_major": 2,
       "version_minor": 0
      },
      "text/plain": [
       "Extracting Audio Files:   0%|          | 0/3 [00:00<?, ?audio/s]"
      ]
     },
     "metadata": {},
     "output_type": "display_data"
    },
    {
     "name": "stdout",
     "output_type": "stream",
     "text": [
      "Skipped (audio already exists): [0] Michigan’s Muslims Helped Biden Win in 2020. Will They Back Harris in Nov. - - Amanpour and Company.mp3\n",
      "Skipped (audio already exists): [1] Arizona Gen Z voters sit down to talk 2024 election.mp3\n",
      "Skipped (audio already exists): [2] The ‘battleground state’ of Pennsylvania is most important in US presidential election.mp3\n"
     ]
    }
   ],
   "source": [
    "def extract_audio_from_video(video_filename):\n",
    "    os.makedirs(audio_output_path, exist_ok=True)\n",
    "\n",
    "    filename, _ = os.path.splitext(video_filename)\n",
    "    audio_filename = f'{filename}.mp3'\n",
    "\n",
    "    video_file = os.path.join(video_output_path, video_filename)\n",
    "    audio_file = os.path.join(audio_output_path, audio_filename)\n",
    "\n",
    "    if os.path.exists(audio_file):\n",
    "        print(f'Skipped (audio already exists): {audio_filename}')\n",
    "    else:\n",
    "        try:\n",
    "            (\n",
    "                ffmpeg\n",
    "                .input(video_file)\n",
    "                .output(audio_file, format='mp3', acodec='libmp3lame', loglevel=\"info\")\n",
    "                .run(overwrite_output=True)\n",
    "            )\n",
    "            print(f'Extracted (Audio): {audio_filename}')\n",
    "        except ffmpeg.Error as e:\n",
    "            print(f'Error converting {video_filename}: {e.stderr.decode()}')\n",
    "\n",
    "video_files = os.listdir(video_output_path)\n",
    "with tqdm(total=len(video_files), desc='Extracting Audio Files', unit=\"audio\") as pbar:\n",
    "    for video_filename in video_files:\n",
    "        extract_audio_from_video(video_filename)\n",
    "        pbar.update(1)\n",
    "video_files = None"
   ]
  },
  {
   "cell_type": "markdown",
   "metadata": {},
   "source": [
    "# Transcription (Audio to Text)"
   ]
  },
  {
   "cell_type": "code",
   "execution_count": 58,
   "metadata": {},
   "outputs": [
    {
     "data": {
      "application/vnd.jupyter.widget-view+json": {
       "model_id": "fda55004154f462ba588ba361073e4b2",
       "version_major": 2,
       "version_minor": 0
      },
      "text/plain": [
       "Transcribing Audio Files:   0%|          | 0/3 [00:00<?, ?transcription/s]"
      ]
     },
     "metadata": {},
     "output_type": "display_data"
    },
    {
     "name": "stdout",
     "output_type": "stream",
     "text": [
      "Skipped (transcription already exists): [0] Michigan’s Muslims Helped Biden Win in 2020. Will They Back Harris in Nov. - - Amanpour and Company.txt\n",
      "Skipped (transcription already exists): [1] Arizona Gen Z voters sit down to talk 2024 election.txt\n",
      "Skipped (transcription already exists): [2] The ‘battleground state’ of Pennsylvania is most important in US presidential election.txt\n"
     ]
    }
   ],
   "source": [
    "def transcribe_audio(audio_filename):\n",
    "    os.makedirs(transcriptions_output_path, exist_ok=True)\n",
    "    \n",
    "    audio_file = os.path.join(audio_output_path, audio_filename)\n",
    "    transcription_filename = f'{os.path.splitext(audio_filename)[0]}.txt'\n",
    "    transcription_file = os.path.join(transcriptions_output_path, transcription_filename)\n",
    "\n",
    "    if os.path.exists(transcription_file):\n",
    "        print(f'Skipped (transcription already exists): {transcription_filename}')\n",
    "    else:\n",
    "        # Models: \"tiny\", \"base\", \"small\", \"medium\", \"large\", \"turbo\"\n",
    "        # English Only Models:\"tiny.en\", \"base.en\", \"small.en\", \"medium.en\"\n",
    "        model = whisper.load_model(\"small\", device=\"cpu\")\n",
    "\n",
    "        result = model.transcribe(audio_file, verbose=False)\n",
    "\n",
    "        with open(transcription_file, 'w') as f:\n",
    "            f.write(result['text'])\n",
    "\n",
    "        print(f'Transcribed (Text): {transcription_filename}')\n",
    "\n",
    "audio_files = os.listdir(audio_output_path)\n",
    "with tqdm(total=len(audio_files), desc='Transcribing Audio Files', unit=\"transcription\") as pbar:\n",
    "    for audio_filename in audio_files:\n",
    "        transcribe_audio(audio_filename)\n",
    "        pbar.update(1)\n",
    "audio_files = None"
   ]
  },
  {
   "cell_type": "markdown",
   "metadata": {},
   "source": [
    "# Merge Transcripts"
   ]
  },
  {
   "cell_type": "code",
   "execution_count": null,
   "metadata": {},
   "outputs": [],
   "source": []
  }
 ],
 "metadata": {
  "kernelspec": {
   "display_name": "Python 3 (ipykernel)",
   "language": "python",
   "name": "python3"
  },
  "language_info": {
   "codemirror_mode": {
    "name": "ipython",
    "version": 3
   },
   "file_extension": ".py",
   "mimetype": "text/x-python",
   "name": "python",
   "nbconvert_exporter": "python",
   "pygments_lexer": "ipython3",
   "version": "3.11.1"
  }
 },
 "nbformat": 4,
 "nbformat_minor": 2
}
