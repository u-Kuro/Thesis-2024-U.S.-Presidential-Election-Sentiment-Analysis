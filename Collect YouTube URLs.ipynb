{
 "cells": [
  {
   "cell_type": "code",
   "execution_count": 1,
   "id": "a247f8fc-2fc8-4c14-937c-0b242c5c77a8",
   "metadata": {},
   "outputs": [],
   "source": [
    "# Import Dependencies\n",
    "import os, re\n",
    "from pytubefix.contrib.search import Search, Filter\n",
    "from pytubefix.innertube import _default_clients\n",
    "from IPython.display import IFrame, display, clear_output"
   ]
  },
  {
   "cell_type": "code",
   "execution_count": 2,
   "id": "52a6d1ee-e73a-4a15-ad8c-dd967690892a",
   "metadata": {},
   "outputs": [],
   "source": [
    "def read_unique_items_from_file(file: str) -> list:\n",
    "    if os.path.exists(file):\n",
    "        with open(file, \"r\") as f:\n",
    "            return list(set(url.strip() for url in f.readlines() if url.strip()))\n",
    "    return []\n",
    "def ask_user(prompt: str) -> bool:\n",
    "    while True:\n",
    "        answer = input(prompt).lower()\n",
    "        if (\"yes\").startswith(answer.lower()):\n",
    "            return True\n",
    "        elif (\"no\").startswith(answer.lower()):\n",
    "            return False\n",
    "def display_video(url: str):\n",
    "    display(IFrame(url, width=560, height=315, extras=[\"controls\", \"autoplay\"]))"
   ]
  },
  {
   "cell_type": "code",
   "execution_count": 3,
   "id": "0b87c2b6-0636-4db0-a2c3-5fa6a68c4701",
   "metadata": {},
   "outputs": [],
   "source": [
    "# Folder Name\n",
    "output_path = \"YouTube URL Collection\"\n",
    "# File Name\n",
    "used_urls_filename = \"Used URLs.txt\"\n",
    "unused_urls_filename = \"Unused URLs.txt\"\n",
    "# Additional Dependency Configurations\n",
    "_default_clients[\"ANDROID_MUSIC\"] = _default_clients[\"ANDROID_CREATOR\"]"
   ]
  },
  {
   "cell_type": "code",
   "execution_count": null,
   "id": "9c507b30-95f3-4229-a89a-b50b4127f110",
   "metadata": {},
   "outputs": [
    {
     "data": {
      "text/html": [
       "\n",
       "        <iframe\n",
       "            width=\"560\"\n",
       "            height=\"315\"\n",
       "            src=\"https://www.youtube.com/embed/TSMfBav1I78?autoplay=1\"\n",
       "            frameborder=\"0\"\n",
       "            allowfullscreen\n",
       "            controls autoplay\n",
       "        ></iframe>\n",
       "        "
      ],
      "text/plain": [
       "<IPython.lib.display.IFrame at 0x2baed0e5010>"
      ]
     },
     "metadata": {},
     "output_type": "display_data"
    },
    {
     "name": "stdout",
     "output_type": "stream",
     "text": [
      "\n",
      "Title: Trump works fry station at McDonald's in Pennsylvania\n",
      "\n",
      "URL If Video Failed To Load: https://youtube.com/watch?v=TSMfBav1I78\n",
      "\n"
     ]
    }
   ],
   "source": [
    "# YouTube Search Query\n",
    "search_query = \"\"\"\n",
    "    \n",
    "    (\"Donald\" OR \"Trump\" OR \"Kamala\" OR \"Harris\") AND (\"Pennsylvania\")\n",
    "    \n",
    "\"\"\"\n",
    "search_query.replace('\\n', '').strip()\n",
    "# YouTube Filters\n",
    "yt_filters = { \"type\": Filter.get_type(\"Video\") }\n",
    "# Existing URLs\n",
    "used_yt_urls = read_unique_items_from_file(os.path.join(output_path, used_urls_filename))\n",
    "unused_yt_urls = read_unique_items_from_file(os.path.join(output_path, unused_urls_filename))\n",
    "failed_yt_urls = []\n",
    "# Search YouTube Videos\n",
    "print(f'...Searching...')\n",
    "yt_list = Search(\n",
    "    query=search_query,\n",
    "    filters=yt_filters,\n",
    "    use_oauth=authorize_yt,\n",
    "    allow_oauth_cache=authorize_yt\n",
    ")\n",
    "last_yt_videos_len = len(yt_list.videos)\n",
    "# Loop To Search Per Batch\n",
    "while True:\n",
    "    for yt in yt_list.videos:\n",
    "        url = yt.watch_url.strip()\n",
    "        # Skip Seen Video / URL\n",
    "        if url in used_yt_urls or url in unused_yt_urls: continue\n",
    "        # Reset Output Console\n",
    "        clear_output(wait=True)\n",
    "        # Display the Vid\n",
    "        display_video(f'{yt.embed_url}?autoplay=1')\n",
    "        print(\"\") # Just New Line for Better Output\n",
    "        print(f'Title: {yt.title}')\n",
    "        print(\"\") # Just New Line for Better Output\n",
    "        print(f'URL If Video Failed To Load: {url}')\n",
    "        print(\"\") # Just New Line for Better Output\n",
    "        if ask_user(\"Do you want to add this Video URL (y/n)?\"): \n",
    "            # Create Video Directory\n",
    "            os.makedirs(output_path, exist_ok=True)\n",
    "            with open(os.path.join(output_path, used_urls_filename), \"w\") as file:\n",
    "                used_yt_urls.append(url)\n",
    "                file.write(\"\\n\".join(list(set(used_yt_urls))))\n",
    "        else:\n",
    "            # Create Video Directory\n",
    "            os.makedirs(output_path, exist_ok=True)\n",
    "            with open(os.path.join(output_path, unused_urls_filename), \"w\") as file:\n",
    "                unused_yt_urls.append(url)\n",
    "                file.write(\"\\n\".join(list(set(unused_yt_urls))))\n",
    "    # Search Next Batch\n",
    "    print(f'...Searching [{len(yt_list.videos)} Total Video]...')\n",
    "    yt_list.get_next_results()\n",
    "    yt_videos_len = len(yt_list.videos)\n",
    "    # Stop If No More Videos Found\n",
    "    if yt_videos_len > last_yt_videos_len:\n",
    "        last_yt_videos_len = yt_videos_len\n",
    "        continue\n",
    "    break"
   ]
  },
  {
   "cell_type": "code",
   "execution_count": null,
   "id": "b84fd629-173f-4407-9155-34fe1a5dbba0",
   "metadata": {},
   "outputs": [],
   "source": []
  }
 ],
 "metadata": {
  "kernelspec": {
   "display_name": "Python 3 (ipykernel)",
   "language": "python",
   "name": "python3"
  },
  "language_info": {
   "codemirror_mode": {
    "name": "ipython",
    "version": 3
   },
   "file_extension": ".py",
   "mimetype": "text/x-python",
   "name": "python",
   "nbconvert_exporter": "python",
   "pygments_lexer": "ipython3",
   "version": "3.11.0"
  }
 },
 "nbformat": 4,
 "nbformat_minor": 5
}
