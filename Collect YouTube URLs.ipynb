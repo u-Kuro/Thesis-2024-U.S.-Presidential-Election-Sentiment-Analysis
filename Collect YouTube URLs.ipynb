{
 "cells": [
  {
   "cell_type": "code",
   "execution_count": 1,
   "id": "a247f8fc-2fc8-4c14-937c-0b242c5c77a8",
   "metadata": {
    "jupyter": {
     "source_hidden": true
    }
   },
   "outputs": [],
   "source": [
    "# Import Dependencies\n",
    "import os, re\n",
    "import pandas as pd\n",
    "from pytubefix.contrib.search import Search, Filter\n",
    "from pytubefix.innertube import _default_clients\n",
    "from IPython.display import HTML, IFrame, display, clear_output"
   ]
  },
  {
   "cell_type": "code",
   "execution_count": 2,
   "id": "52a6d1ee-e73a-4a15-ad8c-dd967690892a",
   "metadata": {
    "jupyter": {
     "source_hidden": true
    }
   },
   "outputs": [],
   "source": [
    "def read_unique_items_from_file(file: str) -> list:\n",
    "    if os.path.exists(file):\n",
    "        with open(file, \"r\") as f:\n",
    "            return list(set(url.strip() for url in f.readlines() if url.strip()))\n",
    "    return []\n",
    "def read_dict_from_csv(file: str, key: str = \"URL\", value: str = \"Title\") -> dict:\n",
    "    if os.path.exists(file):\n",
    "        return pd.read_csv(file, encoding_errors=\"ignore\").set_index(key)[value].to_dict()\n",
    "    return {}\n",
    "def ask_user(prompt: str) -> bool:\n",
    "    while True:\n",
    "        answer = input(prompt).lower()\n",
    "        if (\"yes\").startswith(answer.lower()):\n",
    "            return True\n",
    "        elif (\"no\").startswith(answer.lower()):\n",
    "            return False\n",
    "def display_video(url: str):\n",
    "    display(IFrame(url, width=490, height=275, extras=[\"controls\", \"autoplay\", 'allow=\"autoplay\"']))\n",
    "def get_yt_id(url: str):\n",
    "    # Find the part after the '?' (query parameters)\n",
    "    if '?' in url: query_string = url.split('?')[-1]\n",
    "    else: return None\n",
    "    # Split the query parameters by '&'\n",
    "    params = query_string.split('&')\n",
    "    # Find the parameter by name\n",
    "    for param in params:\n",
    "        key, value = param.split('=')\n",
    "        if key == \"v\": return value\n",
    "    return None"
   ]
  },
  {
   "cell_type": "code",
   "execution_count": 3,
   "id": "0b87c2b6-0636-4db0-a2c3-5fa6a68c4701",
   "metadata": {
    "scrolled": true
   },
   "outputs": [],
   "source": [
    "# Folder Name\n",
    "output_path = \"YouTube URL Collection\"\n",
    "# File Name\n",
    "used_urls_filename = \"Used URLs.csv\"\n",
    "unused_urls_filename = \"Unused URLs.txt\"\n",
    "# Boolean Flag\n",
    "authorize_yt = False # Change to true if YouTube Detects you as a BOT\n",
    "# Numeric Constant\n",
    "max_description_height = 80\n",
    "# Additional Dependency Configurations\n",
    "_default_clients[\"ANDROID_MUSIC\"] = _default_clients[\"ANDROID_CREATOR\"]\n",
    "# Print Colors\n",
    "class pcolors:\n",
    "    ENDC = \"\\033[0m\"\n",
    "    BRIGHTCYAN = \"\\033[38;2;67;227;235m\""
   ]
  },
  {
   "cell_type": "code",
   "execution_count": null,
   "id": "9c507b30-95f3-4229-a89a-b50b4127f110",
   "metadata": {},
   "outputs": [
    {
     "data": {
      "text/html": [
       "\n",
       "        <iframe\n",
       "            width=\"490\"\n",
       "            height=\"275\"\n",
       "            src=\"https://www.youtube.com/embed/gB9Hy93jec8?autoplay=1\"\n",
       "            frameborder=\"0\"\n",
       "            allowfullscreen\n",
       "            controls autoplay allow=\"autoplay\"\n",
       "        ></iframe>\n",
       "        "
      ],
      "text/plain": [
       "<IPython.lib.display.IFrame at 0x2b57361d9d0>"
      ]
     },
     "metadata": {},
     "output_type": "display_data"
    },
    {
     "name": "stdout",
     "output_type": "stream",
     "text": [
      "\n",
      "Title: \u001b[38;2;67;227;235mBREAKING: Union Leader WARNS Kamala Harris AGAINST Choosing Shapiro & Kelly For Vice President....\u001b[0m\n",
      "\n"
     ]
    },
    {
     "data": {
      "text/html": [
       "<div style=\"max-height:80px;overflow-y:scroll;border-bottom:1px solid #4c4c4c;padding: 0px 8px; color:rgb(67,227,235);font-family: menlo, consolas, 'DejaVu Sans Mono', monospace\">UAW president voices concerns about Kelly, Shapiro amid Harris' running mate search\n",
       "\n",
       "United Auto Workers President Shawn Fain said in a Thursday interview that he sees some \"troubling\" stances on labor matters held by at least two of the Democrats who are being considered as potential running mates for Vice President Kamala Harris.\n",
       "\n",
       "Fain, an influential figure in Democratic politics, noted that Arizona U.S. Sen. Mark Kelly didn't come out as an early supporter of the Protecting the Right to Organize Act (PRO Act), which aimed to provide safeguards for collective bargaining in workplaces, and that Pennsylvania Gov. Josh Shapiro has backed private school vouchers.\n",
       "\n",
       "However, ultimately, Fain said his union, which endorsed Harris for president on Wednesday, will support the Democratic ticket regardless of whom Harris selects.\n",
       "\n",
       "\"At the end of the day, we have to defeat Donald Trump,\" Fain said of the Republican nominee. \"Another Donald Trump presidency would be a complete disaster for this country and for working-class people in this country.\"\n",
       "\n",
       "\n",
       "As for Shapiro, Fain said the Pennsylvania governor has supported taxpayer-funded private school vouchers. That's a \"big issue\" because public education has been under attack by the Republican Party, Fain contended.\n",
       "\n",
       "Public sector labor unions representing teachers have long opposed taxpayer-funded vouchers for students to attend private schools.\n",
       "\n",
       "\"We all know what the voucher system is,\" Fain said. \"It's a system where the rich people can have the taxpayers fund their kids' private education.\"\n",
       "\n",
       "https://www.detroitnews.com/story/news/politics/2024/08/01/uaw-president-shawn-fain-voices-concerns-about-mark-kelly-josh-shapiro-kamala-harris-vp-andy-beshear/74635714007/\n",
       "\n",
       "#shapiro #kamalaharris #harris #shawnfain #fain #uaw #union #unions #kelly #markkelly #harris2024 #kamalaharris2024 #kamala2024 #joshshapiro #pennsylvania #PA #UAW\n",
       "\n",
       "Support The Show & Watch Exclusive Content: https://www.patreon.com/theprogressivevoice\n",
       "\n",
       "Donate: https://www.paypal.me/theprogressivevoice\n",
       "\n",
       "Listen to the audio podcast format on Itunes: https://itunes.apple.com/us/podcast/the-progressive-voice/id1265065271?mt=2\n",
       "\n",
       "Follow me on Twitter: https://twitter.com/Progressvoice</div>"
      ],
      "text/plain": [
       "<IPython.core.display.HTML object>"
      ]
     },
     "metadata": {},
     "output_type": "display_data"
    },
    {
     "name": "stdout",
     "output_type": "stream",
     "text": [
      "\n",
      "Publish Year: \u001b[38;2;67;227;235m2024\u001b[0m\n",
      "\n",
      "URL If Video Failed To Load: https://youtube.com/watch?v=gB9Hy93jec8\n",
      "\n"
     ]
    }
   ],
   "source": [
    "# Get Existing YouTube Ids\n",
    "used_yt_dict= {\n",
    "    get_yt_id(url): title\n",
    "    for url, title in read_dict_from_csv(os.path.join(output_path, used_urls_filename)).items()\n",
    "    if get_yt_id(url) is not None and get_yt_id(url) != \"\"\n",
    "}\n",
    "unused_yt_ids = set([\n",
    "    get_yt_id(url)\n",
    "    for url in read_unique_items_from_file(os.path.join(output_path, unused_urls_filename))\n",
    "    if get_yt_id(url) is not None and get_yt_id(url) != \"\"\n",
    "])\n",
    "# YouTube Search Query\n",
    "search_query = re.sub(r'\\s+', \" \", \"\"\"\n",
    "    \n",
    "    trump kamala harris donald \n",
    "    pennsylvania PA P.A.\n",
    "    -survivor -assassin -shot -campaign -rally -rallies\n",
    "    \n",
    "\"\"\".replace(\"\\n\", \" \")).strip()\n",
    "# Required/Prohibited Keywords (Uncased)\n",
    "required_uncased_keywords_in_title = [\n",
    "    # if no words here is in title, it is skipped\n",
    "    # \"harris\", \"kamala\"\n",
    "] \n",
    "required_uncased_keywords_in_title_or_desc = [\n",
    "    # if no words here is in title and description, it is skipped\n",
    "    # \"pennsylvania\", \"P.A.\"\n",
    "] \n",
    "prohibited_uncased_keywords_in_title = [\n",
    "    # if any word here is in title, it is skipped\n",
    "    # \"trump\", \"donald\"\n",
    "] \n",
    "# YouTube Filters\n",
    "yt_filters = { \n",
    "    \"type\": Filter.get_type(\"Video\"),\n",
    "    # Under 4 minutes | 4 - 20 minutes | Over 20 minutes\n",
    "    \"duration\": Filter.get_duration(\"4 - 20 minutes\") \n",
    "}\n",
    "# Search YouTube Videos\n",
    "print(f'...Searching...')\n",
    "yt_list = Search(\n",
    "    query=search_query,\n",
    "    filters=yt_filters,\n",
    "    use_oauth=authorize_yt,\n",
    "    allow_oauth_cache=authorize_yt\n",
    ")\n",
    "last_yt_videos_len = len(yt_list.videos)\n",
    "# Loop To Search Per Batch\n",
    "while True:\n",
    "    for yt in yt_list.videos:\n",
    "        url = yt.watch_url.strip()\n",
    "        title = yt.title\n",
    "        description = yt.description\n",
    "        video_id = get_yt_id(url)\n",
    "        # Check If Video / Url Already Seen\n",
    "        if (\n",
    "            title is None or title == \"\"\n",
    "            or video_id is None or video_id == \"\"\n",
    "            or video_id in used_yt_dict\n",
    "            or video_id in unused_yt_ids\n",
    "            or any(key in title.lower() for key in prohibited_uncased_keywords_in_title)\n",
    "            or all(key not in title.lower() for key in required_uncased_keywords_in_title)\n",
    "            or all(\n",
    "                key not in title.lower() and key not in yt.description.lower()\n",
    "                for key in required_uncased_keywords_in_title_or_desc\n",
    "            )\n",
    "        ): continue\n",
    "        # Check If Year > 2020\n",
    "        publish_date = yt.publish_date\n",
    "        if publish_date != None and publish_date.year <= 2020: continue\n",
    "        # Reset Output Console\n",
    "        clear_output(wait=True)\n",
    "        # Display the Vid\n",
    "        display_video(f'{yt.embed_url}?autoplay=1')\n",
    "        print(\"\") # Just New Line for Better Output\n",
    "        print(f'Title: {pcolors.BRIGHTCYAN}{title}{pcolors.ENDC}')\n",
    "        print(\"\") # Just New Line for Better Output\n",
    "        if description is not None and description != \"\":\n",
    "            display(HTML(f\"\"\"<div style=\"max-height:{max_description_height}px;overflow-y:scroll;border-bottom:1px solid #4c4c4c;padding: 0px 8px; color:rgb(67,227,235);font-family: menlo, consolas, 'DejaVu Sans Mono', monospace\">{description}</div>\"\"\"))\n",
    "            print(\"\") # Just New Line for Better Output\n",
    "        print(f'Publish Year: {pcolors.BRIGHTCYAN}{yt.publish_date.year if yt.publish_date != None else \"None\"}{pcolors.ENDC}')\n",
    "        print(\"\") # Just New Line for Better Output\n",
    "        print(f'URL If Video Failed To Load: {url}')\n",
    "        print(\"\") # Just New Line for Better Output\n",
    "        if ask_user(\"Do you want to add this Video URL (y/n)?\"): \n",
    "            # Create Collection Directory\n",
    "            os.makedirs(output_path, exist_ok=True)\n",
    "            used_yt_dict[video_id] = title\n",
    "            (\n",
    "                pd.DataFrame(list(({\n",
    "                    f'https://www.youtube.com/watch?v={yt_id}': title\n",
    "                    for yt_id, title in used_yt_dict.items()\n",
    "                    if yt_id is not None and yt_id != \"\"\n",
    "                }).items()), columns=[\"URL\", \"Title\"])\n",
    "                .to_csv(os.path.join(output_path, used_urls_filename), index=False, errors=\"ignore\")\n",
    "            )\n",
    "        else:\n",
    "            # Create Collection Directory\n",
    "            os.makedirs(output_path, exist_ok=True)\n",
    "            with open(os.path.join(output_path, unused_urls_filename), \"w\") as file:\n",
    "                unused_yt_ids.add(video_id)\n",
    "                file.write(\"\\n\".join([\n",
    "                    f'https://www.youtube.com/watch?v={yt_id}'\n",
    "                    for yt_id in list(unused_yt_ids)\n",
    "                    if yt_id is not None and yt_id != \"\"\n",
    "                ]))\n",
    "    # Search Next Batch\n",
    "    print(\"\") # Just New Line for Better Output\n",
    "    print(f'...Searching [{len(yt_list.videos)} Total Video]...')\n",
    "    yt_list.get_next_results()\n",
    "    yt_videos_len = len(yt_list.videos)\n",
    "    # Stop If No More Videos Found\n",
    "    if yt_videos_len > last_yt_videos_len:\n",
    "        last_yt_videos_len = yt_videos_len\n",
    "        continue\n",
    "    print(\"\") # Just New Line for Better Output\n",
    "    print(\"No More Videos Found\")\n",
    "    break"
   ]
  },
  {
   "cell_type": "code",
   "execution_count": null,
   "id": "f261ca71-e350-4899-999f-f908301caaac",
   "metadata": {},
   "outputs": [],
   "source": []
  }
 ],
 "metadata": {
  "kernelspec": {
   "display_name": "Python 3 (ipykernel)",
   "language": "python",
   "name": "python3"
  },
  "language_info": {
   "codemirror_mode": {
    "name": "ipython",
    "version": 3
   },
   "file_extension": ".py",
   "mimetype": "text/x-python",
   "name": "python",
   "nbconvert_exporter": "python",
   "pygments_lexer": "ipython3",
   "version": "3.11.0"
  }
 },
 "nbformat": 4,
 "nbformat_minor": 5
}
