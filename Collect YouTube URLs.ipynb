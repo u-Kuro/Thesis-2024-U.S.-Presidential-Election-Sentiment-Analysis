{
 "cells": [
  {
   "cell_type": "code",
   "execution_count": 9,
   "id": "a247f8fc-2fc8-4c14-937c-0b242c5c77a8",
   "metadata": {},
   "outputs": [],
   "source": [
    "# Import Dependencies\n",
    "import os, re, time\n",
    "import pandas as pd\n",
    "from pytubefix.contrib.search import Search, Filter\n",
    "from pytubefix.innertube import _default_clients\n",
    "from IPython.display import HTML, IFrame, display, clear_output"
   ]
  },
  {
   "cell_type": "code",
   "execution_count": 2,
   "id": "52a6d1ee-e73a-4a15-ad8c-dd967690892a",
   "metadata": {
    "jupyter": {
     "source_hidden": true
    }
   },
   "outputs": [],
   "source": [
    "def read_unique_items_from_file(file: str) -> list:\n",
    "    if os.path.exists(file):\n",
    "        with open(file, \"r\") as f:\n",
    "            return list(set(url.strip() for url in f.readlines() if url.strip()))\n",
    "    return []\n",
    "def read_dict_from_csv(file: str, key: str = \"URL\", value: str = \"Title\") -> dict:\n",
    "    if os.path.exists(file):\n",
    "        return pd.read_csv(file, encoding_errors=\"ignore\").set_index(key)[value].to_dict()\n",
    "    return {}\n",
    "def ask_user(prompt: str) -> bool:\n",
    "    while True:\n",
    "        answer = input(prompt).lower()\n",
    "        if (\"yes\").startswith(answer.lower()):\n",
    "            return True\n",
    "        elif (\"no\").startswith(answer.lower()):\n",
    "            return False\n",
    "def display_video(url: str):\n",
    "    display(IFrame(url, width=490, height=275, extras=[\"controls\", \"autoplay\", 'allow=\"autoplay\"']))\n",
    "def get_yt_id(url: str):\n",
    "    # Find the part after the '?' (query parameters)\n",
    "    if '?' in url: query_string = url.split('?')[-1]\n",
    "    else: return None\n",
    "    # Split the query parameters by '&'\n",
    "    params = query_string.split('&')\n",
    "    # Find the parameter by name\n",
    "    for param in params:\n",
    "        key, value = param.split('=')\n",
    "        if key == \"v\": return value\n",
    "    return None"
   ]
  },
  {
   "cell_type": "code",
   "execution_count": 3,
   "id": "0b87c2b6-0636-4db0-a2c3-5fa6a68c4701",
   "metadata": {
    "scrolled": true
   },
   "outputs": [],
   "source": [
    "# Folder Name\n",
    "output_path = \"YouTube URL Collection\"\n",
    "# File Name\n",
    "used_urls_filename = \"Used URLs.csv\"\n",
    "unused_urls_filename = \"Unused URLs.txt\"\n",
    "# Boolean Flag\n",
    "authorize_yt = True # Change to true if YouTube Detects you as a BOT\n",
    "hide_description = False\n",
    "# Numeric Constant\n",
    "max_description_height = 70\n",
    "# Additional Dependency Configurations\n",
    "_default_clients[\"ANDROID_MUSIC\"] = _default_clients[\"ANDROID_CREATOR\"]\n",
    "# Print Colors\n",
    "class pcolors:\n",
    "    ENDC = \"\\033[0m\"\n",
    "    BRIGHTCYAN = \"\\033[38;2;67;227;235m\""
   ]
  },
  {
   "cell_type": "code",
   "execution_count": null,
   "id": "9c507b30-95f3-4229-a89a-b50b4127f110",
   "metadata": {},
   "outputs": [
    {
     "data": {
      "text/html": [
       "\n",
       "        <iframe\n",
       "            width=\"490\"\n",
       "            height=\"275\"\n",
       "            src=\"https://www.youtube.com/embed/g6maCsFI1x8?autoplay=1\"\n",
       "            frameborder=\"0\"\n",
       "            allowfullscreen\n",
       "            controls autoplay allow=\"autoplay\"\n",
       "        ></iframe>\n",
       "        "
      ],
      "text/plain": [
       "<IPython.lib.display.IFrame at 0x1ba8c8b4cd0>"
      ]
     },
     "metadata": {},
     "output_type": "display_data"
    },
    {
     "name": "stdout",
     "output_type": "stream",
     "text": [
      "\n",
      "Title: \u001b[38;2;67;227;235mHarrisburg, PA | A Tour of the Capital City\u001b[0m\n",
      "\n"
     ]
    },
    {
     "data": {
      "text/html": [
       "<div style=\"max-height:70px;overflow-y:scroll;border-bottom:1px solid #4c4c4c;padding: 0px 8px; color:rgb(67,227,235);font-family: menlo, consolas, 'DejaVu Sans Mono', monospace\">On this cold winter day, we take a tour of the Capitol city of Harrisburg & the community of Hershey. Harrisburg was the mid-point for the Pennsylvania cities where all the materials met to be redistributed everywhere else. Its the Capitol because of the ideal location which made it the center of the state. In this tour we experience a frozen Susquehanna, a couple of days after the Nor'easter winter storm. Then we take a further look at the capitol building and journey around town to Midtown Scholar Bookstore and Broad Street Market. We finish our tour in Hershey and Chocolate world, to get a delicious look at Hershey's history. I'll see you on tour!<br/><br/>For more information about Harrisburg & Hershey, PA, please see the links below: <br/>[HARRISBURG]<br/>https://www.u-s-history.com/pages/h2088.html<br/><br/>[HERSHEY]<br/>https://www.hersheypa.com/about-hershey/history/index.php<br/><br/>#joseontour #traveldocumentary #harrisburgpa<br/>----------------------------------------------------------------------------------------------------------------<br/>[CHAPTERS]<br/>00:00 – Front Street<br/>02:19 - Susquehanna River<br/>03:23 - Walnut Street Bridge <br/>04:30 - State Capitol Building<br/>06:07 - Midtown Scholars Bookstore<br/>06:28 - Broad Street Market<br/>07:09 - Hershey, PA<br/>08:16 - Hershey Chocolate World<br/>10:02 - Touring Hershey<br/><br/>----------------------------------------------------------------------------------------------------------------<br/>[LET'S CONNECT]<br/>- https://www.joseontour.com/<br/>- Facebook: https://www.facebook.com/joseontour<br/>- Instagram: https://www.instagram.com/joseontour<br/>- Twitter: https://twitter.com/joseisontour<br/>----------------------------------------------------------------------------------------------------------------<br/>If you like what you have seen here and are interested in future travels please subscribe, give a thumbs up, and share with friends and family.<br/><br/>- Music by Epidemic Sounds.<br/>----------------------------------------------------------------------------------------------------------------<br/>#ontourexploring #hershey #explorer #travel #pennsylvania #uscapital #pennsylvaniacapital<br/><br/>----------------------------------------------------------------------------------------------------------------<br/>***Disclosures: The views and opinions discussed in this video are of my own. This video has no sponsorship or affiliation with any of the aforementioned links, people, places, or things. All footage, edits, and dialogue created by myself. Thank you</div>"
      ],
      "text/plain": [
       "<IPython.core.display.HTML object>"
      ]
     },
     "metadata": {},
     "output_type": "display_data"
    },
    {
     "name": "stdout",
     "output_type": "stream",
     "text": [
      "\n",
      "Publish Year: \u001b[38;2;67;227;235m2021\u001b[0m\n",
      "\n",
      "URL If Video Failed To Load: https://youtube.com/watch?v=g6maCsFI1x8\n",
      "\n"
     ]
    }
   ],
   "source": [
    "# Get Existing YouTube Ids\n",
    "used_yt_dict = {\n",
    "    get_yt_id(url): title\n",
    "    for url, title in read_dict_from_csv(os.path.join(output_path, used_urls_filename)).items()\n",
    "    if get_yt_id(url) is not None and get_yt_id(url) != \"\"\n",
    "}\n",
    "unused_yt_ids = set([\n",
    "    get_yt_id(url)\n",
    "    for url in read_unique_items_from_file(os.path.join(output_path, unused_urls_filename))\n",
    "    if get_yt_id(url) is not None and get_yt_id(url) != \"\"\n",
    "])\n",
    "# YouTube Search Query\n",
    "search_query = re.sub(r'\\s+', \" \", \"\"\"\n",
    "    \n",
    "    -trump -donald kamala harris \n",
    "    pennsylvania Philadelphia Pittsburgh Allentown\n",
    "    \n",
    "\"\"\".replace(\"\\n\", \" \")).strip()\n",
    "# Required/Prohibited Keywords (Uncased)\n",
    "required_uncased_keywords_in_title = [\n",
    "    # if no words here is in title, it is skipped\n",
    "    \"harris\", \"kamala\"\n",
    "] \n",
    "required_uncased_keywords_in_title_or_desc = [\n",
    "    # if no words here is in title and description, it is skipped\n",
    "    \"pennsylvania\"\n",
    "] \n",
    "prohibited_uncased_keywords_in_title = [\n",
    "    # if any word here is in title, it is skipped\n",
    "    \"trump\", \"donald\"\n",
    "] \n",
    "# YouTube Filters\n",
    "yt_filters = { \n",
    "    \"type\": Filter.get_type(\"Video\"),\n",
    "    # Under 4 minutes | 4 - 20 minutes | Over 20 minutes\n",
    "    \"duration\": Filter.get_duration(\"4 - 20 minutes\") \n",
    "}\n",
    "# Search YouTube Videos\n",
    "print(f'...Searching...')\n",
    "yt_list = Search(\n",
    "    query=search_query,\n",
    "    filters=yt_filters,\n",
    "    use_oauth=authorize_yt,\n",
    "    allow_oauth_cache=authorize_yt\n",
    ")\n",
    "last_yt_videos_len = len(yt_list.videos)\n",
    "# Loop To Search Per Batch\n",
    "while True:\n",
    "    for yt in yt_list.videos:\n",
    "        url = yt.watch_url.strip()\n",
    "        title = yt.title\n",
    "        description = yt.description\n",
    "        video_id = get_yt_id(url)\n",
    "        # Check If Video / Url Already Seen\n",
    "        if (\n",
    "            title is None or title == \"\"\n",
    "            or video_id is None or video_id == \"\"\n",
    "            or video_id in used_yt_dict\n",
    "            or video_id in unused_yt_ids\n",
    "            or any(key in title.lower() for key in prohibited_uncased_keywords_in_title)\n",
    "            or (len(required_uncased_keywords_in_title) > 0 and all(key not in title.lower() for key in required_uncased_keywords_in_title))\n",
    "            or ((len(required_uncased_keywords_in_title_or_desc) > 0 and all(\n",
    "                    key not in title.lower() and (description is None or key not in description.lower())\n",
    "                    for key in required_uncased_keywords_in_title_or_desc\n",
    "                ))\n",
    "                and \" P.A. \" not in f' {title} '\n",
    "                and \" P.A. \" not in f' {description} '\n",
    "                and \" PA \" not in f' {title} '\n",
    "                and \" PA \" not in f' {description} '\n",
    "            )\n",
    "        ): continue\n",
    "        # Check If Year > 2020\n",
    "        publish_date = yt.publish_date\n",
    "        if publish_date != None and publish_date.year <= 2020: continue\n",
    "        # Reset Output Console\n",
    "        clear_output(wait=True)\n",
    "        # Display the Vid\n",
    "        display_video(f'{yt.embed_url}?autoplay=1')\n",
    "        print(\"\") # Just New Line for Better Output\n",
    "        print(f'Title: {pcolors.BRIGHTCYAN}{title}{pcolors.ENDC}')\n",
    "        print(\"\") # Just New Line for Better Output\n",
    "        if not hide_description and description is not None and description != \"\":\n",
    "            html_description = description.replace(\"\\n\", \"<br/>\")\n",
    "            display(HTML(f\"\"\"<div style=\"max-height:{max_description_height}px;overflow-y:scroll;border-bottom:1px solid #4c4c4c;padding: 0px 8px; color:rgb(67,227,235);font-family: menlo, consolas, 'DejaVu Sans Mono', monospace\">{html_description}</div>\"\"\"))\n",
    "            print(\"\") # Just New Line for Better Output\n",
    "        print(f'Publish Year: {pcolors.BRIGHTCYAN}{yt.publish_date.year if yt.publish_date != None else \"None\"}{pcolors.ENDC}')\n",
    "        print(\"\") # Just New Line for Better Output\n",
    "        print(f'URL If Video Failed To Load: {url}')\n",
    "        print(\"\") # Just New Line for Better Output\n",
    "        if ask_user(\"Do you want to add this Video URL (y/n)?\"): \n",
    "            # Create Collection Directory\n",
    "            os.makedirs(output_path, exist_ok=True)\n",
    "            used_yt_dict[video_id] = title\n",
    "            (\n",
    "                pd.DataFrame(list(({\n",
    "                    f'https://www.youtube.com/watch?v={yt_id}': title\n",
    "                    for yt_id, title in used_yt_dict.items()\n",
    "                    if yt_id is not None and yt_id != \"\"\n",
    "                }).items()), columns=[\"URL\", \"Title\"])\n",
    "                .to_csv(os.path.join(output_path, used_urls_filename), index=False, errors=\"ignore\")\n",
    "            )\n",
    "        else:\n",
    "            # Create Collection Directory\n",
    "            os.makedirs(output_path, exist_ok=True)\n",
    "            with open(os.path.join(output_path, unused_urls_filename), \"w\") as file:\n",
    "                unused_yt_ids.add(video_id)\n",
    "                file.write(\"\\n\".join([\n",
    "                    f'https://www.youtube.com/watch?v={yt_id}'\n",
    "                    for yt_id in list(unused_yt_ids)\n",
    "                    if yt_id is not None and yt_id != \"\"\n",
    "                ]))\n",
    "    # Search Next Batch\n",
    "    print(\"\") # Just New Line for Better Output\n",
    "    print(f'...Searching [{len(yt_list.videos)} Total Video]...')\n",
    "    time.sleep(1)\n",
    "    yt_list.get_next_results()\n",
    "    yt_videos_len = len(yt_list.videos)\n",
    "    # Stop If No More Videos Found\n",
    "    if yt_videos_len > last_yt_videos_len:\n",
    "        last_yt_videos_len = yt_videos_len\n",
    "        continue\n",
    "    clear_output(wait=True)\n",
    "    print(\"No More Videos Found\")\n",
    "    break"
   ]
  },
  {
   "cell_type": "code",
   "execution_count": null,
   "id": "f261ca71-e350-4899-999f-f908301caaac",
   "metadata": {},
   "outputs": [],
   "source": []
  }
 ],
 "metadata": {
  "kernelspec": {
   "display_name": "Python 3 (ipykernel)",
   "language": "python",
   "name": "python3"
  },
  "language_info": {
   "codemirror_mode": {
    "name": "ipython",
    "version": 3
   },
   "file_extension": ".py",
   "mimetype": "text/x-python",
   "name": "python",
   "nbconvert_exporter": "python",
   "pygments_lexer": "ipython3",
   "version": "3.11.0"
  }
 },
 "nbformat": 4,
 "nbformat_minor": 5
}
