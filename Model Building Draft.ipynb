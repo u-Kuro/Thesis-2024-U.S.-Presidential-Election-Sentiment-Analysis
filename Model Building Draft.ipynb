{
 "cells": [
  {
   "cell_type": "code",
   "execution_count": 21,
   "id": "39484717-540e-48c1-8b54-60ffaf3bb002",
   "metadata": {},
   "outputs": [],
   "source": [
    "import torch\n",
    "from transformers import BertTokenizer, BertForSequenceClassification, AdamW\n",
    "from torch.utils.data import DataLoader\n",
    "from sklearn.model_selection import train_test_split\n",
    "import pandas as pd\n",
    "import numpy as np\n",
    "from torch.nn import CrossEntropyLoss\n",
    "from tqdm import tqdm\n",
    "\n",
    "sentence_column_name = \"Sentence\"\n",
    "sentiment_column_name = \"Final_Sent\""
   ]
  },
  {
   "cell_type": "code",
   "execution_count": 22,
   "id": "e7d44a28-45b8-4861-aaf4-ab59aea16159",
   "metadata": {},
   "outputs": [
    {
     "data": {
      "text/plain": [
       "(                                               Sentence  \\\n",
       " 1292  As the Democratic National Convention approach...   \n",
       " 2200                    He's like fighter, fighter man.   \n",
       " 2780  Donald Trump over performed by almost 5% accor...   \n",
       " 2960  If Kamala wants my vote, I want her to take a ...   \n",
       " 2870  Around 80% of the African Americans here in Mi...   \n",
       " ...                                                 ...   \n",
       " 2748     If Michigan goes to Donald Trump, he will win.   \n",
       " 636   And Harris's ability to appeal to them could p...   \n",
       " 861   Donald Trump, on the other hand, in a town hal...   \n",
       " 1763  You see Obama won Eaton County twice so did Tr...   \n",
       " 1177  It's all there publicly, but Donald Trump's go...   \n",
       " \n",
       "      Presidential_Candidate         State  Vote_1  Vote_2  Final_Sent  \n",
       " 1292          Kamala Harris  Pennsylvania       1       1           1  \n",
       " 2200           Donald Trump      Michigan       1       1           1  \n",
       " 2780           Donald Trump      Michigan       1       0           1  \n",
       " 2960          Kamala Harris      Michigan       0      -1           0  \n",
       " 2870           Donald Trump      Michigan      -1      -1          -1  \n",
       " ...                     ...           ...     ...     ...         ...  \n",
       " 2748           Donald Trump      Michigan       1       1           1  \n",
       " 636           Kamala Harris  Pennsylvania       1       1           1  \n",
       " 861            Donald Trump  Pennsylvania       0       1           0  \n",
       " 1763           Donald Trump      Michigan       1       1           1  \n",
       " 1177           Donald Trump  Pennsylvania      -1       0          -1  \n",
       " \n",
       " [2646 rows x 6 columns],\n",
       "                                                Sentence  \\\n",
       " 1638                                 She's a communist.   \n",
       " 2174  There was he was never going to get over forty...   \n",
       " 2209  And now the Trump campaign is practically maki...   \n",
       " 3487  The other thing you hear, at least for some of...   \n",
       " 304   More of these said groups are going to move, s...   \n",
       " ...                                                 ...   \n",
       " 1410  Now, after their Pennsylvania debut, Harris an...   \n",
       " 2796                           He insulted a lot of us.   \n",
       " 497   Ever, and he sees Kamala Harris as more libera...   \n",
       " 3612  She's got receipts on the issues that matter t...   \n",
       " 2793  Obviously, there's context and different facto...   \n",
       " \n",
       "      Presidential_Candidate         State  Vote_1  Vote_2  Final_Sent  \n",
       " 1638          Kamala Harris  Pennsylvania      -1       0          -1  \n",
       " 2174           Donald Trump      Michigan      -1       0          -1  \n",
       " 2209           Donald Trump      Michigan       1       0           1  \n",
       " 3487          Kamala Harris      Michigan       1       1           1  \n",
       " 304           Kamala Harris  Pennsylvania       1       1           1  \n",
       " ...                     ...           ...     ...     ...         ...  \n",
       " 1410          Kamala Harris  Pennsylvania       0      -1           0  \n",
       " 2796           Donald Trump      Michigan      -1      -1          -1  \n",
       " 497           Kamala Harris  Pennsylvania       0       1           0  \n",
       " 3612          Kamala Harris      Michigan       1       0           1  \n",
       " 2793           Donald Trump      Michigan       1      -1           1  \n",
       " \n",
       " [378 rows x 6 columns],\n",
       "                                                Sentence  \\\n",
       " 838   The Harris Waltz campaign is doing a Labor Day...   \n",
       " 2615  Do you think he's going to win the state of Mi...   \n",
       " 871   This energy and your black filling, look at th...   \n",
       " 2802      Hey hey, ho ho, harrison Trump has got to go.   \n",
       " 1188  She rallied voters in Erie, telling the crowd ...   \n",
       " ...                                                 ...   \n",
       " 3502    She says she's not different from Biden at all.   \n",
       " 1426             She does seem to be an outside figure.   \n",
       " 1765  I know Trump went down some very seemingly rid...   \n",
       " 108   It's crazy, he was probably waiting outside Wh...   \n",
       " 3326  Kamala has tried to reassure this aspect of th...   \n",
       " \n",
       "      Presidential_Candidate         State  Vote_1  Vote_2  Final_Sent  \n",
       " 838           Kamala Harris  Pennsylvania       0       1           0  \n",
       " 2615           Donald Trump      Michigan       0       1           0  \n",
       " 871            Donald Trump  Pennsylvania       1       1           1  \n",
       " 2802           Donald Trump      Michigan      -1       0          -1  \n",
       " 1188          Kamala Harris  Pennsylvania       0       1           0  \n",
       " ...                     ...           ...     ...     ...         ...  \n",
       " 3502          Kamala Harris      Michigan      -1       0          -1  \n",
       " 1426          Kamala Harris  Pennsylvania       1       0           0  \n",
       " 1765           Donald Trump      Michigan      -1      -1          -1  \n",
       " 108            Donald Trump  Pennsylvania      -1       1           1  \n",
       " 3326          Kamala Harris      Michigan       0       1           0  \n",
       " \n",
       " [756 rows x 6 columns])"
      ]
     },
     "execution_count": 22,
     "metadata": {},
     "output_type": "execute_result"
    }
   ],
   "source": [
    "# 1. Data Loading and Splitting\n",
    "# Load the CSV file containing the sentiment data\n",
    "df = pd.read_csv('annotated_dataset.csv')\n",
    "# Split data into 80% training+validation and 20% test\n",
    "remaining, test = train_test_split(df, test_size=0.2, random_state=42)\n",
    "# Split the remaining 80% into 70% training and 10% validation (0.125 of 80% = 10% overall)\n",
    "train, val = train_test_split(remaining, test_size=0.125, random_state=42)\n",
    "\n",
    "train, val, test"
   ]
  },
  {
   "cell_type": "code",
   "execution_count": 9,
   "id": "e93974fb-7a73-40ce-86f1-ec6a718ef6aa",
   "metadata": {},
   "outputs": [
    {
     "data": {
      "text/plain": [
       "('Class weights: ', tensor([1.0569, 1.0804, 0.8626]))"
      ]
     },
     "execution_count": 9,
     "metadata": {},
     "output_type": "execute_result"
    }
   ],
   "source": [
    "# Function to calculate weights for each class to handle class imbalance\n",
    "def compute_class_weights(labels):\n",
    "    # Map -1, 0, 1 to 0, 1, 2 for bincount\n",
    "    mapped_labels = labels + 1  # This shifts -1->0, 0->1, 1->2\n",
    "    # Count number of samples in each class\n",
    "    class_counts = np.bincount(mapped_labels)\n",
    "    # Calculate inverse of frequency (rare classes get higher weights)\n",
    "    weights = 1. / class_counts\n",
    "    # Normalize weights to sum to number of classes\n",
    "    weights = weights * len(class_counts) / weights.sum()\n",
    "    return torch.FloatTensor(weights)\n",
    "\n",
    "# Calculate class weights from training data\n",
    "class_weights = compute_class_weights(train[sentiment_column_name].values)\n",
    "\n",
    "\"Class weights: \", class_weights"
   ]
  },
  {
   "cell_type": "code",
   "execution_count": 11,
   "id": "7600b85e-caa5-4e9d-b859-eeb947322b4d",
   "metadata": {},
   "outputs": [
    {
     "name": "stderr",
     "output_type": "stream",
     "text": [
      "Some weights of BertForSequenceClassification were not initialized from the model checkpoint at bert-base-uncased and are newly initialized: ['classifier.bias', 'classifier.weight']\n",
      "You should probably TRAIN this model on a down-stream task to be able to use it for predictions and inference.\n",
      "Some weights of BertWithWeightedLoss were not initialized from the model checkpoint at bert-base-uncased and are newly initialized: ['classifier.bias', 'classifier.weight']\n",
      "You should probably TRAIN this model on a down-stream task to be able to use it for predictions and inference.\n"
     ]
    },
    {
     "data": {
      "text/plain": [
       "BertTokenizer(name_or_path='bert-base-uncased', vocab_size=30522, model_max_length=512, is_fast=False, padding_side='right', truncation_side='right', special_tokens={'unk_token': '[UNK]', 'sep_token': '[SEP]', 'pad_token': '[PAD]', 'cls_token': '[CLS]', 'mask_token': '[MASK]'}, clean_up_tokenization_spaces=True, added_tokens_decoder={\n",
       "\t0: AddedToken(\"[PAD]\", rstrip=False, lstrip=False, single_word=False, normalized=False, special=True),\n",
       "\t100: AddedToken(\"[UNK]\", rstrip=False, lstrip=False, single_word=False, normalized=False, special=True),\n",
       "\t101: AddedToken(\"[CLS]\", rstrip=False, lstrip=False, single_word=False, normalized=False, special=True),\n",
       "\t102: AddedToken(\"[SEP]\", rstrip=False, lstrip=False, single_word=False, normalized=False, special=True),\n",
       "\t103: AddedToken(\"[MASK]\", rstrip=False, lstrip=False, single_word=False, normalized=False, special=True),\n",
       "}\n",
       ")"
      ]
     },
     "execution_count": 11,
     "metadata": {},
     "output_type": "execute_result"
    }
   ],
   "source": [
    "# 2. Model Initialization\n",
    "# Check if GPU is available, otherwise use CPU\n",
    "device = torch.device('cuda' if torch.cuda.is_available() else 'cpu')\n",
    "# Move class weights to the same device as the model\n",
    "class_weights = class_weights.to(device)\n",
    "# Specify which BERT model to use\n",
    "model_name = 'bert-base-uncased'\n",
    "\n",
    "# Custom BERT class that implements weighted loss\n",
    "class BertWithWeightedLoss(BertForSequenceClassification):\n",
    "    def __init__(self, config, class_weights):\n",
    "        super().__init__(config)\n",
    "        self.class_weights = class_weights  # Store class weights for loss calculation\n",
    "    \n",
    "    def forward(self, input_ids, attention_mask=None, labels=None):\n",
    "        # Get model outputs without computing loss\n",
    "        outputs = super().forward(\n",
    "            input_ids=input_ids,\n",
    "            attention_mask=attention_mask,\n",
    "            labels=None  # Set to None to prevent automatic loss calculation\n",
    "        )\n",
    "        \n",
    "        # Calculate weighted loss if labels are provided (training phase)\n",
    "        if labels is not None:\n",
    "            # Create loss function with class weights\n",
    "            loss_fct = CrossEntropyLoss(weight=self.class_weights)\n",
    "            # Calculate loss using model predictions and true labels\n",
    "            loss = loss_fct(\n",
    "                outputs.logits.view(-1, self.num_labels),  # Reshape predictions\n",
    "                labels.view(-1)                            # Reshape labels\n",
    "            )\n",
    "            outputs.loss = loss  # Add loss to outputs\n",
    "        \n",
    "        return outputs\n",
    "\n",
    "# Initialize the custom BERT model\n",
    "model = BertWithWeightedLoss.from_pretrained(\n",
    "    model_name,\n",
    "    # Configure BERT for binary classification\n",
    "    config=BertForSequenceClassification.from_pretrained(\n",
    "        model_name,\n",
    "        num_labels=3,\n",
    "        output_attentions=False,  # Don't output attention weights\n",
    "        output_hidden_states=False,  # Don't output hidden states\n",
    "    ).config,\n",
    "    class_weights=class_weights\n",
    ")\n",
    "# Move model to GPU if available\n",
    "model.to(device)\n",
    "\n",
    "# Initialize tokenizer for processing text\n",
    "tokenizer = BertTokenizer.from_pretrained(model_name)\n",
    "\n",
    "tokenizer"
   ]
  },
  {
   "cell_type": "code",
   "execution_count": 17,
   "id": "23db9c1e-d3f0-454f-88ec-7ac1e2faf2dd",
   "metadata": {},
   "outputs": [
    {
     "data": {
      "text/plain": [
       "<torch.utils.data.dataloader.DataLoader at 0x22f13652250>"
      ]
     },
     "execution_count": 17,
     "metadata": {},
     "output_type": "execute_result"
    }
   ],
   "source": [
    "# 3. Data Preparation\n",
    "# Convert text to BERT input format\n",
    "train_encodings = tokenizer(\n",
    "    train[sentence_column_name].tolist(),  # Convert sentences to list\n",
    "    truncation=True,  # Cut texts longer than max_length\n",
    "    padding=True,  # Pad texts shorter than max_length\n",
    "    max_length=128,  # Maximum sequence length\n",
    "    return_tensors='pt'  # Return PyTorch tensors\n",
    ")\n",
    "\n",
    "# Create dataset combining inputs and labels\n",
    "train_dataset = torch.utils.data.TensorDataset(\n",
    "    train_encodings['input_ids'],  # Tokenized text\n",
    "    train_encodings['attention_mask'],  # Attention mask for padding\n",
    "    torch.tensor(train[sentiment_column_name].tolist())  # Labels\n",
    ")\n",
    "\n",
    "# Create data loader for batching\n",
    "train_loader = DataLoader(train_dataset, batch_size=16, shuffle=True)\n",
    "\n",
    "train_loader"
   ]
  },
  {
   "cell_type": "code",
   "execution_count": 23,
   "id": "7ac142ee-4a38-4583-ad79-e2bb8fcebc07",
   "metadata": {},
   "outputs": [
    {
     "name": "stderr",
     "output_type": "stream",
     "text": [
      "C:\\Users\\MSI Laptop\\AppData\\Local\\Programs\\Python\\Python311\\Lib\\site-packages\\transformers\\optimization.py:591: FutureWarning: This implementation of AdamW is deprecated and will be removed in a future version. Use the PyTorch implementation torch.optim.AdamW instead, or set `no_deprecation_warning=True` to disable this warning\n",
      "  warnings.warn(\n",
      "                                                                                                                       "
     ]
    },
    {
     "name": "stdout",
     "output_type": "stream",
     "text": [
      "Epoch 1, Average training loss: 0.6814\n"
     ]
    },
    {
     "name": "stderr",
     "output_type": "stream",
     "text": [
      "                                                                                                                       "
     ]
    },
    {
     "name": "stdout",
     "output_type": "stream",
     "text": [
      "Epoch 2, Average training loss: 0.4427\n"
     ]
    },
    {
     "name": "stderr",
     "output_type": "stream",
     "text": [
      "                                                                                                                       "
     ]
    },
    {
     "name": "stdout",
     "output_type": "stream",
     "text": [
      "Epoch 3, Average training loss: 0.2447\n"
     ]
    },
    {
     "name": "stderr",
     "output_type": "stream",
     "text": []
    },
    {
     "data": {
      "text/plain": [
       "BertWithWeightedLoss(\n",
       "  (bert): BertModel(\n",
       "    (embeddings): BertEmbeddings(\n",
       "      (word_embeddings): Embedding(30522, 768, padding_idx=0)\n",
       "      (position_embeddings): Embedding(512, 768)\n",
       "      (token_type_embeddings): Embedding(2, 768)\n",
       "      (LayerNorm): LayerNorm((768,), eps=1e-12, elementwise_affine=True)\n",
       "      (dropout): Dropout(p=0.1, inplace=False)\n",
       "    )\n",
       "    (encoder): BertEncoder(\n",
       "      (layer): ModuleList(\n",
       "        (0-11): 12 x BertLayer(\n",
       "          (attention): BertAttention(\n",
       "            (self): BertSdpaSelfAttention(\n",
       "              (query): Linear(in_features=768, out_features=768, bias=True)\n",
       "              (key): Linear(in_features=768, out_features=768, bias=True)\n",
       "              (value): Linear(in_features=768, out_features=768, bias=True)\n",
       "              (dropout): Dropout(p=0.1, inplace=False)\n",
       "            )\n",
       "            (output): BertSelfOutput(\n",
       "              (dense): Linear(in_features=768, out_features=768, bias=True)\n",
       "              (LayerNorm): LayerNorm((768,), eps=1e-12, elementwise_affine=True)\n",
       "              (dropout): Dropout(p=0.1, inplace=False)\n",
       "            )\n",
       "          )\n",
       "          (intermediate): BertIntermediate(\n",
       "            (dense): Linear(in_features=768, out_features=3072, bias=True)\n",
       "            (intermediate_act_fn): GELUActivation()\n",
       "          )\n",
       "          (output): BertOutput(\n",
       "            (dense): Linear(in_features=3072, out_features=768, bias=True)\n",
       "            (LayerNorm): LayerNorm((768,), eps=1e-12, elementwise_affine=True)\n",
       "            (dropout): Dropout(p=0.1, inplace=False)\n",
       "          )\n",
       "        )\n",
       "      )\n",
       "    )\n",
       "    (pooler): BertPooler(\n",
       "      (dense): Linear(in_features=768, out_features=768, bias=True)\n",
       "      (activation): Tanh()\n",
       "    )\n",
       "  )\n",
       "  (dropout): Dropout(p=0.1, inplace=False)\n",
       "  (classifier): Linear(in_features=768, out_features=3, bias=True)\n",
       ")"
      ]
     },
     "execution_count": 23,
     "metadata": {},
     "output_type": "execute_result"
    }
   ],
   "source": [
    "# 4. Training Function\n",
    "def train_model(model, train_loader, val_loader=None, epochs=3, learning_rate=2e-5):\n",
    "    # Initialize optimizer\n",
    "    optimizer = AdamW(model.parameters(), lr=learning_rate)\n",
    "    best_val_loss = float('inf')  # Track best validation loss\n",
    "    \n",
    "    # Training loop\n",
    "    for epoch in range(epochs):\n",
    "        model.train()  # Set model to training mode\n",
    "        total_loss = 0\n",
    "\n",
    "        # Wrap the training loader with tqdm to display progress\n",
    "        pbar = tqdm(train_loader, desc=f\"Epoch {epoch + 1} Training\", leave=False)        \n",
    "        # Process each batch\n",
    "        for batch in pbar:\n",
    "            # Move batch to GPU if available\n",
    "            input_ids, attention_mask, labels = [b.to(device) for b in batch]\n",
    "\n",
    "            # Remap labels from [-1, 0, 1] to [0, 1, 2]\n",
    "            labels = labels + 1  # This shifts all labels by 1\n",
    "            \n",
    "            optimizer.zero_grad()  # Clear previous gradients\n",
    "            # Forward pass\n",
    "            outputs = model(\n",
    "                input_ids=input_ids,\n",
    "                attention_mask=attention_mask,\n",
    "                labels=labels\n",
    "            )\n",
    "            \n",
    "            loss = outputs.loss\n",
    "            total_loss += loss.item()  # Accumulate loss\n",
    "            \n",
    "            loss.backward()  # Backward pass\n",
    "            optimizer.step()  # Update weights\n",
    "\n",
    "            # Update tqdm description with current loss if desired\n",
    "            pbar.set_postfix(loss=loss.item())\n",
    "        \n",
    "        # Calculate average loss for epoch\n",
    "        avg_train_loss = total_loss / len(train_loader)\n",
    "        print(f'Epoch {epoch + 1}, Average training loss: {avg_train_loss:.4f}')\n",
    "        \n",
    "        # Validation phase\n",
    "        if val_loader is not None:\n",
    "            model.eval()  # Set model to evaluation mode\n",
    "            val_loss = 0\n",
    "            correct = 0\n",
    "            total = 0\n",
    "\n",
    "            # Wrap the validation loop with tqdm:\n",
    "            val_pbar = tqdm(val_loader, desc=f\"Epoch {epoch + 1} Validation\", leave=False)\n",
    "            # No gradient computation needed for validation\n",
    "            with torch.no_grad():\n",
    "                for batch in val_pbar:\n",
    "                    input_ids, attention_mask, labels = [b.to(device) for b in batch]\n",
    "                    outputs = model(input_ids, attention_mask, labels)\n",
    "                    val_loss += outputs.loss.item()\n",
    "                    \n",
    "                    # Calculate accuracy\n",
    "                    _, predicted = torch.max(outputs.logits, 1)\n",
    "                    total += labels.size(0)\n",
    "                    correct += (predicted == labels).sum().item()\n",
    "\n",
    "                    val_pbar.set_postfix(loss=outputs.loss.item())\n",
    "            \n",
    "            # Calculate validation metrics\n",
    "            avg_val_loss = val_loss / len(val_loader)\n",
    "            accuracy = correct / total\n",
    "            print(f'Validation loss: {avg_val_loss:.4f}, Accuracy: {accuracy:.4f}')\n",
    "            \n",
    "            # Save model if it's the best so far\n",
    "            if avg_val_loss < best_val_loss:\n",
    "                best_val_loss = avg_val_loss\n",
    "                model_path = 'sentiment_bert_model'\n",
    "                model.save_pretrained(model_path)\n",
    "                tokenizer.save_pretrained(model_path)\n",
    "                print(f\"Saved model with validation loss: {avg_val_loss:.4f}\")\n",
    "    \n",
    "    return model\n",
    "\n",
    "model = train_model(model, train_loader)\n",
    "\n",
    "model"
   ]
  },
  {
   "cell_type": "code",
   "execution_count": 48,
   "id": "405c5b46-59a1-4689-a24f-eeb867d07bdb",
   "metadata": {},
   "outputs": [
    {
     "name": "stdout",
     "output_type": "stream",
     "text": [
      "Predicted class (-1, 0, 1): 1\n"
     ]
    }
   ],
   "source": []
  },
  {
   "cell_type": "code",
   "execution_count": null,
   "id": "ccd1744b-d103-420d-815b-ce00447c0e1f",
   "metadata": {},
   "outputs": [],
   "source": []
  }
 ],
 "metadata": {
  "kernelspec": {
   "display_name": "Python 3 (ipykernel)",
   "language": "python",
   "name": "python3"
  },
  "language_info": {
   "codemirror_mode": {
    "name": "ipython",
    "version": 3
   },
   "file_extension": ".py",
   "mimetype": "text/x-python",
   "name": "python",
   "nbconvert_exporter": "python",
   "pygments_lexer": "ipython3",
   "version": "3.11.0"
  }
 },
 "nbformat": 4,
 "nbformat_minor": 5
}
