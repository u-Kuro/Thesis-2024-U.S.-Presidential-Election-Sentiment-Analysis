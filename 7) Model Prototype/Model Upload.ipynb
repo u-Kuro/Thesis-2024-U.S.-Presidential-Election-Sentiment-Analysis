{
 "cells": [
  {
   "cell_type": "code",
   "execution_count": null,
   "id": "15053741-2466-41fa-b66c-e79b9b05d400",
   "metadata": {
    "tags": []
   },
   "outputs": [
    {
     "name": "stdout",
     "output_type": "stream",
     "text": [
      "Token is valid (permission: write).\n",
      "Your token has been saved in your configured git credential helpers (manager).\n",
      "Your token has been saved to C:\\Users\\MSI Laptop\\.cache\\huggingface\\token\n",
      "Login successful\n"
     ]
    }
   ],
   "source": [
    "import os\n",
    "import pandas as pd\n",
    "from huggingface_hub import HfApi, login\n",
    "login(\n",
    "    add_to_git_credential=True\n",
    ")"
   ]
  },
  {
   "cell_type": "code",
   "execution_count": 24,
   "id": "2a4a1378-7f5f-4866-931b-00dc31e8a3df",
   "metadata": {
    "tags": []
   },
   "outputs": [],
   "source": [
    "model_results_and_actual_data_folder_name = os.path.join(\"..\", \"5) BERT Based Models\", \"Model Results and Actual Data\")\n",
    "model_evaluation_results_folders = {\n",
    "    \"BERT\": [\"Hyperparameter-1\", \"Hyperparameter-2\", \"Hyperparameter-3\", \"Hyperparameter-4\"],\n",
    "    \"DistilBERT\": [\"Hyperparameter-1\", \"Hyperparameter-2\", \"Hyperparameter-3\", \"Hyperparameter-4\"]\n",
    "}\n",
    "model_repo_name = \"u-kuro/Thesis-2024-U.S.-Presidential-Election-Sentiment-Analysis\""
   ]
  },
  {
   "cell_type": "code",
   "execution_count": 25,
   "id": "e4139fcb-f82f-4b08-9011-b3e8abf0fa8d",
   "metadata": {
    "tags": []
   },
   "outputs": [],
   "source": [
    "# Define Function to Retrieve Saved Model\n",
    "def get_best_accuracy_model():\n",
    "    # Check best model accuracy\n",
    "    best_model_folder_path = None\n",
    "    best_model_accuracy = None\n",
    "    best_model_name = None\n",
    "    \n",
    "    for model_folder in model_evaluation_results_folders:\n",
    "\n",
    "        model_parameters = []\n",
    "        \n",
    "        for hyperparameter_folder in model_evaluation_results_folders[model_folder]:\n",
    "            folder_path = os.path.join(\n",
    "                model_results_and_actual_data_folder_name,\n",
    "                model_folder,\n",
    "                hyperparameter_folder\n",
    "            )\n",
    "            \n",
    "            # Find prediction files\n",
    "            unique_file_suffix = \" - Test Metric.csv\"\n",
    "            prediction_files = [f for f in os.listdir(folder_path) if f.endswith(unique_file_suffix)]\n",
    "            \n",
    "            if len(prediction_files) == 0:\n",
    "                raise Exception(f'Missing File with \"{unique_file_suffix}\" suffix in \"{folder_path}\"')\n",
    "            elif len(prediction_files) > 1:\n",
    "                raise Exception(f'File with \"{unique_file_suffix}\" suffix in \"{folder_path}\" is duplicated')\n",
    "                \n",
    "            # Get the prediction file\n",
    "            file = prediction_files[0]\n",
    "            file_path = os.path.join(folder_path, file)\n",
    "                \n",
    "            # Load data\n",
    "            df = pd.read_csv(file_path)\n",
    "            test_metrics = df.iloc[0].to_dict()\n",
    "\n",
    "            # Get accuracy\n",
    "            accuracy = test_metrics['accuracy']\n",
    "            if accuracy is None:\n",
    "                raise Exception(f'Missing Test Metric \"accuracy\" in \"{file_path}\"')\n",
    "            \n",
    "            if best_model_accuracy is None or accuracy > best_model_accuracy:\n",
    "                best_model_accuracy = accuracy\n",
    "                best_model_folder_path = folder_path\n",
    "                best_model_name = model_folder\n",
    "\n",
    "    # Get saved best model\n",
    "    unique_folder_suffix = \" - Model\"\n",
    "    model_folder = [f for f in os.listdir(best_model_folder_path) if f.endswith(unique_folder_suffix)]\n",
    "    \n",
    "    if len(model_folder) == 0:\n",
    "        raise Exception(f'Missing File with \"{unique_folder_suffix}\" suffix in \"{best_model_folder_path}\"')\n",
    "    elif len(model_folder) > 1:\n",
    "        raise Exception(f'File with \"{unique_folder_suffix}\" suffix in \"{best_model_folder_path}\" is duplicated')\n",
    "        \n",
    "    # Get the prediction file\n",
    "    folder = model_folder[0]\n",
    "    best_model_path = os.path.join(best_model_folder_path, folder)\n",
    "    \n",
    "    # Get Hyperparameter\n",
    "    best_model_hyperparameter = os.path.basename(best_model_path).split(unique_folder_suffix)[0]\n",
    "\n",
    "    return best_model_name, best_model_hyperparameter, best_model_path "
   ]
  },
  {
   "cell_type": "code",
   "execution_count": 26,
   "id": "81c8d22b-2d56-4ef9-aa5d-4ff48d1816f2",
   "metadata": {
    "tags": []
   },
   "outputs": [
    {
     "name": "stdout",
     "output_type": "stream",
     "text": [
      "Model Used\n",
      "  Type: BERT\n",
      "  Hyperparameter: LR 2e-05, E 2, BS 16\n",
      "  Path: ..\\5) BERT Based Models\\Model Results and Actual Data\\BERT\\Hyperparameter-1\\LR 2e-05, E 2, BS 16 - Model\n"
     ]
    }
   ],
   "source": [
    "best_model_name, best_model_hyperparameter, best_model_path = get_best_accuracy_model()\n",
    "is_bert = best_model_name == \"BERT\"\n",
    "\n",
    "print('Model Used')\n",
    "print(f'  Type: {best_model_name}')\n",
    "print(f'  Hyperparameter: {best_model_hyperparameter}')\n",
    "print(f'  Path: {best_model_path}')"
   ]
  },
  {
   "cell_type": "code",
   "execution_count": 27,
   "id": "9d0f7d2b-bce8-4d10-bb02-cec712593d03",
   "metadata": {
    "tags": []
   },
   "outputs": [
    {
     "data": {
      "application/vnd.jupyter.widget-view+json": {
       "model_id": "a05c9ff8be82414ab81a74e1f3d48081",
       "version_major": 2,
       "version_minor": 0
      },
      "text/plain": [
       "model.safetensors:   0%|          | 0.00/438M [00:00<?, ?B/s]"
      ]
     },
     "metadata": {},
     "output_type": "display_data"
    },
    {
     "data": {
      "text/plain": [
       "'https://huggingface.co/u-kuro/Thesis-2024-U.S.-Presidential-Election-Sentiment-Analysis/tree/main/'"
      ]
     },
     "execution_count": 27,
     "metadata": {},
     "output_type": "execute_result"
    }
   ],
   "source": [
    "api = HfApi()\n",
    "api.create_repo(repo_id=model_repo_name, exist_ok=True)\n",
    "api.upload_folder(\n",
    "    folder_path=best_model_path,\n",
    "    repo_id=model_repo_name,\n",
    "    repo_type=\"model\",\n",
    "    commit_message=\"Initial upload of sentiment model\"\n",
    ")"
   ]
  },
  {
   "cell_type": "code",
   "execution_count": null,
   "id": "522f3394-4e80-46fa-baa3-7129601d3eb2",
   "metadata": {},
   "outputs": [],
   "source": []
  }
 ],
 "metadata": {
  "kernelspec": {
   "display_name": "Python 3 (ipykernel)",
   "language": "python",
   "name": "python3"
  },
  "language_info": {
   "codemirror_mode": {
    "name": "ipython",
    "version": 3
   },
   "file_extension": ".py",
   "mimetype": "text/x-python",
   "name": "python",
   "nbconvert_exporter": "python",
   "pygments_lexer": "ipython3",
   "version": "3.7.0"
  }
 },
 "nbformat": 4,
 "nbformat_minor": 5
}
