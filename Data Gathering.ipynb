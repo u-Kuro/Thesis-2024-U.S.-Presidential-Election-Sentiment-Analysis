{
 "cells": [
  {
   "metadata": {},
   "cell_type": "markdown",
   "source": "# Import Dependencies"
  },
  {
   "cell_type": "code",
   "metadata": {
    "ExecuteTime": {
     "end_time": "2024-11-13T09:48:27.307069Z",
     "start_time": "2024-11-13T09:48:11.610903Z"
    }
   },
   "source": [
    "# Import Dependencies\n",
    "import os, re, time, torch, ffmpeg, whisper\n",
    "import pandas as pd\n",
    "from pytubefix import YouTube, Stream\n",
    "from pytubefix.cli import on_progress\n",
    "from pytubefix.innertube import _default_clients\n",
    "from tqdm.auto import tqdm\n",
    "from IPython.display import clear_output"
   ],
   "outputs": [],
   "execution_count": 1
  },
  {
   "cell_type": "markdown",
   "metadata": {},
   "source": [
    "# Define Utilities"
   ]
  },
  {
   "cell_type": "code",
   "metadata": {
    "ExecuteTime": {
     "end_time": "2024-11-12T21:27:26.328131Z",
     "start_time": "2024-11-12T21:27:26.312261Z"
    }
   },
   "source": [
    "def sanitize_filename(filename: str) -> str:\n",
    "    # Escape Double Quotes\n",
    "    filename = filename.replace('\"', '\\\\\"')\n",
    "\n",
    "    # Replace Invalid Characters with \"_\"\n",
    "    invalid_chars = re.compile(r'[<>:\"/\\\\|?*]')\n",
    "    sanitized_filename = invalid_chars.sub(\"_\", filename)\n",
    "\n",
    "    return sanitized_filename\n",
    "\n",
    "def read_unique_items_from_csv(file: str, column: str = \"URL\") -> list:\n",
    "    if os.path.exists(file):\n",
    "        return pd.read_csv(file)[column].tolist()\n",
    "    return {}\n",
    "\n",
    "def get_yt_id(url: str):\n",
    "    # Find the part after the \"?\" (query parameters)\n",
    "    if \"?\" in url: query_string = url.split(\"?\")[-1]\n",
    "    else: return None\n",
    "    # Split the query parameters by \"&\"\n",
    "    params = query_string.split(\"&\")\n",
    "    # Find the parameter by name\n",
    "    for param in params:\n",
    "        key, value = param.split(\"=\")\n",
    "        if key == \"v\": return value\n",
    "    return None"
   ],
   "outputs": [],
   "execution_count": 21
  },
  {
   "cell_type": "markdown",
   "metadata": {},
   "source": [
    "# Set Configurations"
   ]
  },
  {
   "cell_type": "code",
   "metadata": {
    "jupyter": {
     "source_hidden": true
    },
    "ExecuteTime": {
     "end_time": "2024-11-12T21:27:26.372633Z",
     "start_time": "2024-11-12T21:27:26.356982Z"
    }
   },
   "source": [
    "# File Names\n",
    "yt_video_links_filename = os.path.join(\"YouTube URL Collection\", \"Used URLs.csv\")\n",
    "\n",
    "# Folder Names\n",
    "video_output_path = \"Video\"\n",
    "audio_output_path = \"Audio\"\n",
    "transcription_output_path = \"Transcription\"\n",
    "\n",
    "# Boolean Flags\n",
    "run_continuously = True\n",
    "remove_video = True\n",
    "remove_audio = True\n",
    "authorize_yt = False # Change to true if YouTube Detects you as a BOT\n",
    "\n",
    "# Additional Dependency Configurations\n",
    "_default_clients[\"ANDROID_MUSIC\"] = _default_clients[\"ANDROID_CREATOR\"]\n",
    "\n",
    "# Print Colors\n",
    "class pcolors:\n",
    "    ENDC = \"\\033[0m\"\n",
    "    BRIGHTCYAN = \"\\033[38;2;67;227;235m\"\n",
    "    BRIGHTRED = \"\\033[38;2;232;0;0m\""
   ],
   "outputs": [],
   "execution_count": 22
  },
  {
   "cell_type": "markdown",
   "metadata": {},
   "source": [
    "# Collect Data (YouTube Videos)"
   ]
  },
  {
   "cell_type": "code",
   "metadata": {
    "ExecuteTime": {
     "end_time": "2024-11-12T21:27:26.408084Z",
     "start_time": "2024-11-12T21:27:26.392266Z"
    }
   },
   "source": [
    "def download_youtube_video(video_filename: str, stream: Stream) -> tuple:\n",
    "    # Create Video Directory\n",
    "    os.makedirs(video_output_path, exist_ok=True)\n",
    "    \n",
    "    # Set Path for Video File\n",
    "    video_file = os.path.join(video_output_path, video_filename)\n",
    "    \n",
    "    # Delete Old Existing Video File (note: to clean any corrupted file)\n",
    "    if os.path.exists(video_file):\n",
    "        os.remove(video_file)\n",
    "        \n",
    "    # Download Video File\n",
    "    print(\"\") # Just New Line for Better Output\n",
    "    print(f'Downloading (Video): {video_filename}')\n",
    "    print(\"\") # Just New Line for Better Output\n",
    "    stream.download(output_path=video_output_path, filename=video_filename)\n",
    "    print(\"\") # Just New Line for Better Output\n",
    "    print(\"\") # Just New Line for Better Output\n",
    "    \n",
    "    # Return Video File and Name\n",
    "    return video_file, video_filename"
   ],
   "outputs": [],
   "execution_count": 23
  },
  {
   "cell_type": "markdown",
   "metadata": {},
   "source": [
    "# Audio Extraction (Video to Audio)"
   ]
  },
  {
   "cell_type": "code",
   "metadata": {
    "ExecuteTime": {
     "end_time": "2024-11-12T21:27:26.445009Z",
     "start_time": "2024-11-12T21:27:26.429026Z"
    }
   },
   "source": [
    "def extract_audio_from_video(video_file: str, video_filename: str) -> tuple:\n",
    "    # Create the Audio Directory\n",
    "    os.makedirs(audio_output_path, exist_ok=True)\n",
    "\n",
    "    # Set Audio File Name (\"[YouTube Video ID] [title].mp3\")\n",
    "    audio_filename = f'{os.path.splitext(video_filename)[0]}.mp3'\n",
    "\n",
    "    # Set Path for Audio File\n",
    "    audio_file = os.path.join(audio_output_path, audio_filename)\n",
    "    \n",
    "    # Delete Old Existing Audio File (note: to clean any corrupted file)\n",
    "    if os.path.exists(audio_file):\n",
    "        os.remove(audio_file)\n",
    "    \n",
    "    # Extract Audio File\n",
    "    print(f'Extracting (Audio): {audio_filename}')\n",
    "    print(\"\") # Just New Line for Better Output\n",
    "    (\n",
    "        ffmpeg\n",
    "        .input(video_file)\n",
    "        .output(audio_file, format=\"mp3\", acodec=\"libmp3lame\", loglevel=\"info\")\n",
    "        .run(overwrite_output=True)\n",
    "    )\n",
    "    \n",
    "    # Return Audio File and Name\n",
    "    return audio_file, audio_filename"
   ],
   "outputs": [],
   "execution_count": 24
  },
  {
   "cell_type": "markdown",
   "metadata": {},
   "source": [
    "# Transcription (Audio to Text)"
   ]
  },
  {
   "cell_type": "code",
   "metadata": {
    "ExecuteTime": {
     "end_time": "2024-11-12T21:27:26.488429Z",
     "start_time": "2024-11-12T21:27:26.472654Z"
    }
   },
   "source": [
    "def transcribe_audio_to_text(audio_file: str, audio_filename: str):\n",
    "    # Create the Transcription Directory\n",
    "    os.makedirs(transcription_output_path, exist_ok=True)\n",
    "    \n",
    "    # Set Transcription File Name (\"[YouTube Video ID] [title].txt\")\n",
    "    transcription_filename = f'{os.path.splitext(audio_filename)[0]}.txt'\n",
    "    \n",
    "    # Set Path for Transcription File\n",
    "    transcription_file = os.path.join(transcription_output_path, transcription_filename)\n",
    "            \n",
    "    # Get/Download OpenAI Whisper Model\n",
    "    \"\"\" \n",
    "    Models: \n",
    "        tiny, base, small, medium, large, turbo\n",
    "    English-Only:\n",
    "        tiny.en, base.en, small.en, medium.en\n",
    "    \n",
    "    Required VRAM:              Speed:\n",
    "        1) 1GB - tiny, base         1) 10x - tiny\n",
    "        2) 2GB - small              2) 8x - turbo\n",
    "        3) 5GB - medium             3) 7x - base\n",
    "        4) 6GB - turbo              4) 4x - small\n",
    "        5) 10GB - large             5) 2x - medium\n",
    "                                    6) 1x - large\n",
    "    \n",
    "    Quote from OpenAI: \n",
    "        - The .en models for English-only applications tend to perform better, especially for the tiny.en and base.en models.\n",
    "        We observed that the difference becomes less significant for the small.en and medium.en models.\n",
    "    \n",
    "    Note: 4GB lang VRAM ko kaya small.en ginamit\n",
    "    \"\"\"  \n",
    "    print(f'Transcribing (Text): {transcription_filename}')\n",
    "    print(\"\") # Just New Line for Better Output\n",
    "    device = torch.device(\"cuda\" if torch.cuda.is_available() else \"cpu\") \n",
    "    model = whisper.load_model(\"small.en\", device=device)\n",
    "    \n",
    "    # Transcribe Audio File (Saves Whole Text in Memory Before Disk to Avoid Corruption)\n",
    "    result = model.transcribe(audio_file, fp16=False, verbose=False)\n",
    "    try:\n",
    "        with open(transcription_file, \"w\", errors=\"ignore\") as f:\n",
    "            f.write(result[\"text\"])\n",
    "    except:\n",
    "        if os.path.exists(transcription_file):\n",
    "            os.remove(transcription_file)"
   ],
   "outputs": [],
   "execution_count": 25
  },
  {
   "cell_type": "markdown",
   "metadata": {},
   "source": [
    "# Execute Data Gathering"
   ]
  },
  {
   "cell_type": "code",
   "metadata": {
    "scrolled": true
   },
   "source": [
    "while True:\n",
    "    try:\n",
    "        yt_urls = read_unique_items_from_csv(yt_video_links_filename)\n",
    "        with tqdm(total=len(yt_urls), desc=\"Getting YouTube URLs\") as pbar:\n",
    "            for index, url in enumerate(yt_urls):\n",
    "                try:\n",
    "                    current = f'{index+1}/{len(yt_urls)}'\n",
    "                    \n",
    "                    # Get YouTube Id\n",
    "                    video_id = get_yt_id(url)\n",
    "\n",
    "                    # Skip If No YouTube Video Id Found in URL\n",
    "                    if not video_id:\n",
    "                        print(\"\") # Just New Line for Better Output\n",
    "                        print(f'Invalid YouTube URL: {url}')\n",
    "                        \n",
    "                        pbar.update(1)\n",
    "                        continue\n",
    "                    \n",
    "                    # Set Filename Video Id Pattern\n",
    "                    video_id_pattern_in_filename = re.compile(r'\\[(.*?)\\]')\n",
    "                    \n",
    "                    # Skip If Transcription with YouTube ID Already Exists\n",
    "                    has_transcription_file = False\n",
    "                    pbar.set_description(f'Checking Existing Transcriptions [{current} File]')\n",
    "                    if os.path.exists(transcription_output_path):\n",
    "                        for existing_transcription_filename in os.listdir(transcription_output_path):\n",
    "                            if existing_transcription_filename == \".ipynb_checkpoints\": continue\n",
    "                            if (\n",
    "                                video_id_pattern_in_filename.search(existing_transcription_filename)\n",
    "                                and video_id_pattern_in_filename.search(existing_transcription_filename).group(1) == video_id\n",
    "                            ): \n",
    "                                has_transcription_file = True\n",
    "                                break\n",
    "                    if has_transcription_file:\n",
    "                        # Delete/Keep Video File\n",
    "                        if remove_video:\n",
    "                            for existing_video_filename in os.listdir(video_output_path):\n",
    "                                if existing_video_filename == \".ipynb_checkpoints\": continue\n",
    "                                if (\n",
    "                                    video_id_pattern_in_filename.search(existing_video_filename)\n",
    "                                    and video_id_pattern_in_filename.search(existing_video_filename).group(1) == video_id\n",
    "                                ): os.remove(existing_video_filename)\n",
    "                                    \n",
    "                        # Delete/Keep Audio File\n",
    "                        if remove_audio:\n",
    "                            for existing_audio_filename in os.listdir(audio_output_path):\n",
    "                                if existing_audio_filename == \".ipynb_checkpoints\": continue\n",
    "                                if (\n",
    "                                    video_id_pattern_in_filename.search(existing_audio_filename)\n",
    "                                    and video_id_pattern_in_filename.search(existing_audio_filename).group(1) == video_id\n",
    "                                ): os.remove(existing_audio_filename)\n",
    "                                    \n",
    "                        pbar.update(1)\n",
    "                        continue\n",
    "\n",
    "                    # Get Video Information\n",
    "                    yt = YouTube(\n",
    "                        url,\n",
    "                        use_oauth=authorize_yt,\n",
    "                        allow_oauth_cache=authorize_yt,\n",
    "                        on_progress_callback=on_progress\n",
    "                    )\n",
    "                    stream = yt.streams.get_audio_only()\n",
    "\n",
    "                    # Sanitize Video File Name and Add YouTube Video ID\n",
    "                    video_filename = f'[{video_id}] {sanitize_filename(stream.default_filename)}'\n",
    "\n",
    "                    # Get File Name Without Extension (e.g., \".mp4\")\n",
    "                    filename = os.path.splitext(video_filename)[0]\n",
    "\n",
    "                    # Log YouTube URL being Processed\n",
    "                    print(\"\") # Just New Line for Better Output\n",
    "                    print(f'Found YouTube Video (URL): {url}')\n",
    "\n",
    "                    # Download YouTube Video\n",
    "                    pbar.set_description(f'Downloading [{current} Video] ')\n",
    "                    video_file, video_filename = download_youtube_video(video_filename, stream)\n",
    "\n",
    "                    # Extract Audio from Video -> Delete/Keep Video File\n",
    "                    pbar.set_description(f'Extracting [{current} Audio]')\n",
    "                    audio_file, audio_filename = extract_audio_from_video(video_file, video_filename)\n",
    "                    if remove_video: os.remove(video_file)\n",
    "\n",
    "                    # Transcribe Audio to Text -> Delete/Keep Audio File\n",
    "                    pbar.set_description(f'Transcribing [{current} Text]')\n",
    "                    transcribe_audio_to_text(audio_file, audio_filename)\n",
    "                    if remove_audio: os.remove(audio_file)\n",
    "\n",
    "                    pbar.update(1)\n",
    "                except Exception as e: \n",
    "                    print(f'{e}: {url}')\n",
    "                    \n",
    "                    pbar.update(1)\n",
    "            pbar.set_description(\"Finished Data Gathering\")\n",
    "    except Exception as e: print(e)\n",
    "    # If Set To Run Endlessly Until User Interruption\n",
    "    if run_continuously:\n",
    "        clear_output(wait=True)\n",
    "        print(\"\") # Just New Line for Better Output\n",
    "        print(f'{pcolors.BRIGHTCYAN}... This Stays Alive ...{pcolors.ENDC}')\n",
    "        print(\"\") # Just New Line for Better Output\n",
    "        print(f'{pcolors.BRIGHTCYAN}... You Can Now Add More URL ...{pcolors.ENDC}')\n",
    "        print(\"\") # Just New Line for Better Output\n",
    "        print(f'{pcolors.BRIGHTCYAN}... This Will Automatically Recheck and Transcribe New Added URLs ...{pcolors.ENDC}')\n",
    "        print(\"\") # Just New Line for Better Output\n",
    "        print(f'{pcolors.BRIGHTRED}... [ Click Interrupt To Stop ] ...{pcolors.ENDC}')\n",
    "        print(\"\") # Just New Line for Better Output\n",
    "        time.sleep(5)\n",
    "        continue\n",
    "    break"
   ],
   "execution_count": 26,
   "outputs": [
    {
     "ename": "KeyboardInterrupt",
     "evalue": "",
     "output_type": "error",
     "traceback": [
      "\u001B[1;31m---------------------------------------------------------------------------\u001B[0m",
      "\u001B[1;31mKeyboardInterrupt\u001B[0m                         Traceback (most recent call last)",
      "\u001B[1;32m~\\AppData\\Local\\Temp\\ipykernel_6184\\2398343701.py\u001B[0m in \u001B[0;36m<module>\u001B[1;34m\u001B[0m\n\u001B[0;32m    107\u001B[0m         \u001B[0mprint\u001B[0m\u001B[1;33m(\u001B[0m\u001B[1;34mf'{pcolors.BRIGHTRED}... [ Click Interrupt To Stop ] ...{pcolors.ENDC}'\u001B[0m\u001B[1;33m)\u001B[0m\u001B[1;33m\u001B[0m\u001B[0m\n\u001B[0;32m    108\u001B[0m         \u001B[0mprint\u001B[0m\u001B[1;33m(\u001B[0m\u001B[1;34m\"\"\u001B[0m\u001B[1;33m)\u001B[0m \u001B[1;31m# Just New Line for Better Output\u001B[0m\u001B[1;33m\u001B[0m\u001B[0m\n\u001B[1;32m--> 109\u001B[1;33m         \u001B[0mtime\u001B[0m\u001B[1;33m.\u001B[0m\u001B[0msleep\u001B[0m\u001B[1;33m(\u001B[0m\u001B[1;36m5\u001B[0m\u001B[1;33m)\u001B[0m\u001B[1;33m\u001B[0m\u001B[0m\n\u001B[0m\u001B[0;32m    110\u001B[0m         \u001B[1;32mcontinue\u001B[0m\u001B[1;33m\u001B[0m\u001B[0m\n\u001B[0;32m    111\u001B[0m     \u001B[1;32mbreak\u001B[0m\u001B[1;33m\u001B[0m\u001B[0m\n",
      "\u001B[1;31mKeyboardInterrupt\u001B[0m: "
     ]
    }
   ]
  },
  {
   "metadata": {},
   "cell_type": "code",
   "outputs": [],
   "execution_count": null,
   "source": ""
  }
 ],
 "metadata": {
  "kernelspec": {
   "display_name": "Python 3 (ipykernel)",
   "language": "python",
   "name": "python3"
  },
  "language_info": {
   "codemirror_mode": {
    "name": "ipython",
    "version": 3
   },
   "file_extension": ".py",
   "mimetype": "text/x-python",
   "name": "python",
   "nbconvert_exporter": "python",
   "pygments_lexer": "ipython3",
   "version": "3.11.0"
  }
 },
 "nbformat": 4,
 "nbformat_minor": 4
}
