{
 "cells": [
  {
   "cell_type": "markdown",
   "metadata": {},
   "source": [
    "# Import Dependencies"
   ]
  },
  {
   "cell_type": "code",
   "execution_count": 1,
   "metadata": {},
   "outputs": [],
   "source": [
    "# Import Dependencies\n",
    "import os, re, torch, ffmpeg, whisper\n",
    "import pandas as pd\n",
    "from pytubefix import YouTube, Stream\n",
    "from pytubefix.cli import on_progress\n",
    "from pytubefix.innertube import _default_clients\n",
    "from tqdm.auto import tqdm"
   ]
  },
  {
   "cell_type": "markdown",
   "metadata": {},
   "source": [
    "# Define Utilities"
   ]
  },
  {
   "cell_type": "code",
   "execution_count": 2,
   "metadata": {},
   "outputs": [],
   "source": [
    "def sanitize_filename(filename: str) -> str:\n",
    "    # Escape Double Quotes\n",
    "    filename = filename.replace('\"', '\\\\\"')\n",
    "\n",
    "    # Replace Invalid Characters with \"_\"\n",
    "    invalid_chars = re.compile(r'[<>:\"/\\\\|?*]')\n",
    "    sanitized_filename = invalid_chars.sub(\"_\", filename)\n",
    "\n",
    "    return sanitized_filename\n",
    "def read_unique_items_from_csv(file: str, column: str = \"URL\") -> list:\n",
    "    if os.path.exists(file):\n",
    "        return pd.read_csv(file, encoding_errors=\"ignore\")[column].tolist()\n",
    "    return {}"
   ]
  },
  {
   "cell_type": "markdown",
   "metadata": {},
   "source": [
    "# Set Configurations"
   ]
  },
  {
   "cell_type": "code",
   "execution_count": 3,
   "metadata": {},
   "outputs": [],
   "source": [
    "# File Names\n",
    "yt_video_links_filename = os.path.join(\"YouTube URL Collection\", \"Used URLs.csv\")\n",
    "\n",
    "# Folder Names\n",
    "video_output_path = \"Video\"\n",
    "audio_output_path = \"Audio\"\n",
    "transcription_output_path = \"Transcription\"\n",
    "\n",
    "# Boolean Flags\n",
    "remove_video = True\n",
    "remove_audio = True\n",
    "authorize_yt = False # Change to true if YouTube Detects you as a BOT\n",
    "\n",
    "# Additional Dependency Configurations\n",
    "_default_clients[\"ANDROID_MUSIC\"] = _default_clients[\"ANDROID_CREATOR\"]"
   ]
  },
  {
   "cell_type": "markdown",
   "metadata": {},
   "source": [
    "# Collect Data (YouTube Videos)"
   ]
  },
  {
   "cell_type": "code",
   "execution_count": 4,
   "metadata": {
    "jupyter": {
     "source_hidden": true
    }
   },
   "outputs": [],
   "source": [
    "def download_youtube_video(video_filename: str, stream: Stream) -> tuple[str, str]:\n",
    "    # Create Video Directory\n",
    "    os.makedirs(video_output_path, exist_ok=True)\n",
    "    \n",
    "    # Set Path for Video File\n",
    "    video_file = os.path.join(video_output_path, video_filename)\n",
    "    \n",
    "    # Delete Old Existing Video File (note: to clean any corrupted file)\n",
    "    if os.path.exists(video_file):\n",
    "        os.remove(video_file)\n",
    "        \n",
    "    # Download Video File\n",
    "    print(\"\") # Just New Line for Better Output\n",
    "    print(f'Downloading (Video): {video_filename}')\n",
    "    print(\"\") # Just New Line for Better Output\n",
    "    stream.download(output_path=video_output_path, filename=video_filename)\n",
    "    print(\"\") # Just New Line for Better Output\n",
    "    print(\"\") # Just New Line for Better Output\n",
    "    \n",
    "    # Return Video File and Name\n",
    "    return video_file, video_filename"
   ]
  },
  {
   "cell_type": "markdown",
   "metadata": {},
   "source": [
    "# Audio Extraction (Video to Audio)"
   ]
  },
  {
   "cell_type": "code",
   "execution_count": 5,
   "metadata": {
    "jupyter": {
     "source_hidden": true
    }
   },
   "outputs": [],
   "source": [
    "def extract_audio_from_video(video_file: str, video_filename: str) -> tuple[str, str]:\n",
    "    # Create the Audio Directory\n",
    "    os.makedirs(audio_output_path, exist_ok=True)\n",
    "\n",
    "    # Set Audio File Name (\"[YouTube Video ID] [title].mp3\")\n",
    "    audio_filename = f'{os.path.splitext(video_filename)[0]}.mp3'\n",
    "\n",
    "    # Set Path for Audio File\n",
    "    audio_file = os.path.join(audio_output_path, audio_filename)\n",
    "    \n",
    "    # Delete Old Existing Audio File (note: to clean any corrupted file)\n",
    "    if os.path.exists(audio_file):\n",
    "        os.remove(audio_file)\n",
    "    \n",
    "    # Extract Audio File\n",
    "    print(f'Extracting (Audio): {audio_filename}')\n",
    "    print(\"\") # Just New Line for Better Output\n",
    "    (\n",
    "        ffmpeg\n",
    "        .input(video_file)\n",
    "        .output(audio_file, format=\"mp3\", acodec=\"libmp3lame\", loglevel=\"info\")\n",
    "        .run(overwrite_output=True)\n",
    "    )\n",
    "    \n",
    "    # Return Audio File and Name\n",
    "    return audio_file, audio_filename"
   ]
  },
  {
   "cell_type": "markdown",
   "metadata": {},
   "source": [
    "# Transcription (Audio to Text)"
   ]
  },
  {
   "cell_type": "code",
   "execution_count": 6,
   "metadata": {
    "jupyter": {
     "source_hidden": true
    }
   },
   "outputs": [],
   "source": [
    "def transcribe_audio_to_text(audio_file: str, audio_filename: str):\n",
    "    # Create the Transcription Directory\n",
    "    os.makedirs(transcription_output_path, exist_ok=True)\n",
    "    \n",
    "    # Set Transcription File Name (\"[YouTube Video ID] [title].txt\")\n",
    "    transcription_filename = f'{os.path.splitext(audio_filename)[0]}.txt'\n",
    "    \n",
    "    # Set Path for Transcription File\n",
    "    transcription_file = os.path.join(transcription_output_path, transcription_filename)\n",
    "            \n",
    "    # Get/Download OpenAI Whisper Model\n",
    "    \"\"\" \n",
    "    Models: \n",
    "        tiny, base, small, medium, large, turbo\n",
    "    English-Only:\n",
    "        tiny.en, base.en, small.en, medium.en\n",
    "    \n",
    "    Required VRAM:              Speed:\n",
    "        1) 1GB - tiny, base         1) 10x - tiny\n",
    "        2) 2GB - small              2) 8x - turbo\n",
    "        3) 5GB - medium             3) 7x - base\n",
    "        4) 6GB - turbo              4) 4x - small\n",
    "        5) 10GB - large             5) 2x - medium\n",
    "                                    6) 1x - large\n",
    "    \n",
    "    Quote from OpenAI: \n",
    "        - The .en models for English-only applications tend to perform better, especially for the tiny.en and base.en models.\n",
    "        We observed that the difference becomes less significant for the small.en and medium.en models.\n",
    "    \n",
    "    Note: 4GB lang VRAM ko kaya small.en ginamit\n",
    "    \"\"\"  \n",
    "    print(f'Transcribing (Text): {transcription_filename}')\n",
    "    print(\"\") # Just New Line for Better Output\n",
    "    device = torch.device(\"cuda\" if torch.cuda.is_available() else \"cpu\") \n",
    "    model = whisper.load_model(\"small.en\", device=device)\n",
    "    \n",
    "    # Transcribe Audio File (Saves Whole Text in Memory Before Disk to Avoid Corruption)\n",
    "    result = model.transcribe(audio_file, fp16=False, verbose=False)\n",
    "    try:\n",
    "        with open(transcription_file, \"w\") as f:\n",
    "            f.write(result[\"text\"])\n",
    "    except:\n",
    "        if os.path.exists(transcription_file):\n",
    "            os.remove(transcription_file)"
   ]
  },
  {
   "cell_type": "markdown",
   "metadata": {},
   "source": [
    "# Execute Data Gathering"
   ]
  },
  {
   "cell_type": "code",
   "execution_count": null,
   "metadata": {
    "scrolled": true
   },
   "outputs": [
    {
     "data": {
      "application/vnd.jupyter.widget-view+json": {
       "model_id": "5b67b702c9574106be2af5be031cee1e",
       "version_major": 2,
       "version_minor": 0
      },
      "text/plain": [
       "Getting YouTube URLs:   0%|          | 0/273 [00:00<?, ?it/s]"
      ]
     },
     "metadata": {},
     "output_type": "display_data"
    },
    {
     "name": "stdout",
     "output_type": "stream",
     "text": [
      "\n",
      "Found YouTube Video (URL): https://www.youtube.com/watch?v=1IkNvUaCwIU\n",
      "\n",
      "Downloading (Video): [1IkNvUaCwIU] Trump ends town hall early, sways to music for over 30 minutes.mp4\n",
      "\n",
      " ↳ |██████████████████████████████████████████████████████████████████| 100.0%\n",
      "\n",
      "Extracting (Audio): [1IkNvUaCwIU] Trump ends town hall early, sways to music for over 30 minutes.mp3\n",
      "\n",
      "Transcribing (Text): [1IkNvUaCwIU] Trump ends town hall early, sways to music for over 30 minutes.txt\n",
      "\n"
     ]
    },
    {
     "name": "stderr",
     "output_type": "stream",
     "text": [
      "C:\\Users\\MSI Laptop\\AppData\\Local\\Programs\\Python\\Python311\\Lib\\site-packages\\whisper\\__init__.py:150: FutureWarning: You are using `torch.load` with `weights_only=False` (the current default value), which uses the default pickle module implicitly. It is possible to construct malicious pickle data which will execute arbitrary code during unpickling (See https://github.com/pytorch/pytorch/blob/main/SECURITY.md#untrusted-models for more details). In a future release, the default value for `weights_only` will be flipped to `True`. This limits the functions that could be executed during unpickling. Arbitrary objects will no longer be allowed to be loaded via this mode unless they are explicitly allowlisted by the user via `torch.serialization.add_safe_globals`. We recommend you start setting `weights_only=True` for any use case where you don't have full control of the loaded file. Please open an issue on GitHub for any issues related to this experimental feature.\n",
      "  checkpoint = torch.load(fp, map_location=device)\n",
      "\n",
      "  0%|                                                                                    | 0/64669 [00:00<?, ?frames/s]\u001b[A\n",
      "  5%|███▎                                                                    | 2984/64669 [00:07<02:26, 421.88frames/s]\u001b[A\n",
      "  9%|██████▎                                                                 | 5720/64669 [00:13<02:17, 428.17frames/s]\u001b[A\n",
      " 13%|█████████▌                                                              | 8560/64669 [00:20<02:13, 421.55frames/s]\u001b[A\n",
      " 18%|████████████▌                                                          | 11448/64669 [00:25<01:57, 453.08frames/s]\u001b[A\n",
      " 22%|███████████████▋                                                       | 14248/64669 [00:35<02:14, 373.83frames/s]\u001b[A\n",
      " 26%|██████████████████▊                                                    | 17120/64669 [00:46<02:22, 334.33frames/s]\u001b[A\n",
      " 31%|██████████████████████                                                 | 20048/64669 [00:55<02:14, 330.91frames/s]\u001b[A\n",
      " 35%|█████████████████████████                                              | 22808/64669 [01:05<02:16, 306.22frames/s]\u001b[A\n",
      " 40%|████████████████████████████▎                                          | 25760/64669 [01:18<02:19, 279.36frames/s]\u001b[A\n",
      " 40%|████████████████████████████▎                                          | 25760/64669 [01:28<02:19, 279.36frames/s]\u001b[A\n",
      " 44%|███████████████████████████████▌                                       | 28728/64669 [01:29<02:09, 276.92frames/s]\u001b[A\n",
      " 44%|███████████████████████████████▌                                       | 28728/64669 [01:40<02:09, 276.92frames/s]\u001b[A\n",
      " 49%|██████████████████████████████████▊                                    | 31680/64669 [01:40<02:01, 272.14frames/s]\u001b[A\n",
      " 53%|█████████████████████████████████████▉                                 | 34568/64669 [01:51<01:52, 268.25frames/s]\u001b[A\n",
      " 58%|█████████████████████████████████████████                              | 37384/64669 [02:00<01:37, 279.28frames/s]\u001b[A\n",
      " 62%|████████████████████████████████████████████▏                          | 40232/64669 [02:10<01:25, 284.34frames/s]\u001b[A\n",
      " 67%|███████████████████████████████████████████████▎                       | 43080/64669 [02:22<01:20, 267.82frames/s]\u001b[A\n",
      " 71%|██████████████████████████████████████████████████▏                    | 45712/64669 [02:33<01:14, 254.52frames/s]\u001b[A\n",
      " 75%|█████████████████████████████████████████████████████▍                 | 48712/64669 [02:43<00:58, 273.17frames/s]\u001b[A\n",
      " 80%|████████████████████████████████████████████████████████▌              | 51568/64669 [02:48<00:41, 318.04frames/s]\u001b[A\n",
      " 84%|███████████████████████████████████████████████████████████▉           | 54560/64669 [02:59<00:32, 308.34frames/s]\u001b[A\n",
      " 89%|██████████████████████████████████████████████████████████████▉        | 57344/64669 [03:08<00:24, 302.81frames/s]\u001b[A\n",
      " 93%|██████████████████████████████████████████████████████████████████▏    | 60248/64669 [03:16<00:13, 315.83frames/s]\u001b[A\n",
      " 98%|█████████████████████████████████████████████████████████████████████▏ | 63072/64669 [03:23<00:04, 339.20frames/s]\u001b[A\n",
      "100%|███████████████████████████████████████████████████████████████████████| 64669/64669 [03:29<00:00, 308.93frames/s]\u001b[A\n"
     ]
    },
    {
     "name": "stdout",
     "output_type": "stream",
     "text": [
      "\n",
      "Found YouTube Video (URL): https://www.youtube.com/watch?v=3gXLdl-aj_w\n",
      "\n",
      "Downloading (Video): [3gXLdl-aj_w] Trump Farts on Stage, MAGA Nuts Push Insane Weather Lies & Mr. USA's Products Are Made in CHINA!.mp4\n",
      "\n",
      " ↳ |██████████████████████████████████████████████████████████████████| 100.0%\n",
      "\n",
      "Extracting (Audio): [3gXLdl-aj_w] Trump Farts on Stage, MAGA Nuts Push Insane Weather Lies & Mr. USA's Products Are Made in CHINA!.mp3\n",
      "\n",
      "Transcribing (Text): [3gXLdl-aj_w] Trump Farts on Stage, MAGA Nuts Push Insane Weather Lies & Mr. USA's Products Are Made in CHINA!.txt\n",
      "\n"
     ]
    },
    {
     "name": "stderr",
     "output_type": "stream",
     "text": [
      "\n",
      "  0%|                                                                                    | 0/89011 [00:00<?, ?frames/s]\u001b[A\n",
      "  3%|██▍                                                                     | 2960/89011 [00:10<04:52, 293.80frames/s]\u001b[A\n",
      "  7%|████▊                                                                   | 5932/89011 [00:21<04:57, 279.26frames/s]\u001b[A\n",
      " 10%|███████                                                                 | 8804/89011 [00:29<04:26, 301.27frames/s]\u001b[A\n",
      " 13%|█████████▎                                                             | 11624/89011 [00:39<04:17, 300.04frames/s]\u001b[A\n",
      " 16%|███████████▍                                                           | 14408/89011 [00:49<04:17, 289.95frames/s]\u001b[A\n",
      " 20%|█████████████▉                                                         | 17408/89011 [00:56<03:41, 323.28frames/s]\u001b[A\n",
      " 23%|████████████████▏                                                      | 20356/89011 [01:06<03:38, 314.54frames/s]\u001b[A\n",
      " 26%|██████████████████▌                                                    | 23220/89011 [01:15<03:26, 319.26frames/s]\u001b[A\n",
      " 29%|████████████████████▉                                                  | 26212/89011 [01:22<03:05, 338.94frames/s]\u001b[A\n",
      " 33%|███████████████████████▎                                               | 29180/89011 [01:33<03:05, 322.62frames/s]\u001b[A\n",
      " 36%|█████████████████████████▋                                             | 32152/89011 [01:41<02:49, 334.66frames/s]\u001b[A\n",
      " 39%|███████████████████████████▉                                           | 35020/89011 [01:50<02:46, 323.80frames/s]\u001b[A\n",
      " 42%|██████████████████████████████▏                                        | 37776/89011 [01:58<02:36, 327.16frames/s]\u001b[A\n",
      " 46%|████████████████████████████████▌                                      | 40764/89011 [02:07<02:23, 335.62frames/s]\u001b[A\n",
      " 49%|██████████████████████████████████▌                                    | 43288/89011 [02:15<02:20, 324.65frames/s]\u001b[A\n",
      " 52%|████████████████████████████████████▉                                  | 46284/89011 [02:23<02:05, 340.64frames/s]\u001b[A\n",
      " 55%|███████████████████████████████████████▏                               | 49060/89011 [02:30<01:53, 350.93frames/s]\u001b[A\n",
      " 58%|█████████████████████████████████████████▌                             | 52040/89011 [02:40<01:48, 341.85frames/s]\u001b[A\n",
      " 62%|███████████████████████████████████████████▊                           | 54940/89011 [02:51<01:49, 311.51frames/s]\u001b[A\n",
      " 62%|███████████████████████████████████████████▊                           | 54940/89011 [03:01<01:49, 311.51frames/s]\u001b[A\n",
      " 65%|██████████████████████████████████████████████                         | 57812/89011 [03:02<01:45, 296.62frames/s]\u001b[A\n",
      " 68%|████████████████████████████████████████████████▍                      | 60672/89011 [03:12<01:36, 292.30frames/s]\u001b[A\n",
      " 71%|██████████████████████████████████████████████████▋                    | 63480/89011 [03:19<01:21, 312.45frames/s]\u001b[A\n",
      " 74%|████████████████████████████████████████████████████▉                  | 66312/89011 [03:27<01:08, 329.29frames/s]\u001b[A\n",
      " 78%|███████████████████████████████████████████████████████▎               | 69276/89011 [03:36<01:01, 322.36frames/s]\u001b[A\n",
      " 81%|█████████████████████████████████████████████████████████▍             | 72048/89011 [03:44<00:50, 334.87frames/s]\u001b[A\n",
      " 84%|███████████████████████████████████████████████████████████▊           | 74920/89011 [03:53<00:43, 325.48frames/s]\u001b[A\n",
      " 87%|██████████████████████████████████████████████████████████████         | 77876/89011 [04:03<00:34, 319.33frames/s]\u001b[A\n",
      " 91%|████████████████████████████████████████████████████████████████▍      | 80808/89011 [04:12<00:25, 322.35frames/s]\u001b[A\n",
      " 94%|██████████████████████████████████████████████████████████████████▋    | 83616/89011 [04:22<00:17, 305.30frames/s]\u001b[A\n",
      " 97%|████████████████████████████████████████████████████████████████████▉  | 86468/89011 [04:33<00:08, 293.88frames/s]\u001b[A\n",
      "100%|███████████████████████████████████████████████████████████████████████| 89011/89011 [04:40<00:00, 317.63frames/s]\u001b[A\n"
     ]
    },
    {
     "name": "stdout",
     "output_type": "stream",
     "text": [
      "\n",
      "Found YouTube Video (URL): https://www.youtube.com/watch?v=8w1E82e476c\n",
      "\n",
      "Downloading (Video): [8w1E82e476c] Elon Musk Vs Mark Cuban_ Billionaires Back Donald Trump, Kamala Harris _ Watch Best 8 Minutes.mp4\n",
      "\n",
      " ↳ |██████████████████████████████████████████████████████████████████| 100.0%\n",
      "\n",
      "Extracting (Audio): [8w1E82e476c] Elon Musk Vs Mark Cuban_ Billionaires Back Donald Trump, Kamala Harris _ Watch Best 8 Minutes.mp3\n",
      "\n",
      "Transcribing (Text): [8w1E82e476c] Elon Musk Vs Mark Cuban_ Billionaires Back Donald Trump, Kamala Harris _ Watch Best 8 Minutes.txt\n",
      "\n"
     ]
    },
    {
     "name": "stderr",
     "output_type": "stream",
     "text": [
      "\n",
      "  0%|                                                                                    | 0/45302 [00:00<?, ?frames/s]\u001b[A\n",
      "  7%|████▊                                                                   | 3000/45302 [00:07<01:41, 417.45frames/s]\u001b[A\n",
      " 13%|█████████▏                                                              | 5792/45302 [00:15<01:48, 363.57frames/s]\u001b[A\n",
      " 19%|█████████████▉                                                          | 8792/45302 [00:23<01:37, 374.30frames/s]\u001b[A\n",
      " 26%|██████████████████▏                                                    | 11632/45302 [00:31<01:31, 368.50frames/s]\u001b[A\n",
      " 32%|██████████████████████▉                                                | 14624/45302 [00:40<01:26, 356.31frames/s]\u001b[A\n",
      " 39%|███████████████████████████▍                                           | 17512/45302 [00:45<01:09, 402.36frames/s]\u001b[A\n",
      " 45%|████████████████████████████████▏                                      | 20512/45302 [00:53<01:02, 399.21frames/s]\u001b[A\n",
      " 51%|████████████████████████████████████▎                                  | 23184/45302 [01:01<00:58, 376.55frames/s]\u001b[A\n",
      " 58%|█████████████████████████████████████████                              | 26184/45302 [01:09<00:52, 365.59frames/s]\u001b[A\n",
      " 58%|█████████████████████████████████████████                              | 26184/45302 [01:27<00:52, 365.59frames/s]\u001b[A\n",
      " 64%|█████████████████████████████████████████████▋                         | 29184/45302 [01:32<01:09, 233.20frames/s]\u001b[A\n",
      " 71%|██████████████████████████████████████████████████▍                    | 32184/45302 [01:40<00:49, 265.89frames/s]\u001b[A\n",
      " 76%|██████████████████████████████████████████████████████▎                | 34656/45302 [01:47<00:37, 286.55frames/s]\u001b[A\n",
      " 83%|███████████████████████████████████████████████████████████            | 37656/45302 [01:53<00:23, 328.39frames/s]\u001b[A\n",
      " 90%|███████████████████████████████████████████████████████████████▋       | 40656/45302 [01:59<00:12, 373.92frames/s]\u001b[A\n",
      " 95%|███████████████████████████████████████████████████████████████████▋   | 43224/45302 [02:06<00:05, 372.72frames/s]\u001b[A\n",
      "100%|███████████████████████████████████████████████████████████████████████| 45302/45302 [02:09<00:00, 348.95frames/s]\u001b[A\n"
     ]
    },
    {
     "name": "stdout",
     "output_type": "stream",
     "text": [
      "\n",
      "Found YouTube Video (URL): https://www.youtube.com/watch?v=JuUto-tSelE\n",
      "\n",
      "Downloading (Video): [JuUto-tSelE] Barack Obama Campaigns for Harris, Calls Trump __Whiny Old Billionaire__ _ Firstpost America.mp4\n",
      "\n",
      " ↳ |██████████████████████████████████████████████████████████████████| 100.0%\n",
      "\n",
      "Extracting (Audio): [JuUto-tSelE] Barack Obama Campaigns for Harris, Calls Trump __Whiny Old Billionaire__ _ Firstpost America.mp3\n",
      "\n",
      "Transcribing (Text): [JuUto-tSelE] Barack Obama Campaigns for Harris, Calls Trump __Whiny Old Billionaire__ _ Firstpost America.txt\n",
      "\n"
     ]
    },
    {
     "name": "stderr",
     "output_type": "stream",
     "text": [
      "\n",
      "  0%|                                                                                    | 0/29503 [00:00<?, ?frames/s]\u001b[A\n",
      "  8%|██████                                                                  | 2500/29503 [00:07<01:17, 350.37frames/s]\u001b[A\n",
      " 16%|███████████▍                                                            | 4700/29503 [00:11<01:01, 406.22frames/s]\u001b[A\n",
      " 23%|████████████████▎                                                       | 6700/29503 [00:15<00:51, 441.44frames/s]\u001b[A\n",
      " 28%|████████████████████▍                                                   | 8400/29503 [00:19<00:48, 433.08frames/s]\u001b[A\n",
      " 37%|██████████████████████████▏                                            | 10900/29503 [00:24<00:39, 474.48frames/s]\u001b[A\n",
      " 46%|████████████████████████████████▋                                      | 13600/29503 [00:30<00:34, 458.36frames/s]\u001b[A\n",
      " 55%|██████████████████████████████████████▋                                | 16100/29503 [00:36<00:30, 446.57frames/s]\u001b[A\n",
      " 63%|████████████████████████████████████████████▌                          | 18500/29503 [00:41<00:24, 454.79frames/s]\u001b[A\n",
      " 70%|█████████████████████████████████████████████████▌                     | 20600/29503 [00:46<00:20, 435.68frames/s]\u001b[A\n",
      " 79%|████████████████████████████████████████████████████████               | 23300/29503 [00:53<00:14, 419.20frames/s]\u001b[A\n",
      " 89%|███████████████████████████████████████████████████████████████▎       | 26300/29503 [00:57<00:06, 520.31frames/s]\u001b[A\n",
      " 99%|██████████████████████████████████████████████████████████████████████▌| 29300/29503 [01:01<00:00, 479.30frames/s]\u001b[A\n"
     ]
    },
    {
     "name": "stdout",
     "output_type": "stream",
     "text": [
      "\n",
      "Found YouTube Video (URL): https://www.youtube.com/watch?v=TDe-vpLgPkY\n",
      "\n",
      "Downloading (Video): [TDe-vpLgPkY] Why this Psychadellic Artist now paints Trump and Elon Musk.mp4\n",
      "\n",
      " ↳ |██████████████████████████████████████████████████████████████████| 100.0%\n",
      "\n",
      "Extracting (Audio): [TDe-vpLgPkY] Why this Psychadellic Artist now paints Trump and Elon Musk.mp3\n",
      "\n",
      "Transcribing (Text): [TDe-vpLgPkY] Why this Psychadellic Artist now paints Trump and Elon Musk.txt\n",
      "\n"
     ]
    },
    {
     "name": "stderr",
     "output_type": "stream",
     "text": [
      "\n",
      "  0%|                                                                                    | 0/63214 [00:00<?, ?frames/s]\u001b[A\n",
      "  4%|██▊                                                                     | 2440/63214 [00:08<03:32, 286.37frames/s]\u001b[A\n",
      "  9%|██████▏                                                                 | 5400/63214 [00:17<03:01, 318.00frames/s]\u001b[A\n",
      " 13%|█████████▍                                                              | 8290/63214 [00:26<02:56, 311.35frames/s]\u001b[A\n",
      " 18%|████████████▌                                                          | 11160/63214 [00:37<03:00, 288.17frames/s]\u001b[A\n",
      " 21%|███████████████▏                                                       | 13490/63214 [00:45<02:50, 291.43frames/s]\u001b[A\n",
      " 25%|██████████████████                                                     | 16110/63214 [00:53<02:37, 299.03frames/s]\u001b[A\n",
      " 30%|█████████████████████▍                                                 | 19070/63214 [01:02<02:22, 309.73frames/s]\u001b[A\n",
      " 34%|████████████████████████▎                                              | 21600/63214 [01:10<02:12, 313.19frames/s]\u001b[A\n",
      " 38%|███████████████████████████▏                                           | 24160/63214 [01:18<02:03, 317.35frames/s]\u001b[A\n",
      " 42%|██████████████████████████████                                         | 26810/63214 [01:27<01:55, 314.49frames/s]\u001b[A\n",
      " 47%|█████████████████████████████████▏                                     | 29520/63214 [01:34<01:43, 326.63frames/s]\u001b[A\n",
      " 51%|████████████████████████████████████▍                                  | 32440/63214 [01:43<01:33, 329.12frames/s]\u001b[A\n",
      " 56%|███████████████████████████████████████▌                               | 35240/63214 [01:51<01:24, 329.85frames/s]\u001b[A\n",
      " 60%|██████████████████████████████████████████▊                            | 38070/63214 [02:00<01:15, 334.82frames/s]\u001b[A"
     ]
    }
   ],
   "source": [
    "yt_urls = read_unique_items_from_csv(yt_video_links_filename)\n",
    "\n",
    "with tqdm(total=len(yt_urls), desc=\"Getting YouTube URLs\") as pbar:\n",
    "    for index, url in enumerate(yt_urls):        \n",
    "        try:\n",
    "            current = f'{index+1}/{len(yt_urls)}'\n",
    "    \n",
    "            # Get Video Information\n",
    "            yt = YouTube(\n",
    "                url,\n",
    "                use_oauth=authorize_yt,\n",
    "                allow_oauth_cache=authorize_yt,\n",
    "                on_progress_callback=on_progress\n",
    "            )\n",
    "            stream = yt.streams.get_audio_only()\n",
    "            video_id = yt.video_id\n",
    "            \n",
    "            # Sanitize Video File Name and Add YouTube Video ID\n",
    "            video_filename = f'[{video_id}] {sanitize_filename(stream.default_filename)}'\n",
    "            video_id_pattern_in_filename = re.compile(r'\\[(.*?)\\]')\n",
    "            \n",
    "            # Get File Name Without Extension (e.g., \".mp4\")\n",
    "            filename = os.path.splitext(video_filename)[0]\n",
    "            \n",
    "            # Skip If Transcription with YouTube ID Already Exists\n",
    "            has_transcription_file = False\n",
    "            pbar.set_description(f'Checking Existing Transcriptions [{current} File]')\n",
    "            if video_id and os.path.exists(transcription_output_path):\n",
    "                for existing_transcription_filename in os.listdir(transcription_output_path):\n",
    "                    if existing_transcription_filename == \".ipynb_checkpoints\": continue\n",
    "                    if (\n",
    "                        video_id_pattern_in_filename.search(existing_transcription_filename)\n",
    "                        and video_id_pattern_in_filename.search(existing_transcription_filename).group(1) == video_id\n",
    "                    ): \n",
    "                        has_transcription_file = True\n",
    "                        break\n",
    "            if has_transcription_file:\n",
    "                # Delete/Keep Video File\n",
    "                if remove_video:\n",
    "                    for existing_video_filename in os.listdir(video_output_path):\n",
    "                        if existing_video_filename == \".ipynb_checkpoints\": continue\n",
    "                        if (\n",
    "                            video_id_pattern_in_filename.search(existing_video_filename)\n",
    "                            and video_id_pattern_in_filename.search(existing_video_filename).group(1) == video_id\n",
    "                        ): os.remove(existing_video_filename)\n",
    "                            \n",
    "                # Delete/Keep Audio File\n",
    "                if remove_audio:\n",
    "                    for existing_audio_filename in os.listdir(audio_output_path):\n",
    "                        if existing_audio_filename == \".ipynb_checkpoints\": continue\n",
    "                        if (\n",
    "                            video_id_pattern_in_filename.search(existing_audio_filename)\n",
    "                            and video_id_pattern_in_filename.search(existing_audio_filename).group(1) == video_id\n",
    "                        ): os.remove(existing_audio_filename)\n",
    "                            \n",
    "                pbar.update(1)\n",
    "                continue\n",
    "                \n",
    "            # Log YouTube URL being Processed\n",
    "            print(\"\") # Just New Line for Better Output\n",
    "            print(f'Found YouTube Video (URL): {url}')\n",
    "            \n",
    "            # Download YouTube Video\n",
    "            pbar.set_description(f'Downloading [{current} Video] ')\n",
    "            video_file, video_filename = download_youtube_video(video_filename, stream)\n",
    "            \n",
    "            # Extract Audio from Video -> Delete/Keep Video File\n",
    "            pbar.set_description(f'Extracting [{current} Audio]')\n",
    "            audio_file, audio_filename = extract_audio_from_video(video_file, video_filename)\n",
    "            if remove_video: os.remove(video_file)\n",
    "            \n",
    "            # Transcribe Audio to Text -> Delete/Keep Audio File\n",
    "            pbar.set_description(f'Transcribing [{current} Text]')\n",
    "            transcribe_audio_to_text(audio_file, audio_filename)\n",
    "            if remove_audio: os.remove(audio_file)\n",
    "                \n",
    "            pbar.update(1)\n",
    "        except Exception as e: \n",
    "            print(f'{e}: {url}')\n",
    "            \n",
    "            pbar.update(1)\n",
    "            \n",
    "    pbar.set_description(\"Finished Data Gathering\")"
   ]
  },
  {
   "cell_type": "code",
   "execution_count": null,
   "metadata": {},
   "outputs": [],
   "source": []
  }
 ],
 "metadata": {
  "kernelspec": {
   "display_name": "Python 3 (ipykernel)",
   "language": "python",
   "name": "python3"
  },
  "language_info": {
   "codemirror_mode": {
    "name": "ipython",
    "version": 3
   },
   "file_extension": ".py",
   "mimetype": "text/x-python",
   "name": "python",
   "nbconvert_exporter": "python",
   "pygments_lexer": "ipython3",
   "version": "3.11.0"
  }
 },
 "nbformat": 4,
 "nbformat_minor": 4
}
