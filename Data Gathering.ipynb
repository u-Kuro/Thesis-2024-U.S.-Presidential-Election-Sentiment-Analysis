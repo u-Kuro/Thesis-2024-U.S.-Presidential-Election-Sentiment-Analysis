{
 "cells": [
  {
   "cell_type": "markdown",
   "metadata": {},
   "source": [
    "# Import Dependencies"
   ]
  },
  {
   "cell_type": "code",
   "execution_count": 1,
   "metadata": {},
   "outputs": [],
   "source": [
    "# Import Main Dependencies\n",
    "import os, re, ffmpeg, whisper\n",
    "from pytubefix import YouTube, Stream\n",
    "from pytubefix.cli import on_progress\n",
    "from pytubefix.innertube import _default_clients\n",
    "\n",
    "# Import Other Dependencies\n",
    "import torch\n",
    "from tqdm.auto import tqdm"
   ]
  },
  {
   "cell_type": "markdown",
   "metadata": {},
   "source": [
    "# Define Utilities"
   ]
  },
  {
   "cell_type": "code",
   "execution_count": 2,
   "metadata": {},
   "outputs": [],
   "source": [
    "def sanitize_filename(filename: str) -> str:\n",
    "    # Escape Double Quotes\n",
    "    filename = filename.replace('\"', '\\\\\"')\n",
    "\n",
    "    # Replace Invalid Characters with \"_\"\n",
    "    invalid_chars = re.compile(r'[<>:\"/\\\\|?*]')\n",
    "    sanitized_filename = invalid_chars.sub(\"_\", filename)\n",
    "\n",
    "    return sanitized_filename\n",
    "    \n",
    "def read_unique_items_from_file(file: str) -> list:\n",
    "    with open(file, \"r\") as f:\n",
    "        return list(set(url.strip() for url in f.readlines() if url.strip()))"
   ]
  },
  {
   "cell_type": "markdown",
   "metadata": {},
   "source": [
    "# Set Configurations"
   ]
  },
  {
   "cell_type": "code",
   "execution_count": 3,
   "metadata": {},
   "outputs": [],
   "source": [
    "# File Names\n",
    "yt_video_links_filename = \"YouTube Video Links.txt\"\n",
    "transcript_sentences_filename = \"transcript_sentences.csv\"\n",
    "\n",
    "# Folder Names\n",
    "video_output_path = \"Video\"\n",
    "audio_output_path = \"Audio\"\n",
    "transcription_output_path = \"Transcription\"\n",
    "\n",
    "# Boolean Flags\n",
    "remove_video = True\n",
    "remove_audio = True\n",
    "\n",
    "# Additional Dependency Configurations\n",
    "_default_clients[\"ANDROID_MUSIC\"] = _default_clients[\"ANDROID_CREATOR\"]"
   ]
  },
  {
   "cell_type": "markdown",
   "metadata": {},
   "source": [
    "# Collect Data (YouTube Videos)"
   ]
  },
  {
   "cell_type": "code",
   "execution_count": 4,
   "metadata": {},
   "outputs": [],
   "source": [
    "def download_youtube_video(video_filename: str, stream: Stream) -> tuple[str, str]:\n",
    "    # Create Video Directory\n",
    "    os.makedirs(video_output_path, exist_ok=True)\n",
    "    \n",
    "    # Set Path for Video File\n",
    "    video_file = os.path.join(video_output_path, video_filename)\n",
    "    \n",
    "    # Delete Old Existing Video File (note: to clean any corrupted file)\n",
    "    if os.path.exists(video_file):\n",
    "        os.remove(video_file)\n",
    "        \n",
    "    # Download Video File\n",
    "    print(\"\") # Just New Line for Better Output\n",
    "    print(f'Downloading (Video): {video_filename}')\n",
    "    print(\"\") # Just New Line for Better Output\n",
    "    stream.download(output_path=video_output_path, filename=video_filename)\n",
    "    print(\"\") # Just New Line for Better Output\n",
    "    print(\"\") # Just New Line for Better Output\n",
    "    \n",
    "    # Return Video File and Name\n",
    "    return video_file, video_filename"
   ]
  },
  {
   "cell_type": "markdown",
   "metadata": {},
   "source": [
    "# Audio Extraction (Video to Audio)"
   ]
  },
  {
   "cell_type": "code",
   "execution_count": 5,
   "metadata": {},
   "outputs": [],
   "source": [
    "def extract_audio_from_video(video_file: str, video_filename: str) -> tuple[str, str]:\n",
    "    # Create the Audio Directory\n",
    "    os.makedirs(audio_output_path, exist_ok=True)\n",
    "\n",
    "    # Set Audio File Name (\"[YouTube Video ID] [title].mp3\")\n",
    "    audio_filename = f'{os.path.splitext(video_filename)[0]}.mp3'\n",
    "\n",
    "    # Set Path for Audio File\n",
    "    audio_file = os.path.join(audio_output_path, audio_filename)\n",
    "    \n",
    "    # Delete Old Existing Audio File (note: to clean any corrupted file)\n",
    "    if os.path.exists(audio_file):\n",
    "        os.remove(audio_file)\n",
    "    \n",
    "    # Extract Audio File\n",
    "    print(f'Extracting (Audio): {audio_filename}')\n",
    "    print(\"\") # Just New Line for Better Output\n",
    "    (\n",
    "        ffmpeg\n",
    "        .input(video_file)\n",
    "        .output(audio_file, format=\"mp3\", acodec=\"libmp3lame\", loglevel=\"info\")\n",
    "        .run(overwrite_output=True)\n",
    "    )\n",
    "    \n",
    "    # Return Audio File and Name\n",
    "    return audio_file, audio_filename"
   ]
  },
  {
   "cell_type": "markdown",
   "metadata": {},
   "source": [
    "# Transcription (Audio to Text)"
   ]
  },
  {
   "cell_type": "code",
   "execution_count": 6,
   "metadata": {},
   "outputs": [],
   "source": [
    "def transcribe_audio_to_text(audio_file: str, audio_filename: str):\n",
    "    # Create the Transcription Directory\n",
    "    os.makedirs(transcription_output_path, exist_ok=True)\n",
    "    \n",
    "    # Set Transcription File Name (\"[YouTube Video ID] [title].txt\")\n",
    "    transcription_filename = f'{os.path.splitext(audio_filename)[0]}.txt'\n",
    "    \n",
    "    # Set Path for Transcription File\n",
    "    transcription_file = os.path.join(transcription_output_path, transcription_filename)\n",
    "            \n",
    "    # Get/Download OpenAI Whisper Model\n",
    "    \"\"\" \n",
    "    Models: \n",
    "        tiny, base, small, medium, large, turbo\n",
    "    English-Only:\n",
    "        tiny.en, base.en, small.en, medium.en\n",
    "    \n",
    "    Required VRAM:              Speed:\n",
    "        1) 1GB - tiny, base         1) 10x - tiny\n",
    "        2) 2GB - small              2) 8x - turbo\n",
    "        3) 5GB - medium             3) 7x - base\n",
    "        4) 6GB - turbo              4) 4x - small\n",
    "        5) 10GB - large             5) 2x - medium\n",
    "                                    6) 1x - large\n",
    "    \n",
    "    Quote from OpenAI: \n",
    "        - The .en models for English-only applications tend to perform better, especially for the tiny.en and base.en models.\n",
    "        We observed that the difference becomes less significant for the small.en and medium.en models.\n",
    "    \n",
    "    Note: 4GB lang VRAM ko kaya small.en ginamit\n",
    "    \"\"\"  \n",
    "    print(f'Transcribing (Text): {transcription_filename}')\n",
    "    print(\"\") # Just New Line for Better Output\n",
    "    device = torch.device(\"cuda\" if torch.cuda.is_available() else \"cpu\") \n",
    "    model = whisper.load_model(\"small.en\", device=device)\n",
    "    \n",
    "    # Transcribe Audio File (Saves Whole Text in Memory Before Disk to Avoid Corruption)\n",
    "    result = model.transcribe(audio_file, fp16=False, verbose=False)\n",
    "    try:\n",
    "        with open(transcription_file, \"w\", encoding=\"utf-8\") as f:\n",
    "            f.write(result[\"text\"])\n",
    "    except:\n",
    "        if os.path.exists(transcription_file):\n",
    "            os.remove(transcription_file)"
   ]
  },
  {
   "cell_type": "markdown",
   "metadata": {},
   "source": [
    "# Execute Data Gathering"
   ]
  },
  {
   "cell_type": "code",
   "execution_count": null,
   "metadata": {
    "scrolled": true
   },
   "outputs": [
    {
     "data": {
      "application/vnd.jupyter.widget-view+json": {
       "model_id": "956aaad6cb46430eaff7f7b99c360580",
       "version_major": 2,
       "version_minor": 0
      },
      "text/plain": [
       "Getting YouTube URLs:   0%|          | 0/269 [00:00<?, ?it/s]"
      ]
     },
     "metadata": {},
     "output_type": "display_data"
    },
    {
     "name": "stdout",
     "output_type": "stream",
     "text": [
      "\n",
      "Found YouTube Video (URL): https://www.youtube.com/watch?v=P46C21DTz6A\n",
      "\n",
      "Downloading (Video): [P46C21DTz6A] Kamala Harris Touts Popular Progressive Policy During Pennsylvania Stop.mp4\n",
      "\n",
      " ↳ |█████████████████████████████████████████| 100.0%\n",
      "\n",
      "Extracting (Audio): [P46C21DTz6A] Kamala Harris Touts Popular Progressive Policy During Pennsylvania Stop.mp3\n",
      "\n",
      "Transcribing (Text): [P46C21DTz6A] Kamala Harris Touts Popular Progressive Policy During Pennsylvania Stop.txt\n",
      "\n"
     ]
    },
    {
     "name": "stderr",
     "output_type": "stream",
     "text": [
      "C:\\Users\\MSI Laptop\\AppData\\Local\\Programs\\Python\\Python311\\Lib\\site-packages\\whisper\\__init__.py:150: FutureWarning: You are using `torch.load` with `weights_only=False` (the current default value), which uses the default pickle module implicitly. It is possible to construct malicious pickle data which will execute arbitrary code during unpickling (See https://github.com/pytorch/pytorch/blob/main/SECURITY.md#untrusted-models for more details). In a future release, the default value for `weights_only` will be flipped to `True`. This limits the functions that could be executed during unpickling. Arbitrary objects will no longer be allowed to be loaded via this mode unless they are explicitly allowlisted by the user via `torch.serialization.add_safe_globals`. We recommend you start setting `weights_only=True` for any use case where you don't have full control of the loaded file. Please open an issue on GitHub for any issues related to this experimental feature.\n",
      "  checkpoint = torch.load(fp, map_location=device)\n",
      "\n",
      "  0%|                                        | 0/48032 [00:00<?, ?frames/s]\u001b[A\n",
      "  6%|█▋                          | 2882/48032 [00:08<02:18, 325.63frames/s]\u001b[A\n",
      " 11%|███▏                        | 5514/48032 [00:14<01:52, 376.90frames/s]\u001b[A\n",
      " 18%|████▉                       | 8434/48032 [00:21<01:35, 414.73frames/s]\u001b[A\n",
      " 23%|██████▎                    | 11270/48032 [00:29<01:38, 374.60frames/s]\u001b[A\n",
      " 29%|███████▉                   | 14166/48032 [00:37<01:30, 372.31frames/s]\u001b[A\n",
      " 36%|█████████▌                 | 17118/48032 [00:45<01:22, 376.64frames/s]\u001b[A\n",
      " 42%|███████████▏               | 19990/48032 [00:51<01:07, 413.25frames/s]\u001b[A\n",
      " 47%|████████████▋              | 22498/48032 [00:58<01:06, 386.88frames/s]\u001b[A\n",
      " 52%|██████████████             | 25010/48032 [01:04<00:58, 393.52frames/s]\u001b[A\n",
      " 58%|███████████████▌           | 27698/48032 [01:13<00:55, 364.82frames/s]\u001b[A\n",
      " 63%|████████████████▉          | 30146/48032 [01:19<00:48, 370.76frames/s]\u001b[A\n",
      " 69%|██████████████████▌        | 32946/48032 [01:28<00:42, 356.09frames/s]\u001b[A\n",
      " 74%|████████████████████       | 35682/48032 [01:36<00:35, 346.60frames/s]\u001b[A\n",
      " 80%|█████████████████████▌     | 38290/48032 [01:43<00:27, 353.09frames/s]\u001b[A\n",
      " 86%|███████████████████████    | 41106/48032 [01:50<00:18, 372.60frames/s]\u001b[A\n",
      " 92%|████████████████████████▊  | 44070/48032 [01:56<00:09, 397.90frames/s]\u001b[A\n",
      " 97%|██████████████████████████▎| 46758/48032 [02:02<00:03, 409.46frames/s]\u001b[A\n",
      "100%|███████████████████████████| 48032/48032 [02:06<00:00, 380.00frames/s]\u001b[A\n"
     ]
    },
    {
     "name": "stdout",
     "output_type": "stream",
     "text": [
      "\n",
      "Found YouTube Video (URL): https://www.youtube.com/watch?v=_1pbeLlqvt0\n",
      "\n",
      "Downloading (Video): [_1pbeLlqvt0] Trump lost, confused on stage for 39 minutes while music plays.mp4\n",
      "\n",
      " ↳ |█████████████████████████████████████████| 100.0%\n",
      "\n",
      "Extracting (Audio): [_1pbeLlqvt0] Trump lost, confused on stage for 39 minutes while music plays.mp3\n",
      "\n",
      "Transcribing (Text): [_1pbeLlqvt0] Trump lost, confused on stage for 39 minutes while music plays.txt\n",
      "\n"
     ]
    },
    {
     "name": "stderr",
     "output_type": "stream",
     "text": [
      "\n",
      "  0%|                                        | 0/40709 [00:00<?, ?frames/s]\u001b[A\n",
      "  6%|█▋                          | 2460/40709 [00:05<01:19, 482.27frames/s]\u001b[A\n",
      " 13%|███▋                        | 5442/40709 [00:12<01:22, 427.78frames/s]\u001b[A\n",
      " 21%|█████▊                      | 8426/40709 [00:23<01:33, 345.19frames/s]\u001b[A\n",
      " 27%|███████▎                   | 10978/40709 [00:31<01:31, 325.82frames/s]\u001b[A\n",
      " 32%|████████▌                  | 12962/40709 [00:36<01:20, 344.17frames/s]\u001b[A\n",
      " 39%|██████████▌                | 15962/40709 [00:44<01:10, 351.26frames/s]\u001b[A\n",
      " 47%|████████████▌              | 18962/40709 [00:52<01:00, 360.77frames/s]\u001b[A\n",
      " 54%|██████████████▍            | 21798/40709 [00:59<00:50, 374.44frames/s]\u001b[A\n",
      " 61%|████████████████▍          | 24714/40709 [01:07<00:42, 377.68frames/s]\u001b[A\n",
      " 64%|█████████████████▎         | 26118/40709 [01:11<00:38, 375.42frames/s]\u001b[A\n",
      " 71%|███████████████████▎       | 29070/40709 [01:15<00:26, 446.81frames/s]\u001b[A\n",
      " 79%|█████████████████████▎     | 32070/40709 [01:21<00:21, 393.06frames/s]\u001b[A\n"
     ]
    },
    {
     "name": "stdout",
     "output_type": "stream",
     "text": [
      "\n",
      "Found YouTube Video (URL): https://www.youtube.com/watch?v=UGPWo4nK50I\n",
      "\n",
      "Downloading (Video): [UGPWo4nK50I] Black Men Slam Barack Obama for “Lecturing” Them on Voting For Kamala Harris _ Firstpost America.mp4\n",
      "\n",
      " ↳ |█████████████████████████████████████████| 100.0%\n",
      "\n",
      "Extracting (Audio): [UGPWo4nK50I] Black Men Slam Barack Obama for “Lecturing” Them on Voting For Kamala Harris _ Firstpost America.mp3\n",
      "\n",
      "Transcribing (Text): [UGPWo4nK50I] Black Men Slam Barack Obama for “Lecturing” Them on Voting For Kamala Harris _ Firstpost America.txt\n",
      "\n"
     ]
    },
    {
     "name": "stderr",
     "output_type": "stream",
     "text": [
      "\n",
      "  0%|                                        | 0/49414 [00:00<?, ?frames/s]\u001b[A\n",
      "  6%|█▌                          | 2812/49414 [00:07<02:10, 358.34frames/s]\u001b[A\n",
      " 11%|██▉                         | 5194/49414 [00:12<01:46, 414.01frames/s]\u001b[A\n",
      " 16%|████▌                       | 8100/49414 [00:20<01:45, 390.59frames/s]\u001b[A\n",
      " 22%|██████                     | 11062/49414 [00:27<01:34, 407.90frames/s]\u001b[A\n",
      " 28%|███████▌                   | 13810/49414 [00:35<01:33, 381.04frames/s]\u001b[A\n",
      " 34%|█████████▏                 | 16794/49414 [00:41<01:18, 415.85frames/s]\u001b[A\n",
      " 39%|██████████▋                | 19496/49414 [00:46<01:06, 447.01frames/s]\u001b[A\n",
      " 45%|████████████▎              | 22422/49414 [00:54<01:03, 424.42frames/s]\u001b[A\n",
      " 51%|█████████████▉             | 25422/49414 [00:56<00:44, 538.86frames/s]\u001b[A\n",
      " 56%|███████████████▏           | 27908/49414 [01:01<00:39, 549.42frames/s]\u001b[A\n",
      " 62%|████████████████▊          | 30852/49414 [01:09<00:39, 467.98frames/s]\u001b[A\n",
      " 68%|██████████████████▍        | 33728/49414 [01:20<00:42, 373.12frames/s]\u001b[A\n",
      " 74%|████████████████████       | 36724/49414 [01:30<00:36, 351.13frames/s]\u001b[A\n",
      " 80%|█████████████████████▌     | 39392/49414 [01:35<00:26, 376.78frames/s]\u001b[A\n",
      " 86%|███████████████████████▏   | 42392/49414 [01:44<00:19, 364.35frames/s]\u001b[A\n",
      " 92%|████████████████████████▋  | 45292/49414 [01:50<00:10, 398.13frames/s]\u001b[A\n",
      " 98%|██████████████████████████▍| 48292/49414 [01:55<00:02, 442.57frames/s]\u001b[A\n",
      "100%|███████████████████████████| 49414/49414 [01:58<00:00, 418.11frames/s]\u001b[A\n"
     ]
    },
    {
     "name": "stdout",
     "output_type": "stream",
     "text": [
      "\n",
      "Found YouTube Video (URL): https://www.youtube.com/watch?v=uSIuSWRNzf4\n",
      "\n",
      "Downloading (Video): [uSIuSWRNzf4] Incredible Arizona, Nevada and Pennsylvania Polls for October! Trump VS Harris.mp4\n",
      "\n",
      " ↳ |█████████████████████████████████████████| 100.0%\n",
      "\n",
      "Extracting (Audio): [uSIuSWRNzf4] Incredible Arizona, Nevada and Pennsylvania Polls for October! Trump VS Harris.mp3\n",
      "\n",
      "Transcribing (Text): [uSIuSWRNzf4] Incredible Arizona, Nevada and Pennsylvania Polls for October! Trump VS Harris.txt\n",
      "\n"
     ]
    },
    {
     "name": "stderr",
     "output_type": "stream",
     "text": [
      "\n",
      "  0%|                                        | 0/41456 [00:00<?, ?frames/s]\u001b[A\n",
      "  6%|█▋                          | 2584/41456 [00:06<01:38, 395.30frames/s]\u001b[A\n",
      " 12%|███▍                        | 5032/41456 [00:12<01:30, 404.63frames/s]\u001b[A\n",
      " 19%|█████▏                      | 7728/41456 [00:19<01:24, 401.05frames/s]\u001b[A\n",
      " 25%|██████▊                    | 10536/41456 [00:25<01:14, 416.60frames/s]\u001b[A\n",
      " 32%|████████▋                  | 13256/41456 [00:32<01:10, 402.24frames/s]\u001b[A\n",
      " 38%|██████████▏                | 15736/41456 [00:39<01:04, 398.09frames/s]\u001b[A\n",
      " 45%|████████████               | 18448/41456 [00:45<00:56, 404.55frames/s]\u001b[A\n",
      " 51%|█████████████▊             | 21168/41456 [00:52<00:50, 404.33frames/s]\u001b[A\n",
      " 58%|███████████████▌           | 23904/41456 [00:59<00:44, 398.81frames/s]\u001b[A\n",
      " 65%|█████████████████▍         | 26792/41456 [01:06<00:36, 402.64frames/s]\u001b[A\n",
      " 71%|███████████████████▏       | 29424/41456 [01:13<00:30, 400.93frames/s]\u001b[A\n",
      " 77%|████████████████████▊      | 32032/41456 [01:20<00:24, 391.17frames/s]\u001b[A\n",
      " 84%|██████████████████████▌    | 34728/41456 [01:26<00:17, 393.02frames/s]\u001b[A\n",
      " 90%|████████████████████████▍  | 37440/41456 [01:34<00:10, 385.76frames/s]\u001b[A\n",
      " 97%|██████████████████████████ | 40008/41456 [01:41<00:03, 374.46frames/s]\u001b[A\n",
      "100%|███████████████████████████| 41456/41456 [01:46<00:00, 390.11frames/s]\u001b[A\n"
     ]
    },
    {
     "name": "stdout",
     "output_type": "stream",
     "text": [
      "\n",
      "Found YouTube Video (URL): https://www.youtube.com/watch?v=f6clkqEJyUI\n",
      "\n",
      "Downloading (Video): [f6clkqEJyUI] DANGER_ TRUMP PENNSYLVANIA CROWD LEGITIMATELY MASSIVE.mp4\n",
      "\n",
      " ↳ |█████████████████████████████████████████| 100.0%\n",
      "\n",
      "Extracting (Audio): [f6clkqEJyUI] DANGER_ TRUMP PENNSYLVANIA CROWD LEGITIMATELY MASSIVE.mp3\n",
      "\n",
      "Transcribing (Text): [f6clkqEJyUI] DANGER_ TRUMP PENNSYLVANIA CROWD LEGITIMATELY MASSIVE.txt\n",
      "\n"
     ]
    },
    {
     "name": "stderr",
     "output_type": "stream",
     "text": [
      "\n",
      "  0%|                                        | 0/27736 [00:00<?, ?frames/s]\u001b[A\n",
      " 10%|██▋                         | 2652/27736 [00:07<01:09, 361.96frames/s]\u001b[A\n",
      " 20%|█████▌                      | 5480/27736 [00:14<00:59, 371.98frames/s]\u001b[A\n",
      " 30%|████████▎                   | 8232/27736 [00:22<00:52, 369.94frames/s]\u001b[A\n",
      " 40%|██████████▊                | 11064/27736 [00:32<00:50, 327.95frames/s]\u001b[A\n",
      " 50%|█████████████▋             | 14004/27736 [00:40<00:40, 335.13frames/s]\u001b[A\n",
      " 61%|████████████████▎          | 16782/27736 [00:49<00:32, 334.28frames/s]\u001b[A\n",
      " 70%|██████████████████▊        | 19350/27736 [00:56<00:25, 334.32frames/s]\u001b[A\n",
      " 79%|█████████████████████▍     | 22048/27736 [01:05<00:17, 321.16frames/s]\u001b[A\n",
      " 89%|████████████████████████   | 24704/27736 [01:13<00:09, 328.03frames/s]\u001b[A\n",
      "100%|███████████████████████████| 27736/27736 [01:23<00:00, 331.14frames/s]\u001b[A\n"
     ]
    },
    {
     "name": "stdout",
     "output_type": "stream",
     "text": [
      "\n",
      "Found YouTube Video (URL): https://www.youtube.com/watch?v=TsMh1YTa7aI\n",
      "\n",
      "Downloading (Video): [TsMh1YTa7aI] Donald Trump Must Win Pennsylvania!.mp4\n",
      "\n",
      " ↳ |█████████████████████████████████████████| 100.0%\n",
      "\n",
      "Extracting (Audio): [TsMh1YTa7aI] Donald Trump Must Win Pennsylvania!.mp3\n",
      "\n",
      "Transcribing (Text): [TsMh1YTa7aI] Donald Trump Must Win Pennsylvania!.txt\n",
      "\n"
     ]
    },
    {
     "name": "stderr",
     "output_type": "stream",
     "text": [
      "\n",
      "  0%|                                        | 0/84657 [00:00<?, ?frames/s]\u001b[A\n",
      "  3%|▉                           | 2948/84657 [00:07<03:39, 372.78frames/s]\u001b[A\n",
      "  7%|█▉                          | 5926/84657 [00:15<03:29, 374.96frames/s]\u001b[A\n",
      " 10%|██▉                         | 8800/84657 [00:24<03:36, 350.97frames/s]\u001b[A\n",
      " 14%|███▋                       | 11540/84657 [00:32<03:31, 346.46frames/s]\u001b[A\n",
      " 17%|████▌                      | 14244/84657 [00:40<03:22, 348.28frames/s]\u001b[A\n",
      " 20%|█████▎                     | 16706/84657 [00:47<03:16, 345.00frames/s]\u001b[A\n",
      " 23%|██████▏                    | 19328/84657 [00:54<03:06, 349.68frames/s]\u001b[A\n",
      " 26%|███████                    | 22136/84657 [01:02<02:58, 350.13frames/s]\u001b[A\n",
      " 29%|███████▊                   | 24498/84657 [01:10<02:58, 337.77frames/s]\u001b[A\n",
      " 32%|████████▌                  | 27042/84657 [01:17<02:45, 348.09frames/s]\u001b[A\n",
      " 35%|█████████▌                 | 29976/84657 [01:24<02:26, 374.40frames/s]\u001b[A\n",
      " 39%|██████████▍                | 32876/84657 [01:31<02:17, 375.35frames/s]\u001b[A\n",
      " 42%|███████████▎               | 35448/84657 [01:39<02:15, 362.57frames/s]\u001b[A\n",
      " 45%|████████████▏              | 38224/84657 [01:47<02:09, 358.30frames/s]\u001b[A\n",
      " 48%|█████████████              | 40964/84657 [01:55<02:06, 346.64frames/s]\u001b[A\n",
      " 52%|██████████████             | 43964/84657 [02:04<01:55, 351.83frames/s]\u001b[A\n",
      " 55%|██████████████▉            | 46824/84657 [02:12<01:49, 347.08frames/s]\u001b[A\n",
      " 59%|███████████████▊           | 49740/84657 [02:19<01:33, 372.89frames/s]\u001b[A\n",
      " 62%|████████████████▊          | 52692/84657 [02:26<01:23, 382.13frames/s]\u001b[A\n",
      " 66%|█████████████████▋         | 55628/84657 [02:33<01:14, 388.37frames/s]\u001b[A\n",
      " 69%|██████████████████▌        | 58056/84657 [02:39<01:07, 392.21frames/s]\u001b[A\n",
      " 72%|███████████████████▍       | 60964/84657 [02:46<00:59, 400.04frames/s]\u001b[A\n",
      " 75%|████████████████████▏      | 63440/84657 [02:54<00:56, 375.81frames/s]\u001b[A\n",
      " 78%|█████████████████████▏     | 66340/84657 [03:02<00:48, 373.90frames/s]\u001b[A\n",
      " 82%|██████████████████████     | 69228/84657 [03:10<00:41, 370.15frames/s]\u001b[A\n",
      " 85%|██████████████████████▉    | 72000/84657 [03:18<00:35, 358.47frames/s]\u001b[A\n",
      " 88%|███████████████████████▉   | 74860/84657 [03:26<00:27, 351.02frames/s]\u001b[A\n",
      " 92%|████████████████████████▊  | 77816/84657 [03:34<00:19, 357.90frames/s]\u001b[A\n",
      " 95%|█████████████████████████▊ | 80816/84657 [03:43<00:10, 360.67frames/s]\u001b[A\n",
      " 99%|██████████████████████████▋| 83816/84657 [03:51<00:02, 362.61frames/s]\u001b[A\n"
     ]
    },
    {
     "name": "stdout",
     "output_type": "stream",
     "text": [
      "\n",
      "Found YouTube Video (URL): https://www.youtube.com/watch?v=lKz-E0Y2dbo\n",
      "\n",
      "Downloading (Video): [lKz-E0Y2dbo] Poll_ Trump-Harris Tied in Pennsylvania at 49% With 1% Undecided.mp4\n",
      "\n",
      " ↳ |█████████████████████████████████████████| 100.0%\n",
      "\n",
      "Extracting (Audio): [lKz-E0Y2dbo] Poll_ Trump-Harris Tied in Pennsylvania at 49% With 1% Undecided.mp3\n",
      "\n",
      "Transcribing (Text): [lKz-E0Y2dbo] Poll_ Trump-Harris Tied in Pennsylvania at 49% With 1% Undecided.txt\n",
      "\n"
     ]
    },
    {
     "name": "stderr",
     "output_type": "stream",
     "text": [
      "\n",
      "  0%|                                        | 0/32201 [00:00<?, ?frames/s]\u001b[A\n",
      "  9%|██▍                         | 2760/32201 [00:07<01:21, 359.18frames/s]\u001b[A\n",
      " 18%|████▉                       | 5640/32201 [00:15<01:14, 357.48frames/s]\u001b[A"
     ]
    }
   ],
   "source": [
    "yt_urls = read_unique_items_from_file(yt_video_links_filename)\n",
    "\n",
    "with tqdm(total=len(yt_urls), desc=\"Getting YouTube URLs\") as pbar:\n",
    "    for index, url in enumerate(yt_urls):        \n",
    "        try:\n",
    "            current = f'{index+1}/{len(yt_urls)}'\n",
    "    \n",
    "            # Get Video Information\n",
    "            yt = YouTube(url, on_progress_callback=on_progress)\n",
    "            stream = yt.streams.get_audio_only()\n",
    "            # Sanitize Video File Name and Add YouTube Video ID\n",
    "            video_filename = f'[{yt.video_id}] {sanitize_filename(stream.default_filename)}'\n",
    "            \n",
    "            # Get File Name Without Extension (e.g., \".mp4\")\n",
    "            filename = os.path.splitext(video_filename)[0]\n",
    "            \n",
    "            # Skip If Transcription Already Exists\n",
    "            transcription_exists = False\n",
    "            pbar.set_description(f'Checking Existing Transcriptions [{current} File]')\n",
    "            if os.path.exists(transcription_output_path):\n",
    "                transcription_filename = f'{filename}.txt'\n",
    "                for existing_transcription_filename in os.listdir(transcription_output_path):\n",
    "                    if existing_transcription_filename == transcription_filename:\n",
    "                        existing_transcription_path = os.path.join(transcription_output_path, existing_transcription_filename)\n",
    "                        if os.path.exists(existing_transcription_path):\n",
    "                            transcription_exists = True\n",
    "            if transcription_exists:\n",
    "                # Delete/Keep Video File\n",
    "                if remove_video:\n",
    "                    video_file = os.path.join(video_output_path, video_filename)\n",
    "                    if os.path.exists(video_file):\n",
    "                        os.remove(video_file)\n",
    "                        \n",
    "                # Delete/Keep Audio File\n",
    "                if remove_audio:\n",
    "                    audio_filename = f'{filename}.mp3'\n",
    "                    audio_file = os.path.join(audio_output_path, audio_filename)\n",
    "                    if os.path.exists(audio_file):\n",
    "                        os.remove(audio_file)\n",
    "                        \n",
    "                pbar.update(1)\n",
    "                continue\n",
    "    \n",
    "            # Log YouTube URL being Processed\n",
    "            print(\"\") # Just New Line for Better Output\n",
    "            print(f'Found YouTube Video (URL): {url}')\n",
    "            \n",
    "            # Download YouTube Video\n",
    "            pbar.set_description(f'Downloading [{current} Video] ')\n",
    "            video_file, video_filename = download_youtube_video(video_filename, stream)\n",
    "            \n",
    "            # Extract Audio from Video -> Delete/Keep Video File\n",
    "            pbar.set_description(f'Extracting [{current} Audio]')\n",
    "            audio_file, audio_filename = extract_audio_from_video(video_file, video_filename)\n",
    "            if remove_video: os.remove(video_file)\n",
    "            \n",
    "            # Transcribe Audio to Text -> Delete/Keep Audio File\n",
    "            pbar.set_description(f'Transcribing [{current} Text]')\n",
    "            transcribe_audio_to_text(audio_file, audio_filename)\n",
    "            if remove_audio: os.remove(audio_file)\n",
    "                \n",
    "            pbar.update(1)\n",
    "        except Exception as e: \n",
    "            print(e)\n",
    "            pbar.update(1)\n",
    "    pbar.set_description(\"Finished Data Gathering\")"
   ]
  }
 ],
 "metadata": {
  "kernelspec": {
   "display_name": "Python 3 (ipykernel)",
   "language": "python",
   "name": "python3"
  },
  "language_info": {
   "codemirror_mode": {
    "name": "ipython",
    "version": 3
   },
   "file_extension": ".py",
   "mimetype": "text/x-python",
   "name": "python",
   "nbconvert_exporter": "python",
   "pygments_lexer": "ipython3",
   "version": "3.11.0"
  }
 },
 "nbformat": 4,
 "nbformat_minor": 4
}
